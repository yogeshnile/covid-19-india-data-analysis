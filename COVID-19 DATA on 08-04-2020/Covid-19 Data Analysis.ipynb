{
 "cells": [
  {
   "cell_type": "code",
   "execution_count": 20,
   "metadata": {},
   "outputs": [],
   "source": [
    "import pandas as pd\n",
    "\n",
    "import matplotlib.pyplot as plt\n",
    "from matplotlib import style\n",
    "style.use('ggplot')\n",
    "\n",
    "import chart_studio\n",
    "\n",
    "import plotly\n",
    "import plotly.express as px\n",
    "import plotly.graph_objects as go\n",
    "import cufflinks as cf\n",
    "import plotly.offline as pyo\n",
    "from plotly.offline import init_notebook_mode,plot,iplot\n",
    "\n",
    "import folium"
   ]
  },
  {
   "cell_type": "code",
   "execution_count": 2,
   "metadata": {},
   "outputs": [
    {
     "data": {
      "text/html": [
       "        <script type=\"text/javascript\">\n",
       "        window.PlotlyConfig = {MathJaxConfig: 'local'};\n",
       "        if (window.MathJax) {MathJax.Hub.Config({SVG: {font: \"STIX-Web\"}});}\n",
       "        if (typeof require !== 'undefined') {\n",
       "        require.undef(\"plotly\");\n",
       "        requirejs.config({\n",
       "            paths: {\n",
       "                'plotly': ['https://cdn.plot.ly/plotly-latest.min']\n",
       "            }\n",
       "        });\n",
       "        require(['plotly'], function(Plotly) {\n",
       "            window._Plotly = Plotly;\n",
       "        });\n",
       "        }\n",
       "        </script>\n",
       "        "
      ]
     },
     "metadata": {},
     "output_type": "display_data"
    },
    {
     "data": {
      "text/html": [
       "        <script type=\"text/javascript\">\n",
       "        window.PlotlyConfig = {MathJaxConfig: 'local'};\n",
       "        if (window.MathJax) {MathJax.Hub.Config({SVG: {font: \"STIX-Web\"}});}\n",
       "        if (typeof require !== 'undefined') {\n",
       "        require.undef(\"plotly\");\n",
       "        requirejs.config({\n",
       "            paths: {\n",
       "                'plotly': ['https://cdn.plot.ly/plotly-latest.min']\n",
       "            }\n",
       "        });\n",
       "        require(['plotly'], function(Plotly) {\n",
       "            window._Plotly = Plotly;\n",
       "        });\n",
       "        }\n",
       "        </script>\n",
       "        "
      ]
     },
     "metadata": {},
     "output_type": "display_data"
    }
   ],
   "source": [
    "pyo.init_notebook_mode(connected=True)\n",
    "cf.go_offline()"
   ]
  },
  {
   "cell_type": "code",
   "execution_count": 3,
   "metadata": {},
   "outputs": [],
   "source": [
    "covid_india = pd.read_csv('covid-19-india-case.csv')"
   ]
  },
  {
   "cell_type": "code",
   "execution_count": 4,
   "metadata": {},
   "outputs": [],
   "source": [
    "covid_india=covid_india.dropna()"
   ]
  },
  {
   "cell_type": "code",
   "execution_count": 5,
   "metadata": {},
   "outputs": [
    {
     "data": {
      "text/html": [
       "<div>\n",
       "<style scoped>\n",
       "    .dataframe tbody tr th:only-of-type {\n",
       "        vertical-align: middle;\n",
       "    }\n",
       "\n",
       "    .dataframe tbody tr th {\n",
       "        vertical-align: top;\n",
       "    }\n",
       "\n",
       "    .dataframe thead th {\n",
       "        text-align: right;\n",
       "    }\n",
       "</style>\n",
       "<table border=\"1\" class=\"dataframe\">\n",
       "  <thead>\n",
       "    <tr style=\"text-align: right;\">\n",
       "      <th></th>\n",
       "      <th>STATE NAME</th>\n",
       "      <th>TOTAL CONFIRMED</th>\n",
       "      <th>CURED/DISCHARGED/MIGRATED</th>\n",
       "      <th>DEATH</th>\n",
       "    </tr>\n",
       "  </thead>\n",
       "  <tbody>\n",
       "    <tr>\n",
       "      <th>0</th>\n",
       "      <td>AndhraPradesh</td>\n",
       "      <td>226.0</td>\n",
       "      <td>1.0</td>\n",
       "      <td>3.0</td>\n",
       "    </tr>\n",
       "    <tr>\n",
       "      <th>1</th>\n",
       "      <td>AndamanNicobar</td>\n",
       "      <td>10.0</td>\n",
       "      <td>0.0</td>\n",
       "      <td>0.0</td>\n",
       "    </tr>\n",
       "    <tr>\n",
       "      <th>2</th>\n",
       "      <td>Bihar</td>\n",
       "      <td>32.0</td>\n",
       "      <td>0.0</td>\n",
       "      <td>1.0</td>\n",
       "    </tr>\n",
       "    <tr>\n",
       "      <th>3</th>\n",
       "      <td>Chandigarh</td>\n",
       "      <td>18.0</td>\n",
       "      <td>7.0</td>\n",
       "      <td>0.0</td>\n",
       "    </tr>\n",
       "    <tr>\n",
       "      <th>4</th>\n",
       "      <td>Chhattisgarh</td>\n",
       "      <td>10.0</td>\n",
       "      <td>9.0</td>\n",
       "      <td>0.0</td>\n",
       "    </tr>\n",
       "  </tbody>\n",
       "</table>\n",
       "</div>"
      ],
      "text/plain": [
       "       STATE NAME  TOTAL CONFIRMED  CURED/DISCHARGED/MIGRATED  DEATH\n",
       "0   AndhraPradesh            226.0                        1.0    3.0\n",
       "1  AndamanNicobar             10.0                        0.0    0.0\n",
       "2           Bihar             32.0                        0.0    1.0\n",
       "3      Chandigarh             18.0                        7.0    0.0\n",
       "4    Chhattisgarh             10.0                        9.0    0.0"
      ]
     },
     "execution_count": 5,
     "metadata": {},
     "output_type": "execute_result"
    }
   ],
   "source": [
    "covid_india.head()"
   ]
  },
  {
   "cell_type": "code",
   "execution_count": 6,
   "metadata": {},
   "outputs": [
    {
     "data": {
      "text/plain": [
       "STATE NAME                    object\n",
       "TOTAL CONFIRMED              float64\n",
       "CURED/DISCHARGED/MIGRATED    float64\n",
       "DEATH                        float64\n",
       "dtype: object"
      ]
     },
     "execution_count": 6,
     "metadata": {},
     "output_type": "execute_result"
    }
   ],
   "source": [
    "covid_india.dtypes"
   ]
  },
  {
   "cell_type": "code",
   "execution_count": 7,
   "metadata": {},
   "outputs": [],
   "source": [
    "covid_india['ACTIVE CASES'] = covid_india['TOTAL CONFIRMED'] - covid_india['CURED/DISCHARGED/MIGRATED'] - covid_india['DEATH']"
   ]
  },
  {
   "cell_type": "code",
   "execution_count": 8,
   "metadata": {},
   "outputs": [
    {
     "data": {
      "text/html": [
       "<div>\n",
       "<style scoped>\n",
       "    .dataframe tbody tr th:only-of-type {\n",
       "        vertical-align: middle;\n",
       "    }\n",
       "\n",
       "    .dataframe tbody tr th {\n",
       "        vertical-align: top;\n",
       "    }\n",
       "\n",
       "    .dataframe thead th {\n",
       "        text-align: right;\n",
       "    }\n",
       "</style>\n",
       "<table border=\"1\" class=\"dataframe\">\n",
       "  <thead>\n",
       "    <tr style=\"text-align: right;\">\n",
       "      <th></th>\n",
       "      <th>STATE NAME</th>\n",
       "      <th>TOTAL CONFIRMED</th>\n",
       "      <th>CURED/DISCHARGED/MIGRATED</th>\n",
       "      <th>DEATH</th>\n",
       "      <th>ACTIVE CASES</th>\n",
       "    </tr>\n",
       "  </thead>\n",
       "  <tbody>\n",
       "    <tr>\n",
       "      <th>0</th>\n",
       "      <td>AndhraPradesh</td>\n",
       "      <td>226.0</td>\n",
       "      <td>1.0</td>\n",
       "      <td>3.0</td>\n",
       "      <td>222.0</td>\n",
       "    </tr>\n",
       "    <tr>\n",
       "      <th>1</th>\n",
       "      <td>AndamanNicobar</td>\n",
       "      <td>10.0</td>\n",
       "      <td>0.0</td>\n",
       "      <td>0.0</td>\n",
       "      <td>10.0</td>\n",
       "    </tr>\n",
       "    <tr>\n",
       "      <th>2</th>\n",
       "      <td>Bihar</td>\n",
       "      <td>32.0</td>\n",
       "      <td>0.0</td>\n",
       "      <td>1.0</td>\n",
       "      <td>31.0</td>\n",
       "    </tr>\n",
       "    <tr>\n",
       "      <th>3</th>\n",
       "      <td>Chandigarh</td>\n",
       "      <td>18.0</td>\n",
       "      <td>7.0</td>\n",
       "      <td>0.0</td>\n",
       "      <td>11.0</td>\n",
       "    </tr>\n",
       "    <tr>\n",
       "      <th>4</th>\n",
       "      <td>Chhattisgarh</td>\n",
       "      <td>10.0</td>\n",
       "      <td>9.0</td>\n",
       "      <td>0.0</td>\n",
       "      <td>1.0</td>\n",
       "    </tr>\n",
       "  </tbody>\n",
       "</table>\n",
       "</div>"
      ],
      "text/plain": [
       "       STATE NAME  TOTAL CONFIRMED  CURED/DISCHARGED/MIGRATED  DEATH  \\\n",
       "0   AndhraPradesh            226.0                        1.0    3.0   \n",
       "1  AndamanNicobar             10.0                        0.0    0.0   \n",
       "2           Bihar             32.0                        0.0    1.0   \n",
       "3      Chandigarh             18.0                        7.0    0.0   \n",
       "4    Chhattisgarh             10.0                        9.0    0.0   \n",
       "\n",
       "   ACTIVE CASES  \n",
       "0         222.0  \n",
       "1          10.0  \n",
       "2          31.0  \n",
       "3          11.0  \n",
       "4           1.0  "
      ]
     },
     "execution_count": 8,
     "metadata": {},
     "output_type": "execute_result"
    }
   ],
   "source": [
    "covid_india.head()"
   ]
  },
  {
   "cell_type": "code",
   "execution_count": 9,
   "metadata": {},
   "outputs": [],
   "source": [
    "covid_india['TOTAL CONFIRMED'] = covid_india['TOTAL CONFIRMED'].astype(int)\n",
    "covid_india['CURED/DISCHARGED/MIGRATED'] = covid_india['CURED/DISCHARGED/MIGRATED'].astype(int)\n",
    "covid_india['DEATH'] = covid_india['DEATH'].astype(int)\n",
    "covid_india['ACTIVE CASES'] = covid_india['ACTIVE CASES'].astype(int)"
   ]
  },
  {
   "cell_type": "code",
   "execution_count": 10,
   "metadata": {},
   "outputs": [
    {
     "data": {
      "text/html": [
       "<div>\n",
       "<style scoped>\n",
       "    .dataframe tbody tr th:only-of-type {\n",
       "        vertical-align: middle;\n",
       "    }\n",
       "\n",
       "    .dataframe tbody tr th {\n",
       "        vertical-align: top;\n",
       "    }\n",
       "\n",
       "    .dataframe thead th {\n",
       "        text-align: right;\n",
       "    }\n",
       "</style>\n",
       "<table border=\"1\" class=\"dataframe\">\n",
       "  <thead>\n",
       "    <tr style=\"text-align: right;\">\n",
       "      <th></th>\n",
       "      <th>STATE NAME</th>\n",
       "      <th>TOTAL CONFIRMED</th>\n",
       "      <th>CURED/DISCHARGED/MIGRATED</th>\n",
       "      <th>DEATH</th>\n",
       "      <th>ACTIVE CASES</th>\n",
       "    </tr>\n",
       "  </thead>\n",
       "  <tbody>\n",
       "    <tr>\n",
       "      <th>0</th>\n",
       "      <td>AndhraPradesh</td>\n",
       "      <td>226</td>\n",
       "      <td>1</td>\n",
       "      <td>3</td>\n",
       "      <td>222</td>\n",
       "    </tr>\n",
       "    <tr>\n",
       "      <th>1</th>\n",
       "      <td>AndamanNicobar</td>\n",
       "      <td>10</td>\n",
       "      <td>0</td>\n",
       "      <td>0</td>\n",
       "      <td>10</td>\n",
       "    </tr>\n",
       "    <tr>\n",
       "      <th>2</th>\n",
       "      <td>Bihar</td>\n",
       "      <td>32</td>\n",
       "      <td>0</td>\n",
       "      <td>1</td>\n",
       "      <td>31</td>\n",
       "    </tr>\n",
       "    <tr>\n",
       "      <th>3</th>\n",
       "      <td>Chandigarh</td>\n",
       "      <td>18</td>\n",
       "      <td>7</td>\n",
       "      <td>0</td>\n",
       "      <td>11</td>\n",
       "    </tr>\n",
       "    <tr>\n",
       "      <th>4</th>\n",
       "      <td>Chhattisgarh</td>\n",
       "      <td>10</td>\n",
       "      <td>9</td>\n",
       "      <td>0</td>\n",
       "      <td>1</td>\n",
       "    </tr>\n",
       "  </tbody>\n",
       "</table>\n",
       "</div>"
      ],
      "text/plain": [
       "       STATE NAME  TOTAL CONFIRMED  CURED/DISCHARGED/MIGRATED  DEATH  \\\n",
       "0   AndhraPradesh              226                          1      3   \n",
       "1  AndamanNicobar               10                          0      0   \n",
       "2           Bihar               32                          0      1   \n",
       "3      Chandigarh               18                          7      0   \n",
       "4    Chhattisgarh               10                          9      0   \n",
       "\n",
       "   ACTIVE CASES  \n",
       "0           222  \n",
       "1            10  \n",
       "2            31  \n",
       "3            11  \n",
       "4             1  "
      ]
     },
     "execution_count": 10,
     "metadata": {},
     "output_type": "execute_result"
    }
   ],
   "source": [
    "covid_india.head()"
   ]
  },
  {
   "cell_type": "code",
   "execution_count": 11,
   "metadata": {},
   "outputs": [
    {
     "data": {
      "text/html": [
       "<style  type=\"text/css\" >\n",
       "    #T_46acd8aa_79c4_11ea_94b9_ebd8f4d88e5crow0_col1 {\n",
       "            background-color:  #fcb89e;\n",
       "            color:  #000000;\n",
       "        }    #T_46acd8aa_79c4_11ea_94b9_ebd8f4d88e5crow0_col2 {\n",
       "            background-color:  #fff2ec;\n",
       "            color:  #000000;\n",
       "        }    #T_46acd8aa_79c4_11ea_94b9_ebd8f4d88e5crow0_col3 {\n",
       "            background-color:  #feeae1;\n",
       "            color:  #000000;\n",
       "        }    #T_46acd8aa_79c4_11ea_94b9_ebd8f4d88e5crow0_col4 {\n",
       "            background-color:  #fcae92;\n",
       "            color:  #000000;\n",
       "        }    #T_46acd8aa_79c4_11ea_94b9_ebd8f4d88e5crow1_col1 {\n",
       "            background-color:  #fff4ee;\n",
       "            color:  #000000;\n",
       "        }    #T_46acd8aa_79c4_11ea_94b9_ebd8f4d88e5crow1_col2 {\n",
       "            background-color:  #fff5f0;\n",
       "            color:  #000000;\n",
       "        }    #T_46acd8aa_79c4_11ea_94b9_ebd8f4d88e5crow1_col3 {\n",
       "            background-color:  #fff5f0;\n",
       "            color:  #000000;\n",
       "        }    #T_46acd8aa_79c4_11ea_94b9_ebd8f4d88e5crow1_col4 {\n",
       "            background-color:  #fff3ed;\n",
       "            color:  #000000;\n",
       "        }    #T_46acd8aa_79c4_11ea_94b9_ebd8f4d88e5crow2_col1 {\n",
       "            background-color:  #ffefe8;\n",
       "            color:  #000000;\n",
       "        }    #T_46acd8aa_79c4_11ea_94b9_ebd8f4d88e5crow2_col2 {\n",
       "            background-color:  #fff5f0;\n",
       "            color:  #000000;\n",
       "        }    #T_46acd8aa_79c4_11ea_94b9_ebd8f4d88e5crow2_col3 {\n",
       "            background-color:  #fff2eb;\n",
       "            color:  #000000;\n",
       "        }    #T_46acd8aa_79c4_11ea_94b9_ebd8f4d88e5crow2_col4 {\n",
       "            background-color:  #ffeee7;\n",
       "            color:  #000000;\n",
       "        }    #T_46acd8aa_79c4_11ea_94b9_ebd8f4d88e5crow3_col1 {\n",
       "            background-color:  #fff2eb;\n",
       "            color:  #000000;\n",
       "        }    #T_46acd8aa_79c4_11ea_94b9_ebd8f4d88e5crow3_col2 {\n",
       "            background-color:  #fee1d4;\n",
       "            color:  #000000;\n",
       "        }    #T_46acd8aa_79c4_11ea_94b9_ebd8f4d88e5crow3_col3 {\n",
       "            background-color:  #fff5f0;\n",
       "            color:  #000000;\n",
       "        }    #T_46acd8aa_79c4_11ea_94b9_ebd8f4d88e5crow3_col4 {\n",
       "            background-color:  #fff3ed;\n",
       "            color:  #000000;\n",
       "        }    #T_46acd8aa_79c4_11ea_94b9_ebd8f4d88e5crow4_col1 {\n",
       "            background-color:  #fff4ee;\n",
       "            color:  #000000;\n",
       "        }    #T_46acd8aa_79c4_11ea_94b9_ebd8f4d88e5crow4_col2 {\n",
       "            background-color:  #fed8c7;\n",
       "            color:  #000000;\n",
       "        }    #T_46acd8aa_79c4_11ea_94b9_ebd8f4d88e5crow4_col3 {\n",
       "            background-color:  #fff5f0;\n",
       "            color:  #000000;\n",
       "        }    #T_46acd8aa_79c4_11ea_94b9_ebd8f4d88e5crow4_col4 {\n",
       "            background-color:  #fff5f0;\n",
       "            color:  #000000;\n",
       "        }    #T_46acd8aa_79c4_11ea_94b9_ebd8f4d88e5crow5_col1 {\n",
       "            background-color:  #e43027;\n",
       "            color:  #f1f1f1;\n",
       "        }    #T_46acd8aa_79c4_11ea_94b9_ebd8f4d88e5crow5_col2 {\n",
       "            background-color:  #fc9777;\n",
       "            color:  #000000;\n",
       "        }    #T_46acd8aa_79c4_11ea_94b9_ebd8f4d88e5crow5_col3 {\n",
       "            background-color:  #fedaca;\n",
       "            color:  #000000;\n",
       "        }    #T_46acd8aa_79c4_11ea_94b9_ebd8f4d88e5crow5_col4 {\n",
       "            background-color:  #d42121;\n",
       "            color:  #f1f1f1;\n",
       "        }    #T_46acd8aa_79c4_11ea_94b9_ebd8f4d88e5crow6_col1 {\n",
       "            background-color:  #fff4ef;\n",
       "            color:  #000000;\n",
       "        }    #T_46acd8aa_79c4_11ea_94b9_ebd8f4d88e5crow6_col2 {\n",
       "            background-color:  #fff5f0;\n",
       "            color:  #000000;\n",
       "        }    #T_46acd8aa_79c4_11ea_94b9_ebd8f4d88e5crow6_col3 {\n",
       "            background-color:  #fff5f0;\n",
       "            color:  #000000;\n",
       "        }    #T_46acd8aa_79c4_11ea_94b9_ebd8f4d88e5crow6_col4 {\n",
       "            background-color:  #fff4ee;\n",
       "            color:  #000000;\n",
       "        }    #T_46acd8aa_79c4_11ea_94b9_ebd8f4d88e5crow7_col1 {\n",
       "            background-color:  #fdcdb9;\n",
       "            color:  #000000;\n",
       "        }    #T_46acd8aa_79c4_11ea_94b9_ebd8f4d88e5crow7_col2 {\n",
       "            background-color:  #fc8060;\n",
       "            color:  #000000;\n",
       "        }    #T_46acd8aa_79c4_11ea_94b9_ebd8f4d88e5crow7_col3 {\n",
       "            background-color:  #fcb499;\n",
       "            color:  #000000;\n",
       "        }    #T_46acd8aa_79c4_11ea_94b9_ebd8f4d88e5crow7_col4 {\n",
       "            background-color:  #fdd4c2;\n",
       "            color:  #000000;\n",
       "        }    #T_46acd8aa_79c4_11ea_94b9_ebd8f4d88e5crow8_col1 {\n",
       "            background-color:  #fee4d8;\n",
       "            color:  #000000;\n",
       "        }    #T_46acd8aa_79c4_11ea_94b9_ebd8f4d88e5crow8_col2 {\n",
       "            background-color:  #fc8060;\n",
       "            color:  #000000;\n",
       "        }    #T_46acd8aa_79c4_11ea_94b9_ebd8f4d88e5crow8_col3 {\n",
       "            background-color:  #fff2eb;\n",
       "            color:  #000000;\n",
       "        }    #T_46acd8aa_79c4_11ea_94b9_ebd8f4d88e5crow8_col4 {\n",
       "            background-color:  #fee7dc;\n",
       "            color:  #000000;\n",
       "        }    #T_46acd8aa_79c4_11ea_94b9_ebd8f4d88e5crow9_col1 {\n",
       "            background-color:  #fff3ed;\n",
       "            color:  #000000;\n",
       "        }    #T_46acd8aa_79c4_11ea_94b9_ebd8f4d88e5crow9_col2 {\n",
       "            background-color:  #fff0e8;\n",
       "            color:  #000000;\n",
       "        }    #T_46acd8aa_79c4_11ea_94b9_ebd8f4d88e5crow9_col3 {\n",
       "            background-color:  #fff2eb;\n",
       "            color:  #000000;\n",
       "        }    #T_46acd8aa_79c4_11ea_94b9_ebd8f4d88e5crow9_col4 {\n",
       "            background-color:  #fff3ed;\n",
       "            color:  #000000;\n",
       "        }    #T_46acd8aa_79c4_11ea_94b9_ebd8f4d88e5crow10_col1 {\n",
       "            background-color:  #fedfd0;\n",
       "            color:  #000000;\n",
       "        }    #T_46acd8aa_79c4_11ea_94b9_ebd8f4d88e5crow10_col2 {\n",
       "            background-color:  #feeae0;\n",
       "            color:  #000000;\n",
       "        }    #T_46acd8aa_79c4_11ea_94b9_ebd8f4d88e5crow10_col3 {\n",
       "            background-color:  #ffeee7;\n",
       "            color:  #000000;\n",
       "        }    #T_46acd8aa_79c4_11ea_94b9_ebd8f4d88e5crow10_col4 {\n",
       "            background-color:  #fedbcc;\n",
       "            color:  #000000;\n",
       "        }    #T_46acd8aa_79c4_11ea_94b9_ebd8f4d88e5crow11_col1 {\n",
       "            background-color:  #fdcab5;\n",
       "            color:  #000000;\n",
       "        }    #T_46acd8aa_79c4_11ea_94b9_ebd8f4d88e5crow11_col2 {\n",
       "            background-color:  #fc8060;\n",
       "            color:  #000000;\n",
       "        }    #T_46acd8aa_79c4_11ea_94b9_ebd8f4d88e5crow11_col3 {\n",
       "            background-color:  #fee7dc;\n",
       "            color:  #000000;\n",
       "        }    #T_46acd8aa_79c4_11ea_94b9_ebd8f4d88e5crow11_col4 {\n",
       "            background-color:  #fdcdb9;\n",
       "            color:  #000000;\n",
       "        }    #T_46acd8aa_79c4_11ea_94b9_ebd8f4d88e5crow12_col1 {\n",
       "            background-color:  #fc9272;\n",
       "            color:  #000000;\n",
       "        }    #T_46acd8aa_79c4_11ea_94b9_ebd8f4d88e5crow12_col2 {\n",
       "            background-color:  #67000d;\n",
       "            color:  #f1f1f1;\n",
       "        }    #T_46acd8aa_79c4_11ea_94b9_ebd8f4d88e5crow12_col3 {\n",
       "            background-color:  #ffeee7;\n",
       "            color:  #000000;\n",
       "        }    #T_46acd8aa_79c4_11ea_94b9_ebd8f4d88e5crow12_col4 {\n",
       "            background-color:  #fc9b7c;\n",
       "            color:  #000000;\n",
       "        }    #T_46acd8aa_79c4_11ea_94b9_ebd8f4d88e5crow13_col1 {\n",
       "            background-color:  #fff3ed;\n",
       "            color:  #000000;\n",
       "        }    #T_46acd8aa_79c4_11ea_94b9_ebd8f4d88e5crow13_col2 {\n",
       "            background-color:  #fdd2bf;\n",
       "            color:  #000000;\n",
       "        }    #T_46acd8aa_79c4_11ea_94b9_ebd8f4d88e5crow13_col3 {\n",
       "            background-color:  #fff5f0;\n",
       "            color:  #000000;\n",
       "        }    #T_46acd8aa_79c4_11ea_94b9_ebd8f4d88e5crow13_col4 {\n",
       "            background-color:  #fff4ef;\n",
       "            color:  #000000;\n",
       "        }    #T_46acd8aa_79c4_11ea_94b9_ebd8f4d88e5crow14_col1 {\n",
       "            background-color:  #fcb79c;\n",
       "            color:  #000000;\n",
       "        }    #T_46acd8aa_79c4_11ea_94b9_ebd8f4d88e5crow14_col2 {\n",
       "            background-color:  #fff5f0;\n",
       "            color:  #000000;\n",
       "        }    #T_46acd8aa_79c4_11ea_94b9_ebd8f4d88e5crow14_col3 {\n",
       "            background-color:  #fcb499;\n",
       "            color:  #000000;\n",
       "        }    #T_46acd8aa_79c4_11ea_94b9_ebd8f4d88e5crow14_col4 {\n",
       "            background-color:  #fcb095;\n",
       "            color:  #000000;\n",
       "        }    #T_46acd8aa_79c4_11ea_94b9_ebd8f4d88e5crow15_col1 {\n",
       "            background-color:  #67000d;\n",
       "            color:  #f1f1f1;\n",
       "        }    #T_46acd8aa_79c4_11ea_94b9_ebd8f4d88e5crow15_col2 {\n",
       "            background-color:  #77040f;\n",
       "            color:  #f1f1f1;\n",
       "        }    #T_46acd8aa_79c4_11ea_94b9_ebd8f4d88e5crow15_col3 {\n",
       "            background-color:  #67000d;\n",
       "            color:  #f1f1f1;\n",
       "        }    #T_46acd8aa_79c4_11ea_94b9_ebd8f4d88e5crow15_col4 {\n",
       "            background-color:  #67000d;\n",
       "            color:  #f1f1f1;\n",
       "        }    #T_46acd8aa_79c4_11ea_94b9_ebd8f4d88e5crow16_col1 {\n",
       "            background-color:  #fff5f0;\n",
       "            color:  #000000;\n",
       "        }    #T_46acd8aa_79c4_11ea_94b9_ebd8f4d88e5crow16_col2 {\n",
       "            background-color:  #fff5f0;\n",
       "            color:  #000000;\n",
       "        }    #T_46acd8aa_79c4_11ea_94b9_ebd8f4d88e5crow16_col3 {\n",
       "            background-color:  #fff5f0;\n",
       "            color:  #000000;\n",
       "        }    #T_46acd8aa_79c4_11ea_94b9_ebd8f4d88e5crow16_col4 {\n",
       "            background-color:  #fff5f0;\n",
       "            color:  #000000;\n",
       "        }    #T_46acd8aa_79c4_11ea_94b9_ebd8f4d88e5crow17_col1 {\n",
       "            background-color:  #fff5f0;\n",
       "            color:  #000000;\n",
       "        }    #T_46acd8aa_79c4_11ea_94b9_ebd8f4d88e5crow17_col2 {\n",
       "            background-color:  #fff5f0;\n",
       "            color:  #000000;\n",
       "        }    #T_46acd8aa_79c4_11ea_94b9_ebd8f4d88e5crow17_col3 {\n",
       "            background-color:  #fff5f0;\n",
       "            color:  #000000;\n",
       "        }    #T_46acd8aa_79c4_11ea_94b9_ebd8f4d88e5crow17_col4 {\n",
       "            background-color:  #fff5f0;\n",
       "            color:  #000000;\n",
       "        }    #T_46acd8aa_79c4_11ea_94b9_ebd8f4d88e5crow18_col1 {\n",
       "            background-color:  #ffede5;\n",
       "            color:  #000000;\n",
       "        }    #T_46acd8aa_79c4_11ea_94b9_ebd8f4d88e5crow18_col2 {\n",
       "            background-color:  #fff0e8;\n",
       "            color:  #000000;\n",
       "        }    #T_46acd8aa_79c4_11ea_94b9_ebd8f4d88e5crow18_col3 {\n",
       "            background-color:  #fff2eb;\n",
       "            color:  #000000;\n",
       "        }    #T_46acd8aa_79c4_11ea_94b9_ebd8f4d88e5crow18_col4 {\n",
       "            background-color:  #ffede5;\n",
       "            color:  #000000;\n",
       "        }    #T_46acd8aa_79c4_11ea_94b9_ebd8f4d88e5crow19_col1 {\n",
       "            background-color:  #fff4ef;\n",
       "            color:  #000000;\n",
       "        }    #T_46acd8aa_79c4_11ea_94b9_ebd8f4d88e5crow19_col2 {\n",
       "            background-color:  #fff2ec;\n",
       "            color:  #000000;\n",
       "        }    #T_46acd8aa_79c4_11ea_94b9_ebd8f4d88e5crow19_col3 {\n",
       "            background-color:  #fff5f0;\n",
       "            color:  #000000;\n",
       "        }    #T_46acd8aa_79c4_11ea_94b9_ebd8f4d88e5crow19_col4 {\n",
       "            background-color:  #fff4ef;\n",
       "            color:  #000000;\n",
       "        }    #T_46acd8aa_79c4_11ea_94b9_ebd8f4d88e5crow20_col1 {\n",
       "            background-color:  #fee4d8;\n",
       "            color:  #000000;\n",
       "        }    #T_46acd8aa_79c4_11ea_94b9_ebd8f4d88e5crow20_col2 {\n",
       "            background-color:  #feeae0;\n",
       "            color:  #000000;\n",
       "        }    #T_46acd8aa_79c4_11ea_94b9_ebd8f4d88e5crow20_col3 {\n",
       "            background-color:  #fedaca;\n",
       "            color:  #000000;\n",
       "        }    #T_46acd8aa_79c4_11ea_94b9_ebd8f4d88e5crow20_col4 {\n",
       "            background-color:  #fee4d8;\n",
       "            color:  #000000;\n",
       "        }    #T_46acd8aa_79c4_11ea_94b9_ebd8f4d88e5crow21_col1 {\n",
       "            background-color:  #fcb79c;\n",
       "            color:  #000000;\n",
       "        }    #T_46acd8aa_79c4_11ea_94b9_ebd8f4d88e5crow21_col2 {\n",
       "            background-color:  #fc9777;\n",
       "            color:  #000000;\n",
       "        }    #T_46acd8aa_79c4_11ea_94b9_ebd8f4d88e5crow21_col3 {\n",
       "            background-color:  #feeae1;\n",
       "            color:  #000000;\n",
       "        }    #T_46acd8aa_79c4_11ea_94b9_ebd8f4d88e5crow21_col4 {\n",
       "            background-color:  #fcb69b;\n",
       "            color:  #000000;\n",
       "        }    #T_46acd8aa_79c4_11ea_94b9_ebd8f4d88e5crow22_col1 {\n",
       "            background-color:  #d42121;\n",
       "            color:  #f1f1f1;\n",
       "        }    #T_46acd8aa_79c4_11ea_94b9_ebd8f4d88e5crow22_col2 {\n",
       "            background-color:  #fedccd;\n",
       "            color:  #000000;\n",
       "        }    #T_46acd8aa_79c4_11ea_94b9_ebd8f4d88e5crow22_col3 {\n",
       "            background-color:  #fee4d8;\n",
       "            color:  #000000;\n",
       "        }    #T_46acd8aa_79c4_11ea_94b9_ebd8f4d88e5crow22_col4 {\n",
       "            background-color:  #bd151a;\n",
       "            color:  #f1f1f1;\n",
       "        }    #T_46acd8aa_79c4_11ea_94b9_ebd8f4d88e5crow23_col1 {\n",
       "            background-color:  #fc8464;\n",
       "            color:  #000000;\n",
       "        }    #T_46acd8aa_79c4_11ea_94b9_ebd8f4d88e5crow23_col2 {\n",
       "            background-color:  #f14331;\n",
       "            color:  #f1f1f1;\n",
       "        }    #T_46acd8aa_79c4_11ea_94b9_ebd8f4d88e5crow23_col3 {\n",
       "            background-color:  #fedaca;\n",
       "            color:  #000000;\n",
       "        }    #T_46acd8aa_79c4_11ea_94b9_ebd8f4d88e5crow23_col4 {\n",
       "            background-color:  #fc8464;\n",
       "            color:  #000000;\n",
       "        }    #T_46acd8aa_79c4_11ea_94b9_ebd8f4d88e5crow24_col1 {\n",
       "            background-color:  #fff0e8;\n",
       "            color:  #000000;\n",
       "        }    #T_46acd8aa_79c4_11ea_94b9_ebd8f4d88e5crow24_col2 {\n",
       "            background-color:  #fee7db;\n",
       "            color:  #000000;\n",
       "        }    #T_46acd8aa_79c4_11ea_94b9_ebd8f4d88e5crow24_col3 {\n",
       "            background-color:  #fff5f0;\n",
       "            color:  #000000;\n",
       "        }    #T_46acd8aa_79c4_11ea_94b9_ebd8f4d88e5crow24_col4 {\n",
       "            background-color:  #fff0e8;\n",
       "            color:  #000000;\n",
       "        }    #T_46acd8aa_79c4_11ea_94b9_ebd8f4d88e5crow25_col1 {\n",
       "            background-color:  #fc9b7c;\n",
       "            color:  #000000;\n",
       "        }    #T_46acd8aa_79c4_11ea_94b9_ebd8f4d88e5crow25_col2 {\n",
       "            background-color:  #fc9777;\n",
       "            color:  #000000;\n",
       "        }    #T_46acd8aa_79c4_11ea_94b9_ebd8f4d88e5crow25_col3 {\n",
       "            background-color:  #feeae1;\n",
       "            color:  #000000;\n",
       "        }    #T_46acd8aa_79c4_11ea_94b9_ebd8f4d88e5crow25_col4 {\n",
       "            background-color:  #fc9576;\n",
       "            color:  #000000;\n",
       "        }    #T_46acd8aa_79c4_11ea_94b9_ebd8f4d88e5crow26_col1 {\n",
       "            background-color:  #fee4d8;\n",
       "            color:  #000000;\n",
       "        }    #T_46acd8aa_79c4_11ea_94b9_ebd8f4d88e5crow26_col2 {\n",
       "            background-color:  #fcc3ab;\n",
       "            color:  #000000;\n",
       "        }    #T_46acd8aa_79c4_11ea_94b9_ebd8f4d88e5crow26_col3 {\n",
       "            background-color:  #feeae1;\n",
       "            color:  #000000;\n",
       "        }    #T_46acd8aa_79c4_11ea_94b9_ebd8f4d88e5crow26_col4 {\n",
       "            background-color:  #fee5d9;\n",
       "            color:  #000000;\n",
       "        }    #T_46acd8aa_79c4_11ea_94b9_ebd8f4d88e5crow27_col1 {\n",
       "            background-color:  #fff0e9;\n",
       "            color:  #000000;\n",
       "        }    #T_46acd8aa_79c4_11ea_94b9_ebd8f4d88e5crow27_col2 {\n",
       "            background-color:  #fff5f0;\n",
       "            color:  #000000;\n",
       "        }    #T_46acd8aa_79c4_11ea_94b9_ebd8f4d88e5crow27_col3 {\n",
       "            background-color:  #fff5f0;\n",
       "            color:  #000000;\n",
       "        }    #T_46acd8aa_79c4_11ea_94b9_ebd8f4d88e5crow27_col4 {\n",
       "            background-color:  #fff0e8;\n",
       "            color:  #000000;\n",
       "        }    #T_46acd8aa_79c4_11ea_94b9_ebd8f4d88e5crow28_col1 {\n",
       "            background-color:  #fff5f0;\n",
       "            color:  #000000;\n",
       "        }    #T_46acd8aa_79c4_11ea_94b9_ebd8f4d88e5crow28_col2 {\n",
       "            background-color:  #fff5f0;\n",
       "            color:  #000000;\n",
       "        }    #T_46acd8aa_79c4_11ea_94b9_ebd8f4d88e5crow28_col3 {\n",
       "            background-color:  #fff5f0;\n",
       "            color:  #000000;\n",
       "        }    #T_46acd8aa_79c4_11ea_94b9_ebd8f4d88e5crow28_col4 {\n",
       "            background-color:  #fff4ef;\n",
       "            color:  #000000;\n",
       "        }    #T_46acd8aa_79c4_11ea_94b9_ebd8f4d88e5crow29_col1 {\n",
       "            background-color:  #fff5f0;\n",
       "            color:  #000000;\n",
       "        }    #T_46acd8aa_79c4_11ea_94b9_ebd8f4d88e5crow29_col2 {\n",
       "            background-color:  #fff5f0;\n",
       "            color:  #000000;\n",
       "        }    #T_46acd8aa_79c4_11ea_94b9_ebd8f4d88e5crow29_col3 {\n",
       "            background-color:  #fff5f0;\n",
       "            color:  #000000;\n",
       "        }    #T_46acd8aa_79c4_11ea_94b9_ebd8f4d88e5crow29_col4 {\n",
       "            background-color:  #fff5f0;\n",
       "            color:  #000000;\n",
       "        }    #T_46acd8aa_79c4_11ea_94b9_ebd8f4d88e5crow30_col1 {\n",
       "            background-color:  #fff5f0;\n",
       "            color:  #000000;\n",
       "        }    #T_46acd8aa_79c4_11ea_94b9_ebd8f4d88e5crow30_col2 {\n",
       "            background-color:  #fff5f0;\n",
       "            color:  #000000;\n",
       "        }    #T_46acd8aa_79c4_11ea_94b9_ebd8f4d88e5crow30_col3 {\n",
       "            background-color:  #fff5f0;\n",
       "            color:  #000000;\n",
       "        }    #T_46acd8aa_79c4_11ea_94b9_ebd8f4d88e5crow30_col4 {\n",
       "            background-color:  #fff5f0;\n",
       "            color:  #000000;\n",
       "        }</style><table id=\"T_46acd8aa_79c4_11ea_94b9_ebd8f4d88e5c\" ><thead>    <tr>        <th class=\"blank level0\" ></th>        <th class=\"col_heading level0 col0\" >STATE NAME</th>        <th class=\"col_heading level0 col1\" >TOTAL CONFIRMED</th>        <th class=\"col_heading level0 col2\" >CURED/DISCHARGED/MIGRATED</th>        <th class=\"col_heading level0 col3\" >DEATH</th>        <th class=\"col_heading level0 col4\" >ACTIVE CASES</th>    </tr></thead><tbody>\n",
       "                <tr>\n",
       "                        <th id=\"T_46acd8aa_79c4_11ea_94b9_ebd8f4d88e5clevel0_row0\" class=\"row_heading level0 row0\" >0</th>\n",
       "                        <td id=\"T_46acd8aa_79c4_11ea_94b9_ebd8f4d88e5crow0_col0\" class=\"data row0 col0\" >AndhraPradesh</td>\n",
       "                        <td id=\"T_46acd8aa_79c4_11ea_94b9_ebd8f4d88e5crow0_col1\" class=\"data row0 col1\" >226</td>\n",
       "                        <td id=\"T_46acd8aa_79c4_11ea_94b9_ebd8f4d88e5crow0_col2\" class=\"data row0 col2\" >1</td>\n",
       "                        <td id=\"T_46acd8aa_79c4_11ea_94b9_ebd8f4d88e5crow0_col3\" class=\"data row0 col3\" >3</td>\n",
       "                        <td id=\"T_46acd8aa_79c4_11ea_94b9_ebd8f4d88e5crow0_col4\" class=\"data row0 col4\" >222</td>\n",
       "            </tr>\n",
       "            <tr>\n",
       "                        <th id=\"T_46acd8aa_79c4_11ea_94b9_ebd8f4d88e5clevel0_row1\" class=\"row_heading level0 row1\" >1</th>\n",
       "                        <td id=\"T_46acd8aa_79c4_11ea_94b9_ebd8f4d88e5crow1_col0\" class=\"data row1 col0\" >AndamanNicobar</td>\n",
       "                        <td id=\"T_46acd8aa_79c4_11ea_94b9_ebd8f4d88e5crow1_col1\" class=\"data row1 col1\" >10</td>\n",
       "                        <td id=\"T_46acd8aa_79c4_11ea_94b9_ebd8f4d88e5crow1_col2\" class=\"data row1 col2\" >0</td>\n",
       "                        <td id=\"T_46acd8aa_79c4_11ea_94b9_ebd8f4d88e5crow1_col3\" class=\"data row1 col3\" >0</td>\n",
       "                        <td id=\"T_46acd8aa_79c4_11ea_94b9_ebd8f4d88e5crow1_col4\" class=\"data row1 col4\" >10</td>\n",
       "            </tr>\n",
       "            <tr>\n",
       "                        <th id=\"T_46acd8aa_79c4_11ea_94b9_ebd8f4d88e5clevel0_row2\" class=\"row_heading level0 row2\" >2</th>\n",
       "                        <td id=\"T_46acd8aa_79c4_11ea_94b9_ebd8f4d88e5crow2_col0\" class=\"data row2 col0\" >Bihar</td>\n",
       "                        <td id=\"T_46acd8aa_79c4_11ea_94b9_ebd8f4d88e5crow2_col1\" class=\"data row2 col1\" >32</td>\n",
       "                        <td id=\"T_46acd8aa_79c4_11ea_94b9_ebd8f4d88e5crow2_col2\" class=\"data row2 col2\" >0</td>\n",
       "                        <td id=\"T_46acd8aa_79c4_11ea_94b9_ebd8f4d88e5crow2_col3\" class=\"data row2 col3\" >1</td>\n",
       "                        <td id=\"T_46acd8aa_79c4_11ea_94b9_ebd8f4d88e5crow2_col4\" class=\"data row2 col4\" >31</td>\n",
       "            </tr>\n",
       "            <tr>\n",
       "                        <th id=\"T_46acd8aa_79c4_11ea_94b9_ebd8f4d88e5clevel0_row3\" class=\"row_heading level0 row3\" >3</th>\n",
       "                        <td id=\"T_46acd8aa_79c4_11ea_94b9_ebd8f4d88e5crow3_col0\" class=\"data row3 col0\" >Chandigarh</td>\n",
       "                        <td id=\"T_46acd8aa_79c4_11ea_94b9_ebd8f4d88e5crow3_col1\" class=\"data row3 col1\" >18</td>\n",
       "                        <td id=\"T_46acd8aa_79c4_11ea_94b9_ebd8f4d88e5crow3_col2\" class=\"data row3 col2\" >7</td>\n",
       "                        <td id=\"T_46acd8aa_79c4_11ea_94b9_ebd8f4d88e5crow3_col3\" class=\"data row3 col3\" >0</td>\n",
       "                        <td id=\"T_46acd8aa_79c4_11ea_94b9_ebd8f4d88e5crow3_col4\" class=\"data row3 col4\" >11</td>\n",
       "            </tr>\n",
       "            <tr>\n",
       "                        <th id=\"T_46acd8aa_79c4_11ea_94b9_ebd8f4d88e5clevel0_row4\" class=\"row_heading level0 row4\" >4</th>\n",
       "                        <td id=\"T_46acd8aa_79c4_11ea_94b9_ebd8f4d88e5crow4_col0\" class=\"data row4 col0\" >Chhattisgarh</td>\n",
       "                        <td id=\"T_46acd8aa_79c4_11ea_94b9_ebd8f4d88e5crow4_col1\" class=\"data row4 col1\" >10</td>\n",
       "                        <td id=\"T_46acd8aa_79c4_11ea_94b9_ebd8f4d88e5crow4_col2\" class=\"data row4 col2\" >9</td>\n",
       "                        <td id=\"T_46acd8aa_79c4_11ea_94b9_ebd8f4d88e5crow4_col3\" class=\"data row4 col3\" >0</td>\n",
       "                        <td id=\"T_46acd8aa_79c4_11ea_94b9_ebd8f4d88e5crow4_col4\" class=\"data row4 col4\" >1</td>\n",
       "            </tr>\n",
       "            <tr>\n",
       "                        <th id=\"T_46acd8aa_79c4_11ea_94b9_ebd8f4d88e5clevel0_row5\" class=\"row_heading level0 row5\" >5</th>\n",
       "                        <td id=\"T_46acd8aa_79c4_11ea_94b9_ebd8f4d88e5crow5_col0\" class=\"data row5 col0\" >Delhi</td>\n",
       "                        <td id=\"T_46acd8aa_79c4_11ea_94b9_ebd8f4d88e5crow5_col1\" class=\"data row5 col1\" >576</td>\n",
       "                        <td id=\"T_46acd8aa_79c4_11ea_94b9_ebd8f4d88e5crow5_col2\" class=\"data row5 col2\" >21</td>\n",
       "                        <td id=\"T_46acd8aa_79c4_11ea_94b9_ebd8f4d88e5crow5_col3\" class=\"data row5 col3\" >7</td>\n",
       "                        <td id=\"T_46acd8aa_79c4_11ea_94b9_ebd8f4d88e5crow5_col4\" class=\"data row5 col4\" >548</td>\n",
       "            </tr>\n",
       "            <tr>\n",
       "                        <th id=\"T_46acd8aa_79c4_11ea_94b9_ebd8f4d88e5clevel0_row6\" class=\"row_heading level0 row6\" >6</th>\n",
       "                        <td id=\"T_46acd8aa_79c4_11ea_94b9_ebd8f4d88e5crow6_col0\" class=\"data row6 col0\" >Goa</td>\n",
       "                        <td id=\"T_46acd8aa_79c4_11ea_94b9_ebd8f4d88e5crow6_col1\" class=\"data row6 col1\" >7</td>\n",
       "                        <td id=\"T_46acd8aa_79c4_11ea_94b9_ebd8f4d88e5crow6_col2\" class=\"data row6 col2\" >0</td>\n",
       "                        <td id=\"T_46acd8aa_79c4_11ea_94b9_ebd8f4d88e5crow6_col3\" class=\"data row6 col3\" >0</td>\n",
       "                        <td id=\"T_46acd8aa_79c4_11ea_94b9_ebd8f4d88e5crow6_col4\" class=\"data row6 col4\" >7</td>\n",
       "            </tr>\n",
       "            <tr>\n",
       "                        <th id=\"T_46acd8aa_79c4_11ea_94b9_ebd8f4d88e5clevel0_row7\" class=\"row_heading level0 row7\" >7</th>\n",
       "                        <td id=\"T_46acd8aa_79c4_11ea_94b9_ebd8f4d88e5crow7_col0\" class=\"data row7 col0\" >Gujarat</td>\n",
       "                        <td id=\"T_46acd8aa_79c4_11ea_94b9_ebd8f4d88e5crow7_col1\" class=\"data row7 col1\" >165</td>\n",
       "                        <td id=\"T_46acd8aa_79c4_11ea_94b9_ebd8f4d88e5crow7_col2\" class=\"data row7 col2\" >25</td>\n",
       "                        <td id=\"T_46acd8aa_79c4_11ea_94b9_ebd8f4d88e5crow7_col3\" class=\"data row7 col3\" >13</td>\n",
       "                        <td id=\"T_46acd8aa_79c4_11ea_94b9_ebd8f4d88e5crow7_col4\" class=\"data row7 col4\" >127</td>\n",
       "            </tr>\n",
       "            <tr>\n",
       "                        <th id=\"T_46acd8aa_79c4_11ea_94b9_ebd8f4d88e5clevel0_row8\" class=\"row_heading level0 row8\" >8</th>\n",
       "                        <td id=\"T_46acd8aa_79c4_11ea_94b9_ebd8f4d88e5crow8_col0\" class=\"data row8 col0\" >Haryana</td>\n",
       "                        <td id=\"T_46acd8aa_79c4_11ea_94b9_ebd8f4d88e5crow8_col1\" class=\"data row8 col1\" >90</td>\n",
       "                        <td id=\"T_46acd8aa_79c4_11ea_94b9_ebd8f4d88e5crow8_col2\" class=\"data row8 col2\" >25</td>\n",
       "                        <td id=\"T_46acd8aa_79c4_11ea_94b9_ebd8f4d88e5crow8_col3\" class=\"data row8 col3\" >1</td>\n",
       "                        <td id=\"T_46acd8aa_79c4_11ea_94b9_ebd8f4d88e5crow8_col4\" class=\"data row8 col4\" >64</td>\n",
       "            </tr>\n",
       "            <tr>\n",
       "                        <th id=\"T_46acd8aa_79c4_11ea_94b9_ebd8f4d88e5clevel0_row9\" class=\"row_heading level0 row9\" >9</th>\n",
       "                        <td id=\"T_46acd8aa_79c4_11ea_94b9_ebd8f4d88e5crow9_col0\" class=\"data row9 col0\" >HimachalPradesh</td>\n",
       "                        <td id=\"T_46acd8aa_79c4_11ea_94b9_ebd8f4d88e5crow9_col1\" class=\"data row9 col1\" >13</td>\n",
       "                        <td id=\"T_46acd8aa_79c4_11ea_94b9_ebd8f4d88e5crow9_col2\" class=\"data row9 col2\" >2</td>\n",
       "                        <td id=\"T_46acd8aa_79c4_11ea_94b9_ebd8f4d88e5crow9_col3\" class=\"data row9 col3\" >1</td>\n",
       "                        <td id=\"T_46acd8aa_79c4_11ea_94b9_ebd8f4d88e5crow9_col4\" class=\"data row9 col4\" >10</td>\n",
       "            </tr>\n",
       "            <tr>\n",
       "                        <th id=\"T_46acd8aa_79c4_11ea_94b9_ebd8f4d88e5clevel0_row10\" class=\"row_heading level0 row10\" >10</th>\n",
       "                        <td id=\"T_46acd8aa_79c4_11ea_94b9_ebd8f4d88e5crow10_col0\" class=\"data row10 col0\" >J & K</td>\n",
       "                        <td id=\"T_46acd8aa_79c4_11ea_94b9_ebd8f4d88e5crow10_col1\" class=\"data row10 col1\" >116</td>\n",
       "                        <td id=\"T_46acd8aa_79c4_11ea_94b9_ebd8f4d88e5crow10_col2\" class=\"data row10 col2\" >4</td>\n",
       "                        <td id=\"T_46acd8aa_79c4_11ea_94b9_ebd8f4d88e5crow10_col3\" class=\"data row10 col3\" >2</td>\n",
       "                        <td id=\"T_46acd8aa_79c4_11ea_94b9_ebd8f4d88e5crow10_col4\" class=\"data row10 col4\" >110</td>\n",
       "            </tr>\n",
       "            <tr>\n",
       "                        <th id=\"T_46acd8aa_79c4_11ea_94b9_ebd8f4d88e5clevel0_row11\" class=\"row_heading level0 row11\" >11</th>\n",
       "                        <td id=\"T_46acd8aa_79c4_11ea_94b9_ebd8f4d88e5crow11_col0\" class=\"data row11 col0\" >Karnataka</td>\n",
       "                        <td id=\"T_46acd8aa_79c4_11ea_94b9_ebd8f4d88e5crow11_col1\" class=\"data row11 col1\" >175</td>\n",
       "                        <td id=\"T_46acd8aa_79c4_11ea_94b9_ebd8f4d88e5crow11_col2\" class=\"data row11 col2\" >25</td>\n",
       "                        <td id=\"T_46acd8aa_79c4_11ea_94b9_ebd8f4d88e5crow11_col3\" class=\"data row11 col3\" >4</td>\n",
       "                        <td id=\"T_46acd8aa_79c4_11ea_94b9_ebd8f4d88e5crow11_col4\" class=\"data row11 col4\" >146</td>\n",
       "            </tr>\n",
       "            <tr>\n",
       "                        <th id=\"T_46acd8aa_79c4_11ea_94b9_ebd8f4d88e5clevel0_row12\" class=\"row_heading level0 row12\" >12</th>\n",
       "                        <td id=\"T_46acd8aa_79c4_11ea_94b9_ebd8f4d88e5crow12_col0\" class=\"data row12 col0\" >Kerala</td>\n",
       "                        <td id=\"T_46acd8aa_79c4_11ea_94b9_ebd8f4d88e5crow12_col1\" class=\"data row12 col1\" >327</td>\n",
       "                        <td id=\"T_46acd8aa_79c4_11ea_94b9_ebd8f4d88e5crow12_col2\" class=\"data row12 col2\" >58</td>\n",
       "                        <td id=\"T_46acd8aa_79c4_11ea_94b9_ebd8f4d88e5crow12_col3\" class=\"data row12 col3\" >2</td>\n",
       "                        <td id=\"T_46acd8aa_79c4_11ea_94b9_ebd8f4d88e5crow12_col4\" class=\"data row12 col4\" >267</td>\n",
       "            </tr>\n",
       "            <tr>\n",
       "                        <th id=\"T_46acd8aa_79c4_11ea_94b9_ebd8f4d88e5clevel0_row13\" class=\"row_heading level0 row13\" >13</th>\n",
       "                        <td id=\"T_46acd8aa_79c4_11ea_94b9_ebd8f4d88e5crow13_col0\" class=\"data row13 col0\" >Ladakh</td>\n",
       "                        <td id=\"T_46acd8aa_79c4_11ea_94b9_ebd8f4d88e5crow13_col1\" class=\"data row13 col1\" >14</td>\n",
       "                        <td id=\"T_46acd8aa_79c4_11ea_94b9_ebd8f4d88e5crow13_col2\" class=\"data row13 col2\" >10</td>\n",
       "                        <td id=\"T_46acd8aa_79c4_11ea_94b9_ebd8f4d88e5crow13_col3\" class=\"data row13 col3\" >0</td>\n",
       "                        <td id=\"T_46acd8aa_79c4_11ea_94b9_ebd8f4d88e5crow13_col4\" class=\"data row13 col4\" >4</td>\n",
       "            </tr>\n",
       "            <tr>\n",
       "                        <th id=\"T_46acd8aa_79c4_11ea_94b9_ebd8f4d88e5clevel0_row14\" class=\"row_heading level0 row14\" >14</th>\n",
       "                        <td id=\"T_46acd8aa_79c4_11ea_94b9_ebd8f4d88e5crow14_col0\" class=\"data row14 col0\" >MP</td>\n",
       "                        <td id=\"T_46acd8aa_79c4_11ea_94b9_ebd8f4d88e5crow14_col1\" class=\"data row14 col1\" >229</td>\n",
       "                        <td id=\"T_46acd8aa_79c4_11ea_94b9_ebd8f4d88e5crow14_col2\" class=\"data row14 col2\" >0</td>\n",
       "                        <td id=\"T_46acd8aa_79c4_11ea_94b9_ebd8f4d88e5crow14_col3\" class=\"data row14 col3\" >13</td>\n",
       "                        <td id=\"T_46acd8aa_79c4_11ea_94b9_ebd8f4d88e5crow14_col4\" class=\"data row14 col4\" >216</td>\n",
       "            </tr>\n",
       "            <tr>\n",
       "                        <th id=\"T_46acd8aa_79c4_11ea_94b9_ebd8f4d88e5clevel0_row15\" class=\"row_heading level0 row15\" >15</th>\n",
       "                        <td id=\"T_46acd8aa_79c4_11ea_94b9_ebd8f4d88e5crow15_col0\" class=\"data row15 col0\" >Maharashtra</td>\n",
       "                        <td id=\"T_46acd8aa_79c4_11ea_94b9_ebd8f4d88e5crow15_col1\" class=\"data row15 col1\" >868</td>\n",
       "                        <td id=\"T_46acd8aa_79c4_11ea_94b9_ebd8f4d88e5crow15_col2\" class=\"data row15 col2\" >56</td>\n",
       "                        <td id=\"T_46acd8aa_79c4_11ea_94b9_ebd8f4d88e5crow15_col3\" class=\"data row15 col3\" >48</td>\n",
       "                        <td id=\"T_46acd8aa_79c4_11ea_94b9_ebd8f4d88e5crow15_col4\" class=\"data row15 col4\" >764</td>\n",
       "            </tr>\n",
       "            <tr>\n",
       "                        <th id=\"T_46acd8aa_79c4_11ea_94b9_ebd8f4d88e5clevel0_row16\" class=\"row_heading level0 row16\" >16</th>\n",
       "                        <td id=\"T_46acd8aa_79c4_11ea_94b9_ebd8f4d88e5crow16_col0\" class=\"data row16 col0\" >Manipur</td>\n",
       "                        <td id=\"T_46acd8aa_79c4_11ea_94b9_ebd8f4d88e5crow16_col1\" class=\"data row16 col1\" >2</td>\n",
       "                        <td id=\"T_46acd8aa_79c4_11ea_94b9_ebd8f4d88e5crow16_col2\" class=\"data row16 col2\" >0</td>\n",
       "                        <td id=\"T_46acd8aa_79c4_11ea_94b9_ebd8f4d88e5crow16_col3\" class=\"data row16 col3\" >0</td>\n",
       "                        <td id=\"T_46acd8aa_79c4_11ea_94b9_ebd8f4d88e5crow16_col4\" class=\"data row16 col4\" >2</td>\n",
       "            </tr>\n",
       "            <tr>\n",
       "                        <th id=\"T_46acd8aa_79c4_11ea_94b9_ebd8f4d88e5clevel0_row17\" class=\"row_heading level0 row17\" >17</th>\n",
       "                        <td id=\"T_46acd8aa_79c4_11ea_94b9_ebd8f4d88e5crow17_col0\" class=\"data row17 col0\" >Mizoram</td>\n",
       "                        <td id=\"T_46acd8aa_79c4_11ea_94b9_ebd8f4d88e5crow17_col1\" class=\"data row17 col1\" >1</td>\n",
       "                        <td id=\"T_46acd8aa_79c4_11ea_94b9_ebd8f4d88e5crow17_col2\" class=\"data row17 col2\" >0</td>\n",
       "                        <td id=\"T_46acd8aa_79c4_11ea_94b9_ebd8f4d88e5crow17_col3\" class=\"data row17 col3\" >0</td>\n",
       "                        <td id=\"T_46acd8aa_79c4_11ea_94b9_ebd8f4d88e5crow17_col4\" class=\"data row17 col4\" >1</td>\n",
       "            </tr>\n",
       "            <tr>\n",
       "                        <th id=\"T_46acd8aa_79c4_11ea_94b9_ebd8f4d88e5clevel0_row18\" class=\"row_heading level0 row18\" >18</th>\n",
       "                        <td id=\"T_46acd8aa_79c4_11ea_94b9_ebd8f4d88e5crow18_col0\" class=\"data row18 col0\" >Odisha</td>\n",
       "                        <td id=\"T_46acd8aa_79c4_11ea_94b9_ebd8f4d88e5crow18_col1\" class=\"data row18 col1\" >42</td>\n",
       "                        <td id=\"T_46acd8aa_79c4_11ea_94b9_ebd8f4d88e5crow18_col2\" class=\"data row18 col2\" >2</td>\n",
       "                        <td id=\"T_46acd8aa_79c4_11ea_94b9_ebd8f4d88e5crow18_col3\" class=\"data row18 col3\" >1</td>\n",
       "                        <td id=\"T_46acd8aa_79c4_11ea_94b9_ebd8f4d88e5crow18_col4\" class=\"data row18 col4\" >39</td>\n",
       "            </tr>\n",
       "            <tr>\n",
       "                        <th id=\"T_46acd8aa_79c4_11ea_94b9_ebd8f4d88e5clevel0_row19\" class=\"row_heading level0 row19\" >19</th>\n",
       "                        <td id=\"T_46acd8aa_79c4_11ea_94b9_ebd8f4d88e5crow19_col0\" class=\"data row19 col0\" >Puducherry</td>\n",
       "                        <td id=\"T_46acd8aa_79c4_11ea_94b9_ebd8f4d88e5crow19_col1\" class=\"data row19 col1\" >5</td>\n",
       "                        <td id=\"T_46acd8aa_79c4_11ea_94b9_ebd8f4d88e5crow19_col2\" class=\"data row19 col2\" >1</td>\n",
       "                        <td id=\"T_46acd8aa_79c4_11ea_94b9_ebd8f4d88e5crow19_col3\" class=\"data row19 col3\" >0</td>\n",
       "                        <td id=\"T_46acd8aa_79c4_11ea_94b9_ebd8f4d88e5crow19_col4\" class=\"data row19 col4\" >4</td>\n",
       "            </tr>\n",
       "            <tr>\n",
       "                        <th id=\"T_46acd8aa_79c4_11ea_94b9_ebd8f4d88e5clevel0_row20\" class=\"row_heading level0 row20\" >20</th>\n",
       "                        <td id=\"T_46acd8aa_79c4_11ea_94b9_ebd8f4d88e5crow20_col0\" class=\"data row20 col0\" >Punjab</td>\n",
       "                        <td id=\"T_46acd8aa_79c4_11ea_94b9_ebd8f4d88e5crow20_col1\" class=\"data row20 col1\" >91</td>\n",
       "                        <td id=\"T_46acd8aa_79c4_11ea_94b9_ebd8f4d88e5crow20_col2\" class=\"data row20 col2\" >4</td>\n",
       "                        <td id=\"T_46acd8aa_79c4_11ea_94b9_ebd8f4d88e5crow20_col3\" class=\"data row20 col3\" >7</td>\n",
       "                        <td id=\"T_46acd8aa_79c4_11ea_94b9_ebd8f4d88e5crow20_col4\" class=\"data row20 col4\" >80</td>\n",
       "            </tr>\n",
       "            <tr>\n",
       "                        <th id=\"T_46acd8aa_79c4_11ea_94b9_ebd8f4d88e5clevel0_row21\" class=\"row_heading level0 row21\" >21</th>\n",
       "                        <td id=\"T_46acd8aa_79c4_11ea_94b9_ebd8f4d88e5crow21_col0\" class=\"data row21 col0\" >Rajasthan</td>\n",
       "                        <td id=\"T_46acd8aa_79c4_11ea_94b9_ebd8f4d88e5crow21_col1\" class=\"data row21 col1\" >228</td>\n",
       "                        <td id=\"T_46acd8aa_79c4_11ea_94b9_ebd8f4d88e5crow21_col2\" class=\"data row21 col2\" >21</td>\n",
       "                        <td id=\"T_46acd8aa_79c4_11ea_94b9_ebd8f4d88e5crow21_col3\" class=\"data row21 col3\" >3</td>\n",
       "                        <td id=\"T_46acd8aa_79c4_11ea_94b9_ebd8f4d88e5crow21_col4\" class=\"data row21 col4\" >204</td>\n",
       "            </tr>\n",
       "            <tr>\n",
       "                        <th id=\"T_46acd8aa_79c4_11ea_94b9_ebd8f4d88e5clevel0_row22\" class=\"row_heading level0 row22\" >22</th>\n",
       "                        <td id=\"T_46acd8aa_79c4_11ea_94b9_ebd8f4d88e5crow22_col0\" class=\"data row22 col0\" >TamilNadu</td>\n",
       "                        <td id=\"T_46acd8aa_79c4_11ea_94b9_ebd8f4d88e5crow22_col1\" class=\"data row22 col1\" >621</td>\n",
       "                        <td id=\"T_46acd8aa_79c4_11ea_94b9_ebd8f4d88e5crow22_col2\" class=\"data row22 col2\" >8</td>\n",
       "                        <td id=\"T_46acd8aa_79c4_11ea_94b9_ebd8f4d88e5crow22_col3\" class=\"data row22 col3\" >5</td>\n",
       "                        <td id=\"T_46acd8aa_79c4_11ea_94b9_ebd8f4d88e5crow22_col4\" class=\"data row22 col4\" >608</td>\n",
       "            </tr>\n",
       "            <tr>\n",
       "                        <th id=\"T_46acd8aa_79c4_11ea_94b9_ebd8f4d88e5clevel0_row23\" class=\"row_heading level0 row23\" >23</th>\n",
       "                        <td id=\"T_46acd8aa_79c4_11ea_94b9_ebd8f4d88e5crow23_col0\" class=\"data row23 col0\" >Telengana</td>\n",
       "                        <td id=\"T_46acd8aa_79c4_11ea_94b9_ebd8f4d88e5crow23_col1\" class=\"data row23 col1\" >364</td>\n",
       "                        <td id=\"T_46acd8aa_79c4_11ea_94b9_ebd8f4d88e5crow23_col2\" class=\"data row23 col2\" >35</td>\n",
       "                        <td id=\"T_46acd8aa_79c4_11ea_94b9_ebd8f4d88e5crow23_col3\" class=\"data row23 col3\" >7</td>\n",
       "                        <td id=\"T_46acd8aa_79c4_11ea_94b9_ebd8f4d88e5crow23_col4\" class=\"data row23 col4\" >322</td>\n",
       "            </tr>\n",
       "            <tr>\n",
       "                        <th id=\"T_46acd8aa_79c4_11ea_94b9_ebd8f4d88e5clevel0_row24\" class=\"row_heading level0 row24\" >24</th>\n",
       "                        <td id=\"T_46acd8aa_79c4_11ea_94b9_ebd8f4d88e5crow24_col0\" class=\"data row24 col0\" >Uttarakhand</td>\n",
       "                        <td id=\"T_46acd8aa_79c4_11ea_94b9_ebd8f4d88e5crow24_col1\" class=\"data row24 col1\" >31</td>\n",
       "                        <td id=\"T_46acd8aa_79c4_11ea_94b9_ebd8f4d88e5crow24_col2\" class=\"data row24 col2\" >5</td>\n",
       "                        <td id=\"T_46acd8aa_79c4_11ea_94b9_ebd8f4d88e5crow24_col3\" class=\"data row24 col3\" >0</td>\n",
       "                        <td id=\"T_46acd8aa_79c4_11ea_94b9_ebd8f4d88e5crow24_col4\" class=\"data row24 col4\" >26</td>\n",
       "            </tr>\n",
       "            <tr>\n",
       "                        <th id=\"T_46acd8aa_79c4_11ea_94b9_ebd8f4d88e5clevel0_row25\" class=\"row_heading level0 row25\" >25</th>\n",
       "                        <td id=\"T_46acd8aa_79c4_11ea_94b9_ebd8f4d88e5crow25_col0\" class=\"data row25 col0\" >UttarPradesh</td>\n",
       "                        <td id=\"T_46acd8aa_79c4_11ea_94b9_ebd8f4d88e5crow25_col1\" class=\"data row25 col1\" >305</td>\n",
       "                        <td id=\"T_46acd8aa_79c4_11ea_94b9_ebd8f4d88e5crow25_col2\" class=\"data row25 col2\" >21</td>\n",
       "                        <td id=\"T_46acd8aa_79c4_11ea_94b9_ebd8f4d88e5crow25_col3\" class=\"data row25 col3\" >3</td>\n",
       "                        <td id=\"T_46acd8aa_79c4_11ea_94b9_ebd8f4d88e5crow25_col4\" class=\"data row25 col4\" >281</td>\n",
       "            </tr>\n",
       "            <tr>\n",
       "                        <th id=\"T_46acd8aa_79c4_11ea_94b9_ebd8f4d88e5clevel0_row26\" class=\"row_heading level0 row26\" >26</th>\n",
       "                        <td id=\"T_46acd8aa_79c4_11ea_94b9_ebd8f4d88e5crow26_col0\" class=\"data row26 col0\" >West Bengal</td>\n",
       "                        <td id=\"T_46acd8aa_79c4_11ea_94b9_ebd8f4d88e5crow26_col1\" class=\"data row26 col1\" >91</td>\n",
       "                        <td id=\"T_46acd8aa_79c4_11ea_94b9_ebd8f4d88e5crow26_col2\" class=\"data row26 col2\" >13</td>\n",
       "                        <td id=\"T_46acd8aa_79c4_11ea_94b9_ebd8f4d88e5crow26_col3\" class=\"data row26 col3\" >3</td>\n",
       "                        <td id=\"T_46acd8aa_79c4_11ea_94b9_ebd8f4d88e5crow26_col4\" class=\"data row26 col4\" >75</td>\n",
       "            </tr>\n",
       "            <tr>\n",
       "                        <th id=\"T_46acd8aa_79c4_11ea_94b9_ebd8f4d88e5clevel0_row27\" class=\"row_heading level0 row27\" >27</th>\n",
       "                        <td id=\"T_46acd8aa_79c4_11ea_94b9_ebd8f4d88e5crow27_col0\" class=\"data row27 col0\" >Assam</td>\n",
       "                        <td id=\"T_46acd8aa_79c4_11ea_94b9_ebd8f4d88e5crow27_col1\" class=\"data row27 col1\" >26</td>\n",
       "                        <td id=\"T_46acd8aa_79c4_11ea_94b9_ebd8f4d88e5crow27_col2\" class=\"data row27 col2\" >0</td>\n",
       "                        <td id=\"T_46acd8aa_79c4_11ea_94b9_ebd8f4d88e5crow27_col3\" class=\"data row27 col3\" >0</td>\n",
       "                        <td id=\"T_46acd8aa_79c4_11ea_94b9_ebd8f4d88e5crow27_col4\" class=\"data row27 col4\" >26</td>\n",
       "            </tr>\n",
       "            <tr>\n",
       "                        <th id=\"T_46acd8aa_79c4_11ea_94b9_ebd8f4d88e5clevel0_row28\" class=\"row_heading level0 row28\" >28</th>\n",
       "                        <td id=\"T_46acd8aa_79c4_11ea_94b9_ebd8f4d88e5crow28_col0\" class=\"data row28 col0\" >Jharkhand</td>\n",
       "                        <td id=\"T_46acd8aa_79c4_11ea_94b9_ebd8f4d88e5crow28_col1\" class=\"data row28 col1\" >4</td>\n",
       "                        <td id=\"T_46acd8aa_79c4_11ea_94b9_ebd8f4d88e5crow28_col2\" class=\"data row28 col2\" >0</td>\n",
       "                        <td id=\"T_46acd8aa_79c4_11ea_94b9_ebd8f4d88e5crow28_col3\" class=\"data row28 col3\" >0</td>\n",
       "                        <td id=\"T_46acd8aa_79c4_11ea_94b9_ebd8f4d88e5crow28_col4\" class=\"data row28 col4\" >4</td>\n",
       "            </tr>\n",
       "            <tr>\n",
       "                        <th id=\"T_46acd8aa_79c4_11ea_94b9_ebd8f4d88e5clevel0_row29\" class=\"row_heading level0 row29\" >29</th>\n",
       "                        <td id=\"T_46acd8aa_79c4_11ea_94b9_ebd8f4d88e5crow29_col0\" class=\"data row29 col0\" >Arunachal Pradesh</td>\n",
       "                        <td id=\"T_46acd8aa_79c4_11ea_94b9_ebd8f4d88e5crow29_col1\" class=\"data row29 col1\" >1</td>\n",
       "                        <td id=\"T_46acd8aa_79c4_11ea_94b9_ebd8f4d88e5crow29_col2\" class=\"data row29 col2\" >0</td>\n",
       "                        <td id=\"T_46acd8aa_79c4_11ea_94b9_ebd8f4d88e5crow29_col3\" class=\"data row29 col3\" >0</td>\n",
       "                        <td id=\"T_46acd8aa_79c4_11ea_94b9_ebd8f4d88e5crow29_col4\" class=\"data row29 col4\" >1</td>\n",
       "            </tr>\n",
       "            <tr>\n",
       "                        <th id=\"T_46acd8aa_79c4_11ea_94b9_ebd8f4d88e5clevel0_row30\" class=\"row_heading level0 row30\" >30</th>\n",
       "                        <td id=\"T_46acd8aa_79c4_11ea_94b9_ebd8f4d88e5crow30_col0\" class=\"data row30 col0\" >Tripura</td>\n",
       "                        <td id=\"T_46acd8aa_79c4_11ea_94b9_ebd8f4d88e5crow30_col1\" class=\"data row30 col1\" >1</td>\n",
       "                        <td id=\"T_46acd8aa_79c4_11ea_94b9_ebd8f4d88e5crow30_col2\" class=\"data row30 col2\" >0</td>\n",
       "                        <td id=\"T_46acd8aa_79c4_11ea_94b9_ebd8f4d88e5crow30_col3\" class=\"data row30 col3\" >0</td>\n",
       "                        <td id=\"T_46acd8aa_79c4_11ea_94b9_ebd8f4d88e5crow30_col4\" class=\"data row30 col4\" >1</td>\n",
       "            </tr>\n",
       "    </tbody></table>"
      ],
      "text/plain": [
       "<pandas.io.formats.style.Styler at 0x7fad16a794e0>"
      ]
     },
     "execution_count": 11,
     "metadata": {},
     "output_type": "execute_result"
    }
   ],
   "source": [
    "covid_india.style.background_gradient(cmap = 'Reds')"
   ]
  },
  {
   "cell_type": "code",
   "execution_count": 12,
   "metadata": {},
   "outputs": [
    {
     "data": {
      "text/html": [
       "<div>\n",
       "<style scoped>\n",
       "    .dataframe tbody tr th:only-of-type {\n",
       "        vertical-align: middle;\n",
       "    }\n",
       "\n",
       "    .dataframe tbody tr th {\n",
       "        vertical-align: top;\n",
       "    }\n",
       "\n",
       "    .dataframe thead th {\n",
       "        text-align: right;\n",
       "    }\n",
       "</style>\n",
       "<table border=\"1\" class=\"dataframe\">\n",
       "  <thead>\n",
       "    <tr style=\"text-align: right;\">\n",
       "      <th></th>\n",
       "      <th>TOTAL CONFIRMED</th>\n",
       "    </tr>\n",
       "    <tr>\n",
       "      <th>STATE NAME</th>\n",
       "      <th></th>\n",
       "    </tr>\n",
       "  </thead>\n",
       "  <tbody>\n",
       "    <tr>\n",
       "      <th>Maharashtra</th>\n",
       "      <td>868</td>\n",
       "    </tr>\n",
       "    <tr>\n",
       "      <th>TamilNadu</th>\n",
       "      <td>621</td>\n",
       "    </tr>\n",
       "    <tr>\n",
       "      <th>Delhi</th>\n",
       "      <td>576</td>\n",
       "    </tr>\n",
       "    <tr>\n",
       "      <th>Telengana</th>\n",
       "      <td>364</td>\n",
       "    </tr>\n",
       "    <tr>\n",
       "      <th>Kerala</th>\n",
       "      <td>327</td>\n",
       "    </tr>\n",
       "  </tbody>\n",
       "</table>\n",
       "</div>"
      ],
      "text/plain": [
       "             TOTAL CONFIRMED\n",
       "STATE NAME                  \n",
       "Maharashtra              868\n",
       "TamilNadu                621\n",
       "Delhi                    576\n",
       "Telengana                364\n",
       "Kerala                   327"
      ]
     },
     "execution_count": 12,
     "metadata": {},
     "output_type": "execute_result"
    }
   ],
   "source": [
    "total_active = covid_india.groupby('STATE NAME')['TOTAL CONFIRMED'].sum().sort_values(ascending = False).to_frame()\n",
    "\n",
    "total_active.head()"
   ]
  },
  {
   "cell_type": "code",
   "execution_count": 13,
   "metadata": {},
   "outputs": [
    {
     "data": {
      "text/html": [
       "<style  type=\"text/css\" >\n",
       "    #T_46acd8ab_79c4_11ea_94b9_ebd8f4d88e5crow0_col0 {\n",
       "            background-color:  #67000d;\n",
       "            color:  #f1f1f1;\n",
       "        }    #T_46acd8ab_79c4_11ea_94b9_ebd8f4d88e5crow1_col0 {\n",
       "            background-color:  #d42121;\n",
       "            color:  #f1f1f1;\n",
       "        }    #T_46acd8ab_79c4_11ea_94b9_ebd8f4d88e5crow2_col0 {\n",
       "            background-color:  #e43027;\n",
       "            color:  #f1f1f1;\n",
       "        }    #T_46acd8ab_79c4_11ea_94b9_ebd8f4d88e5crow3_col0 {\n",
       "            background-color:  #fc8464;\n",
       "            color:  #000000;\n",
       "        }    #T_46acd8ab_79c4_11ea_94b9_ebd8f4d88e5crow4_col0 {\n",
       "            background-color:  #fc9272;\n",
       "            color:  #000000;\n",
       "        }    #T_46acd8ab_79c4_11ea_94b9_ebd8f4d88e5crow5_col0 {\n",
       "            background-color:  #fc9b7c;\n",
       "            color:  #000000;\n",
       "        }    #T_46acd8ab_79c4_11ea_94b9_ebd8f4d88e5crow6_col0 {\n",
       "            background-color:  #fcb79c;\n",
       "            color:  #000000;\n",
       "        }    #T_46acd8ab_79c4_11ea_94b9_ebd8f4d88e5crow7_col0 {\n",
       "            background-color:  #fcb79c;\n",
       "            color:  #000000;\n",
       "        }    #T_46acd8ab_79c4_11ea_94b9_ebd8f4d88e5crow8_col0 {\n",
       "            background-color:  #fcb89e;\n",
       "            color:  #000000;\n",
       "        }    #T_46acd8ab_79c4_11ea_94b9_ebd8f4d88e5crow9_col0 {\n",
       "            background-color:  #fdcab5;\n",
       "            color:  #000000;\n",
       "        }    #T_46acd8ab_79c4_11ea_94b9_ebd8f4d88e5crow10_col0 {\n",
       "            background-color:  #fdcdb9;\n",
       "            color:  #000000;\n",
       "        }    #T_46acd8ab_79c4_11ea_94b9_ebd8f4d88e5crow11_col0 {\n",
       "            background-color:  #fedfd0;\n",
       "            color:  #000000;\n",
       "        }    #T_46acd8ab_79c4_11ea_94b9_ebd8f4d88e5crow12_col0 {\n",
       "            background-color:  #fee4d8;\n",
       "            color:  #000000;\n",
       "        }    #T_46acd8ab_79c4_11ea_94b9_ebd8f4d88e5crow13_col0 {\n",
       "            background-color:  #fee4d8;\n",
       "            color:  #000000;\n",
       "        }    #T_46acd8ab_79c4_11ea_94b9_ebd8f4d88e5crow14_col0 {\n",
       "            background-color:  #fee4d8;\n",
       "            color:  #000000;\n",
       "        }    #T_46acd8ab_79c4_11ea_94b9_ebd8f4d88e5crow15_col0 {\n",
       "            background-color:  #ffede5;\n",
       "            color:  #000000;\n",
       "        }    #T_46acd8ab_79c4_11ea_94b9_ebd8f4d88e5crow16_col0 {\n",
       "            background-color:  #ffefe8;\n",
       "            color:  #000000;\n",
       "        }    #T_46acd8ab_79c4_11ea_94b9_ebd8f4d88e5crow17_col0 {\n",
       "            background-color:  #fff0e8;\n",
       "            color:  #000000;\n",
       "        }    #T_46acd8ab_79c4_11ea_94b9_ebd8f4d88e5crow18_col0 {\n",
       "            background-color:  #fff0e9;\n",
       "            color:  #000000;\n",
       "        }    #T_46acd8ab_79c4_11ea_94b9_ebd8f4d88e5crow19_col0 {\n",
       "            background-color:  #fff2eb;\n",
       "            color:  #000000;\n",
       "        }    #T_46acd8ab_79c4_11ea_94b9_ebd8f4d88e5crow20_col0 {\n",
       "            background-color:  #fff3ed;\n",
       "            color:  #000000;\n",
       "        }    #T_46acd8ab_79c4_11ea_94b9_ebd8f4d88e5crow21_col0 {\n",
       "            background-color:  #fff3ed;\n",
       "            color:  #000000;\n",
       "        }    #T_46acd8ab_79c4_11ea_94b9_ebd8f4d88e5crow22_col0 {\n",
       "            background-color:  #fff4ee;\n",
       "            color:  #000000;\n",
       "        }    #T_46acd8ab_79c4_11ea_94b9_ebd8f4d88e5crow23_col0 {\n",
       "            background-color:  #fff4ee;\n",
       "            color:  #000000;\n",
       "        }    #T_46acd8ab_79c4_11ea_94b9_ebd8f4d88e5crow24_col0 {\n",
       "            background-color:  #fff4ef;\n",
       "            color:  #000000;\n",
       "        }    #T_46acd8ab_79c4_11ea_94b9_ebd8f4d88e5crow25_col0 {\n",
       "            background-color:  #fff4ef;\n",
       "            color:  #000000;\n",
       "        }    #T_46acd8ab_79c4_11ea_94b9_ebd8f4d88e5crow26_col0 {\n",
       "            background-color:  #fff5f0;\n",
       "            color:  #000000;\n",
       "        }    #T_46acd8ab_79c4_11ea_94b9_ebd8f4d88e5crow27_col0 {\n",
       "            background-color:  #fff5f0;\n",
       "            color:  #000000;\n",
       "        }    #T_46acd8ab_79c4_11ea_94b9_ebd8f4d88e5crow28_col0 {\n",
       "            background-color:  #fff5f0;\n",
       "            color:  #000000;\n",
       "        }    #T_46acd8ab_79c4_11ea_94b9_ebd8f4d88e5crow29_col0 {\n",
       "            background-color:  #fff5f0;\n",
       "            color:  #000000;\n",
       "        }    #T_46acd8ab_79c4_11ea_94b9_ebd8f4d88e5crow30_col0 {\n",
       "            background-color:  #fff5f0;\n",
       "            color:  #000000;\n",
       "        }</style><table id=\"T_46acd8ab_79c4_11ea_94b9_ebd8f4d88e5c\" ><thead>    <tr>        <th class=\"blank level0\" ></th>        <th class=\"col_heading level0 col0\" >TOTAL CONFIRMED</th>    </tr>    <tr>        <th class=\"index_name level0\" >STATE NAME</th>        <th class=\"blank\" ></th>    </tr></thead><tbody>\n",
       "                <tr>\n",
       "                        <th id=\"T_46acd8ab_79c4_11ea_94b9_ebd8f4d88e5clevel0_row0\" class=\"row_heading level0 row0\" >Maharashtra</th>\n",
       "                        <td id=\"T_46acd8ab_79c4_11ea_94b9_ebd8f4d88e5crow0_col0\" class=\"data row0 col0\" >868</td>\n",
       "            </tr>\n",
       "            <tr>\n",
       "                        <th id=\"T_46acd8ab_79c4_11ea_94b9_ebd8f4d88e5clevel0_row1\" class=\"row_heading level0 row1\" >TamilNadu</th>\n",
       "                        <td id=\"T_46acd8ab_79c4_11ea_94b9_ebd8f4d88e5crow1_col0\" class=\"data row1 col0\" >621</td>\n",
       "            </tr>\n",
       "            <tr>\n",
       "                        <th id=\"T_46acd8ab_79c4_11ea_94b9_ebd8f4d88e5clevel0_row2\" class=\"row_heading level0 row2\" >Delhi</th>\n",
       "                        <td id=\"T_46acd8ab_79c4_11ea_94b9_ebd8f4d88e5crow2_col0\" class=\"data row2 col0\" >576</td>\n",
       "            </tr>\n",
       "            <tr>\n",
       "                        <th id=\"T_46acd8ab_79c4_11ea_94b9_ebd8f4d88e5clevel0_row3\" class=\"row_heading level0 row3\" >Telengana</th>\n",
       "                        <td id=\"T_46acd8ab_79c4_11ea_94b9_ebd8f4d88e5crow3_col0\" class=\"data row3 col0\" >364</td>\n",
       "            </tr>\n",
       "            <tr>\n",
       "                        <th id=\"T_46acd8ab_79c4_11ea_94b9_ebd8f4d88e5clevel0_row4\" class=\"row_heading level0 row4\" >Kerala</th>\n",
       "                        <td id=\"T_46acd8ab_79c4_11ea_94b9_ebd8f4d88e5crow4_col0\" class=\"data row4 col0\" >327</td>\n",
       "            </tr>\n",
       "            <tr>\n",
       "                        <th id=\"T_46acd8ab_79c4_11ea_94b9_ebd8f4d88e5clevel0_row5\" class=\"row_heading level0 row5\" >UttarPradesh</th>\n",
       "                        <td id=\"T_46acd8ab_79c4_11ea_94b9_ebd8f4d88e5crow5_col0\" class=\"data row5 col0\" >305</td>\n",
       "            </tr>\n",
       "            <tr>\n",
       "                        <th id=\"T_46acd8ab_79c4_11ea_94b9_ebd8f4d88e5clevel0_row6\" class=\"row_heading level0 row6\" >MP</th>\n",
       "                        <td id=\"T_46acd8ab_79c4_11ea_94b9_ebd8f4d88e5crow6_col0\" class=\"data row6 col0\" >229</td>\n",
       "            </tr>\n",
       "            <tr>\n",
       "                        <th id=\"T_46acd8ab_79c4_11ea_94b9_ebd8f4d88e5clevel0_row7\" class=\"row_heading level0 row7\" >Rajasthan</th>\n",
       "                        <td id=\"T_46acd8ab_79c4_11ea_94b9_ebd8f4d88e5crow7_col0\" class=\"data row7 col0\" >228</td>\n",
       "            </tr>\n",
       "            <tr>\n",
       "                        <th id=\"T_46acd8ab_79c4_11ea_94b9_ebd8f4d88e5clevel0_row8\" class=\"row_heading level0 row8\" >AndhraPradesh</th>\n",
       "                        <td id=\"T_46acd8ab_79c4_11ea_94b9_ebd8f4d88e5crow8_col0\" class=\"data row8 col0\" >226</td>\n",
       "            </tr>\n",
       "            <tr>\n",
       "                        <th id=\"T_46acd8ab_79c4_11ea_94b9_ebd8f4d88e5clevel0_row9\" class=\"row_heading level0 row9\" >Karnataka</th>\n",
       "                        <td id=\"T_46acd8ab_79c4_11ea_94b9_ebd8f4d88e5crow9_col0\" class=\"data row9 col0\" >175</td>\n",
       "            </tr>\n",
       "            <tr>\n",
       "                        <th id=\"T_46acd8ab_79c4_11ea_94b9_ebd8f4d88e5clevel0_row10\" class=\"row_heading level0 row10\" >Gujarat</th>\n",
       "                        <td id=\"T_46acd8ab_79c4_11ea_94b9_ebd8f4d88e5crow10_col0\" class=\"data row10 col0\" >165</td>\n",
       "            </tr>\n",
       "            <tr>\n",
       "                        <th id=\"T_46acd8ab_79c4_11ea_94b9_ebd8f4d88e5clevel0_row11\" class=\"row_heading level0 row11\" >J & K</th>\n",
       "                        <td id=\"T_46acd8ab_79c4_11ea_94b9_ebd8f4d88e5crow11_col0\" class=\"data row11 col0\" >116</td>\n",
       "            </tr>\n",
       "            <tr>\n",
       "                        <th id=\"T_46acd8ab_79c4_11ea_94b9_ebd8f4d88e5clevel0_row12\" class=\"row_heading level0 row12\" >West Bengal</th>\n",
       "                        <td id=\"T_46acd8ab_79c4_11ea_94b9_ebd8f4d88e5crow12_col0\" class=\"data row12 col0\" >91</td>\n",
       "            </tr>\n",
       "            <tr>\n",
       "                        <th id=\"T_46acd8ab_79c4_11ea_94b9_ebd8f4d88e5clevel0_row13\" class=\"row_heading level0 row13\" >Punjab</th>\n",
       "                        <td id=\"T_46acd8ab_79c4_11ea_94b9_ebd8f4d88e5crow13_col0\" class=\"data row13 col0\" >91</td>\n",
       "            </tr>\n",
       "            <tr>\n",
       "                        <th id=\"T_46acd8ab_79c4_11ea_94b9_ebd8f4d88e5clevel0_row14\" class=\"row_heading level0 row14\" >Haryana</th>\n",
       "                        <td id=\"T_46acd8ab_79c4_11ea_94b9_ebd8f4d88e5crow14_col0\" class=\"data row14 col0\" >90</td>\n",
       "            </tr>\n",
       "            <tr>\n",
       "                        <th id=\"T_46acd8ab_79c4_11ea_94b9_ebd8f4d88e5clevel0_row15\" class=\"row_heading level0 row15\" >Odisha</th>\n",
       "                        <td id=\"T_46acd8ab_79c4_11ea_94b9_ebd8f4d88e5crow15_col0\" class=\"data row15 col0\" >42</td>\n",
       "            </tr>\n",
       "            <tr>\n",
       "                        <th id=\"T_46acd8ab_79c4_11ea_94b9_ebd8f4d88e5clevel0_row16\" class=\"row_heading level0 row16\" >Bihar</th>\n",
       "                        <td id=\"T_46acd8ab_79c4_11ea_94b9_ebd8f4d88e5crow16_col0\" class=\"data row16 col0\" >32</td>\n",
       "            </tr>\n",
       "            <tr>\n",
       "                        <th id=\"T_46acd8ab_79c4_11ea_94b9_ebd8f4d88e5clevel0_row17\" class=\"row_heading level0 row17\" >Uttarakhand</th>\n",
       "                        <td id=\"T_46acd8ab_79c4_11ea_94b9_ebd8f4d88e5crow17_col0\" class=\"data row17 col0\" >31</td>\n",
       "            </tr>\n",
       "            <tr>\n",
       "                        <th id=\"T_46acd8ab_79c4_11ea_94b9_ebd8f4d88e5clevel0_row18\" class=\"row_heading level0 row18\" >Assam</th>\n",
       "                        <td id=\"T_46acd8ab_79c4_11ea_94b9_ebd8f4d88e5crow18_col0\" class=\"data row18 col0\" >26</td>\n",
       "            </tr>\n",
       "            <tr>\n",
       "                        <th id=\"T_46acd8ab_79c4_11ea_94b9_ebd8f4d88e5clevel0_row19\" class=\"row_heading level0 row19\" >Chandigarh</th>\n",
       "                        <td id=\"T_46acd8ab_79c4_11ea_94b9_ebd8f4d88e5crow19_col0\" class=\"data row19 col0\" >18</td>\n",
       "            </tr>\n",
       "            <tr>\n",
       "                        <th id=\"T_46acd8ab_79c4_11ea_94b9_ebd8f4d88e5clevel0_row20\" class=\"row_heading level0 row20\" >Ladakh</th>\n",
       "                        <td id=\"T_46acd8ab_79c4_11ea_94b9_ebd8f4d88e5crow20_col0\" class=\"data row20 col0\" >14</td>\n",
       "            </tr>\n",
       "            <tr>\n",
       "                        <th id=\"T_46acd8ab_79c4_11ea_94b9_ebd8f4d88e5clevel0_row21\" class=\"row_heading level0 row21\" >HimachalPradesh</th>\n",
       "                        <td id=\"T_46acd8ab_79c4_11ea_94b9_ebd8f4d88e5crow21_col0\" class=\"data row21 col0\" >13</td>\n",
       "            </tr>\n",
       "            <tr>\n",
       "                        <th id=\"T_46acd8ab_79c4_11ea_94b9_ebd8f4d88e5clevel0_row22\" class=\"row_heading level0 row22\" >AndamanNicobar</th>\n",
       "                        <td id=\"T_46acd8ab_79c4_11ea_94b9_ebd8f4d88e5crow22_col0\" class=\"data row22 col0\" >10</td>\n",
       "            </tr>\n",
       "            <tr>\n",
       "                        <th id=\"T_46acd8ab_79c4_11ea_94b9_ebd8f4d88e5clevel0_row23\" class=\"row_heading level0 row23\" >Chhattisgarh</th>\n",
       "                        <td id=\"T_46acd8ab_79c4_11ea_94b9_ebd8f4d88e5crow23_col0\" class=\"data row23 col0\" >10</td>\n",
       "            </tr>\n",
       "            <tr>\n",
       "                        <th id=\"T_46acd8ab_79c4_11ea_94b9_ebd8f4d88e5clevel0_row24\" class=\"row_heading level0 row24\" >Goa</th>\n",
       "                        <td id=\"T_46acd8ab_79c4_11ea_94b9_ebd8f4d88e5crow24_col0\" class=\"data row24 col0\" >7</td>\n",
       "            </tr>\n",
       "            <tr>\n",
       "                        <th id=\"T_46acd8ab_79c4_11ea_94b9_ebd8f4d88e5clevel0_row25\" class=\"row_heading level0 row25\" >Puducherry</th>\n",
       "                        <td id=\"T_46acd8ab_79c4_11ea_94b9_ebd8f4d88e5crow25_col0\" class=\"data row25 col0\" >5</td>\n",
       "            </tr>\n",
       "            <tr>\n",
       "                        <th id=\"T_46acd8ab_79c4_11ea_94b9_ebd8f4d88e5clevel0_row26\" class=\"row_heading level0 row26\" >Jharkhand</th>\n",
       "                        <td id=\"T_46acd8ab_79c4_11ea_94b9_ebd8f4d88e5crow26_col0\" class=\"data row26 col0\" >4</td>\n",
       "            </tr>\n",
       "            <tr>\n",
       "                        <th id=\"T_46acd8ab_79c4_11ea_94b9_ebd8f4d88e5clevel0_row27\" class=\"row_heading level0 row27\" >Manipur</th>\n",
       "                        <td id=\"T_46acd8ab_79c4_11ea_94b9_ebd8f4d88e5crow27_col0\" class=\"data row27 col0\" >2</td>\n",
       "            </tr>\n",
       "            <tr>\n",
       "                        <th id=\"T_46acd8ab_79c4_11ea_94b9_ebd8f4d88e5clevel0_row28\" class=\"row_heading level0 row28\" >Mizoram</th>\n",
       "                        <td id=\"T_46acd8ab_79c4_11ea_94b9_ebd8f4d88e5crow28_col0\" class=\"data row28 col0\" >1</td>\n",
       "            </tr>\n",
       "            <tr>\n",
       "                        <th id=\"T_46acd8ab_79c4_11ea_94b9_ebd8f4d88e5clevel0_row29\" class=\"row_heading level0 row29\" >Arunachal Pradesh</th>\n",
       "                        <td id=\"T_46acd8ab_79c4_11ea_94b9_ebd8f4d88e5crow29_col0\" class=\"data row29 col0\" >1</td>\n",
       "            </tr>\n",
       "            <tr>\n",
       "                        <th id=\"T_46acd8ab_79c4_11ea_94b9_ebd8f4d88e5clevel0_row30\" class=\"row_heading level0 row30\" >Tripura</th>\n",
       "                        <td id=\"T_46acd8ab_79c4_11ea_94b9_ebd8f4d88e5crow30_col0\" class=\"data row30 col0\" >1</td>\n",
       "            </tr>\n",
       "    </tbody></table>"
      ],
      "text/plain": [
       "<pandas.io.formats.style.Styler at 0x7fad16a64278>"
      ]
     },
     "execution_count": 13,
     "metadata": {},
     "output_type": "execute_result"
    }
   ],
   "source": [
    "total_active.style.background_gradient(cmap = 'Reds')"
   ]
  },
  {
   "cell_type": "code",
   "execution_count": 14,
   "metadata": {},
   "outputs": [
    {
     "data": {
      "application/vnd.plotly.v1+json": {
       "config": {
        "linkText": "Export to plot.ly",
        "plotlyServerURL": "https://plot.ly",
        "showLink": true
       },
       "data": [
        {
         "marker": {
          "color": "rgba(255, 153, 51, 0.6)",
          "line": {
           "color": "rgba(255, 153, 51, 1.0)",
           "width": 1
          }
         },
         "name": "TOTAL CONFIRMED",
         "orientation": "v",
         "text": "",
         "type": "bar",
         "x": [
          "AndhraPradesh",
          "AndamanNicobar",
          "Bihar",
          "Chandigarh",
          "Chhattisgarh",
          "Delhi",
          "Goa",
          "Gujarat",
          "Haryana",
          "HimachalPradesh",
          "J & K",
          "Karnataka",
          "Kerala",
          "Ladakh",
          "MP",
          "Maharashtra",
          "Manipur",
          "Mizoram",
          "Odisha",
          "Puducherry",
          "Punjab",
          "Rajasthan",
          "TamilNadu",
          "Telengana",
          "Uttarakhand",
          "UttarPradesh",
          "West Bengal",
          "Assam",
          "Jharkhand",
          "Arunachal Pradesh",
          "Tripura"
         ],
         "y": [
          226,
          10,
          32,
          18,
          10,
          576,
          7,
          165,
          90,
          13,
          116,
          175,
          327,
          14,
          229,
          868,
          2,
          1,
          42,
          5,
          91,
          228,
          621,
          364,
          31,
          305,
          91,
          26,
          4,
          1,
          1
         ]
        }
       ],
       "layout": {
        "legend": {
         "bgcolor": "#F5F6F9",
         "font": {
          "color": "#4D5663"
         }
        },
        "paper_bgcolor": "#F5F6F9",
        "plot_bgcolor": "#F5F6F9",
        "template": {
         "data": {
          "bar": [
           {
            "error_x": {
             "color": "#2a3f5f"
            },
            "error_y": {
             "color": "#2a3f5f"
            },
            "marker": {
             "line": {
              "color": "#E5ECF6",
              "width": 0.5
             }
            },
            "type": "bar"
           }
          ],
          "barpolar": [
           {
            "marker": {
             "line": {
              "color": "#E5ECF6",
              "width": 0.5
             }
            },
            "type": "barpolar"
           }
          ],
          "carpet": [
           {
            "aaxis": {
             "endlinecolor": "#2a3f5f",
             "gridcolor": "white",
             "linecolor": "white",
             "minorgridcolor": "white",
             "startlinecolor": "#2a3f5f"
            },
            "baxis": {
             "endlinecolor": "#2a3f5f",
             "gridcolor": "white",
             "linecolor": "white",
             "minorgridcolor": "white",
             "startlinecolor": "#2a3f5f"
            },
            "type": "carpet"
           }
          ],
          "choropleth": [
           {
            "colorbar": {
             "outlinewidth": 0,
             "ticks": ""
            },
            "type": "choropleth"
           }
          ],
          "contour": [
           {
            "colorbar": {
             "outlinewidth": 0,
             "ticks": ""
            },
            "colorscale": [
             [
              0,
              "#0d0887"
             ],
             [
              0.1111111111111111,
              "#46039f"
             ],
             [
              0.2222222222222222,
              "#7201a8"
             ],
             [
              0.3333333333333333,
              "#9c179e"
             ],
             [
              0.4444444444444444,
              "#bd3786"
             ],
             [
              0.5555555555555556,
              "#d8576b"
             ],
             [
              0.6666666666666666,
              "#ed7953"
             ],
             [
              0.7777777777777778,
              "#fb9f3a"
             ],
             [
              0.8888888888888888,
              "#fdca26"
             ],
             [
              1,
              "#f0f921"
             ]
            ],
            "type": "contour"
           }
          ],
          "contourcarpet": [
           {
            "colorbar": {
             "outlinewidth": 0,
             "ticks": ""
            },
            "type": "contourcarpet"
           }
          ],
          "heatmap": [
           {
            "colorbar": {
             "outlinewidth": 0,
             "ticks": ""
            },
            "colorscale": [
             [
              0,
              "#0d0887"
             ],
             [
              0.1111111111111111,
              "#46039f"
             ],
             [
              0.2222222222222222,
              "#7201a8"
             ],
             [
              0.3333333333333333,
              "#9c179e"
             ],
             [
              0.4444444444444444,
              "#bd3786"
             ],
             [
              0.5555555555555556,
              "#d8576b"
             ],
             [
              0.6666666666666666,
              "#ed7953"
             ],
             [
              0.7777777777777778,
              "#fb9f3a"
             ],
             [
              0.8888888888888888,
              "#fdca26"
             ],
             [
              1,
              "#f0f921"
             ]
            ],
            "type": "heatmap"
           }
          ],
          "heatmapgl": [
           {
            "colorbar": {
             "outlinewidth": 0,
             "ticks": ""
            },
            "colorscale": [
             [
              0,
              "#0d0887"
             ],
             [
              0.1111111111111111,
              "#46039f"
             ],
             [
              0.2222222222222222,
              "#7201a8"
             ],
             [
              0.3333333333333333,
              "#9c179e"
             ],
             [
              0.4444444444444444,
              "#bd3786"
             ],
             [
              0.5555555555555556,
              "#d8576b"
             ],
             [
              0.6666666666666666,
              "#ed7953"
             ],
             [
              0.7777777777777778,
              "#fb9f3a"
             ],
             [
              0.8888888888888888,
              "#fdca26"
             ],
             [
              1,
              "#f0f921"
             ]
            ],
            "type": "heatmapgl"
           }
          ],
          "histogram": [
           {
            "marker": {
             "colorbar": {
              "outlinewidth": 0,
              "ticks": ""
             }
            },
            "type": "histogram"
           }
          ],
          "histogram2d": [
           {
            "colorbar": {
             "outlinewidth": 0,
             "ticks": ""
            },
            "colorscale": [
             [
              0,
              "#0d0887"
             ],
             [
              0.1111111111111111,
              "#46039f"
             ],
             [
              0.2222222222222222,
              "#7201a8"
             ],
             [
              0.3333333333333333,
              "#9c179e"
             ],
             [
              0.4444444444444444,
              "#bd3786"
             ],
             [
              0.5555555555555556,
              "#d8576b"
             ],
             [
              0.6666666666666666,
              "#ed7953"
             ],
             [
              0.7777777777777778,
              "#fb9f3a"
             ],
             [
              0.8888888888888888,
              "#fdca26"
             ],
             [
              1,
              "#f0f921"
             ]
            ],
            "type": "histogram2d"
           }
          ],
          "histogram2dcontour": [
           {
            "colorbar": {
             "outlinewidth": 0,
             "ticks": ""
            },
            "colorscale": [
             [
              0,
              "#0d0887"
             ],
             [
              0.1111111111111111,
              "#46039f"
             ],
             [
              0.2222222222222222,
              "#7201a8"
             ],
             [
              0.3333333333333333,
              "#9c179e"
             ],
             [
              0.4444444444444444,
              "#bd3786"
             ],
             [
              0.5555555555555556,
              "#d8576b"
             ],
             [
              0.6666666666666666,
              "#ed7953"
             ],
             [
              0.7777777777777778,
              "#fb9f3a"
             ],
             [
              0.8888888888888888,
              "#fdca26"
             ],
             [
              1,
              "#f0f921"
             ]
            ],
            "type": "histogram2dcontour"
           }
          ],
          "mesh3d": [
           {
            "colorbar": {
             "outlinewidth": 0,
             "ticks": ""
            },
            "type": "mesh3d"
           }
          ],
          "parcoords": [
           {
            "line": {
             "colorbar": {
              "outlinewidth": 0,
              "ticks": ""
             }
            },
            "type": "parcoords"
           }
          ],
          "pie": [
           {
            "automargin": true,
            "type": "pie"
           }
          ],
          "scatter": [
           {
            "marker": {
             "colorbar": {
              "outlinewidth": 0,
              "ticks": ""
             }
            },
            "type": "scatter"
           }
          ],
          "scatter3d": [
           {
            "line": {
             "colorbar": {
              "outlinewidth": 0,
              "ticks": ""
             }
            },
            "marker": {
             "colorbar": {
              "outlinewidth": 0,
              "ticks": ""
             }
            },
            "type": "scatter3d"
           }
          ],
          "scattercarpet": [
           {
            "marker": {
             "colorbar": {
              "outlinewidth": 0,
              "ticks": ""
             }
            },
            "type": "scattercarpet"
           }
          ],
          "scattergeo": [
           {
            "marker": {
             "colorbar": {
              "outlinewidth": 0,
              "ticks": ""
             }
            },
            "type": "scattergeo"
           }
          ],
          "scattergl": [
           {
            "marker": {
             "colorbar": {
              "outlinewidth": 0,
              "ticks": ""
             }
            },
            "type": "scattergl"
           }
          ],
          "scattermapbox": [
           {
            "marker": {
             "colorbar": {
              "outlinewidth": 0,
              "ticks": ""
             }
            },
            "type": "scattermapbox"
           }
          ],
          "scatterpolar": [
           {
            "marker": {
             "colorbar": {
              "outlinewidth": 0,
              "ticks": ""
             }
            },
            "type": "scatterpolar"
           }
          ],
          "scatterpolargl": [
           {
            "marker": {
             "colorbar": {
              "outlinewidth": 0,
              "ticks": ""
             }
            },
            "type": "scatterpolargl"
           }
          ],
          "scatterternary": [
           {
            "marker": {
             "colorbar": {
              "outlinewidth": 0,
              "ticks": ""
             }
            },
            "type": "scatterternary"
           }
          ],
          "surface": [
           {
            "colorbar": {
             "outlinewidth": 0,
             "ticks": ""
            },
            "colorscale": [
             [
              0,
              "#0d0887"
             ],
             [
              0.1111111111111111,
              "#46039f"
             ],
             [
              0.2222222222222222,
              "#7201a8"
             ],
             [
              0.3333333333333333,
              "#9c179e"
             ],
             [
              0.4444444444444444,
              "#bd3786"
             ],
             [
              0.5555555555555556,
              "#d8576b"
             ],
             [
              0.6666666666666666,
              "#ed7953"
             ],
             [
              0.7777777777777778,
              "#fb9f3a"
             ],
             [
              0.8888888888888888,
              "#fdca26"
             ],
             [
              1,
              "#f0f921"
             ]
            ],
            "type": "surface"
           }
          ],
          "table": [
           {
            "cells": {
             "fill": {
              "color": "#EBF0F8"
             },
             "line": {
              "color": "white"
             }
            },
            "header": {
             "fill": {
              "color": "#C8D4E3"
             },
             "line": {
              "color": "white"
             }
            },
            "type": "table"
           }
          ]
         },
         "layout": {
          "annotationdefaults": {
           "arrowcolor": "#2a3f5f",
           "arrowhead": 0,
           "arrowwidth": 1
          },
          "coloraxis": {
           "colorbar": {
            "outlinewidth": 0,
            "ticks": ""
           }
          },
          "colorscale": {
           "diverging": [
            [
             0,
             "#8e0152"
            ],
            [
             0.1,
             "#c51b7d"
            ],
            [
             0.2,
             "#de77ae"
            ],
            [
             0.3,
             "#f1b6da"
            ],
            [
             0.4,
             "#fde0ef"
            ],
            [
             0.5,
             "#f7f7f7"
            ],
            [
             0.6,
             "#e6f5d0"
            ],
            [
             0.7,
             "#b8e186"
            ],
            [
             0.8,
             "#7fbc41"
            ],
            [
             0.9,
             "#4d9221"
            ],
            [
             1,
             "#276419"
            ]
           ],
           "sequential": [
            [
             0,
             "#0d0887"
            ],
            [
             0.1111111111111111,
             "#46039f"
            ],
            [
             0.2222222222222222,
             "#7201a8"
            ],
            [
             0.3333333333333333,
             "#9c179e"
            ],
            [
             0.4444444444444444,
             "#bd3786"
            ],
            [
             0.5555555555555556,
             "#d8576b"
            ],
            [
             0.6666666666666666,
             "#ed7953"
            ],
            [
             0.7777777777777778,
             "#fb9f3a"
            ],
            [
             0.8888888888888888,
             "#fdca26"
            ],
            [
             1,
             "#f0f921"
            ]
           ],
           "sequentialminus": [
            [
             0,
             "#0d0887"
            ],
            [
             0.1111111111111111,
             "#46039f"
            ],
            [
             0.2222222222222222,
             "#7201a8"
            ],
            [
             0.3333333333333333,
             "#9c179e"
            ],
            [
             0.4444444444444444,
             "#bd3786"
            ],
            [
             0.5555555555555556,
             "#d8576b"
            ],
            [
             0.6666666666666666,
             "#ed7953"
            ],
            [
             0.7777777777777778,
             "#fb9f3a"
            ],
            [
             0.8888888888888888,
             "#fdca26"
            ],
            [
             1,
             "#f0f921"
            ]
           ]
          },
          "colorway": [
           "#636efa",
           "#EF553B",
           "#00cc96",
           "#ab63fa",
           "#FFA15A",
           "#19d3f3",
           "#FF6692",
           "#B6E880",
           "#FF97FF",
           "#FECB52"
          ],
          "font": {
           "color": "#2a3f5f"
          },
          "geo": {
           "bgcolor": "white",
           "lakecolor": "white",
           "landcolor": "#E5ECF6",
           "showlakes": true,
           "showland": true,
           "subunitcolor": "white"
          },
          "hoverlabel": {
           "align": "left"
          },
          "hovermode": "closest",
          "mapbox": {
           "style": "light"
          },
          "paper_bgcolor": "white",
          "plot_bgcolor": "#E5ECF6",
          "polar": {
           "angularaxis": {
            "gridcolor": "white",
            "linecolor": "white",
            "ticks": ""
           },
           "bgcolor": "#E5ECF6",
           "radialaxis": {
            "gridcolor": "white",
            "linecolor": "white",
            "ticks": ""
           }
          },
          "scene": {
           "xaxis": {
            "backgroundcolor": "#E5ECF6",
            "gridcolor": "white",
            "gridwidth": 2,
            "linecolor": "white",
            "showbackground": true,
            "ticks": "",
            "zerolinecolor": "white"
           },
           "yaxis": {
            "backgroundcolor": "#E5ECF6",
            "gridcolor": "white",
            "gridwidth": 2,
            "linecolor": "white",
            "showbackground": true,
            "ticks": "",
            "zerolinecolor": "white"
           },
           "zaxis": {
            "backgroundcolor": "#E5ECF6",
            "gridcolor": "white",
            "gridwidth": 2,
            "linecolor": "white",
            "showbackground": true,
            "ticks": "",
            "zerolinecolor": "white"
           }
          },
          "shapedefaults": {
           "line": {
            "color": "#2a3f5f"
           }
          },
          "ternary": {
           "aaxis": {
            "gridcolor": "white",
            "linecolor": "white",
            "ticks": ""
           },
           "baxis": {
            "gridcolor": "white",
            "linecolor": "white",
            "ticks": ""
           },
           "bgcolor": "#E5ECF6",
           "caxis": {
            "gridcolor": "white",
            "linecolor": "white",
            "ticks": ""
           }
          },
          "title": {
           "x": 0.05
          },
          "xaxis": {
           "automargin": true,
           "gridcolor": "white",
           "linecolor": "white",
           "ticks": "",
           "title": {
            "standoff": 15
           },
           "zerolinecolor": "white",
           "zerolinewidth": 2
          },
          "yaxis": {
           "automargin": true,
           "gridcolor": "white",
           "linecolor": "white",
           "ticks": "",
           "title": {
            "standoff": 15
           },
           "zerolinecolor": "white",
           "zerolinewidth": 2
          }
         }
        },
        "title": {
         "font": {
          "color": "#4D5663"
         },
         "text": "State wise Covid-19 Cases"
        },
        "xaxis": {
         "gridcolor": "#E1E5ED",
         "showgrid": true,
         "tickfont": {
          "color": "#4D5663"
         },
         "title": {
          "font": {
           "color": "#4D5663"
          },
          "text": "State"
         },
         "zerolinecolor": "#E1E5ED"
        },
        "yaxis": {
         "gridcolor": "#E1E5ED",
         "showgrid": true,
         "tickfont": {
          "color": "#4D5663"
         },
         "title": {
          "font": {
           "color": "#4D5663"
          },
          "text": "Total Cases"
         },
         "zerolinecolor": "#E1E5ED"
        }
       }
      },
      "text/html": [
       "<div>\n",
       "        \n",
       "        \n",
       "            <div id=\"ad987f96-ff97-4e33-83e5-3896e970a25c\" class=\"plotly-graph-div\" style=\"height:525px; width:100%;\"></div>\n",
       "            <script type=\"text/javascript\">\n",
       "                require([\"plotly\"], function(Plotly) {\n",
       "                    window.PLOTLYENV=window.PLOTLYENV || {};\n",
       "                    window.PLOTLYENV.BASE_URL='https://plot.ly';\n",
       "                    \n",
       "                if (document.getElementById(\"ad987f96-ff97-4e33-83e5-3896e970a25c\")) {\n",
       "                    Plotly.newPlot(\n",
       "                        'ad987f96-ff97-4e33-83e5-3896e970a25c',\n",
       "                        [{\"marker\": {\"color\": \"rgba(255, 153, 51, 0.6)\", \"line\": {\"color\": \"rgba(255, 153, 51, 1.0)\", \"width\": 1}}, \"name\": \"TOTAL CONFIRMED\", \"orientation\": \"v\", \"text\": \"\", \"type\": \"bar\", \"x\": [\"AndhraPradesh\", \"AndamanNicobar\", \"Bihar\", \"Chandigarh\", \"Chhattisgarh\", \"Delhi\", \"Goa\", \"Gujarat\", \"Haryana\", \"HimachalPradesh\", \"J & K\", \"Karnataka\", \"Kerala\", \"Ladakh\", \"MP\", \"Maharashtra\", \"Manipur\", \"Mizoram\", \"Odisha\", \"Puducherry\", \"Punjab\", \"Rajasthan\", \"TamilNadu\", \"Telengana\", \"Uttarakhand\", \"UttarPradesh\", \"West Bengal\", \"Assam\", \"Jharkhand\", \"Arunachal Pradesh\", \"Tripura\"], \"y\": [226, 10, 32, 18, 10, 576, 7, 165, 90, 13, 116, 175, 327, 14, 229, 868, 2, 1, 42, 5, 91, 228, 621, 364, 31, 305, 91, 26, 4, 1, 1]}],\n",
       "                        {\"legend\": {\"bgcolor\": \"#F5F6F9\", \"font\": {\"color\": \"#4D5663\"}}, \"paper_bgcolor\": \"#F5F6F9\", \"plot_bgcolor\": \"#F5F6F9\", \"template\": {\"data\": {\"bar\": [{\"error_x\": {\"color\": \"#2a3f5f\"}, \"error_y\": {\"color\": \"#2a3f5f\"}, \"marker\": {\"line\": {\"color\": \"#E5ECF6\", \"width\": 0.5}}, \"type\": \"bar\"}], \"barpolar\": [{\"marker\": {\"line\": {\"color\": \"#E5ECF6\", \"width\": 0.5}}, \"type\": \"barpolar\"}], \"carpet\": [{\"aaxis\": {\"endlinecolor\": \"#2a3f5f\", \"gridcolor\": \"white\", \"linecolor\": \"white\", \"minorgridcolor\": \"white\", \"startlinecolor\": \"#2a3f5f\"}, \"baxis\": {\"endlinecolor\": \"#2a3f5f\", \"gridcolor\": \"white\", \"linecolor\": \"white\", \"minorgridcolor\": \"white\", \"startlinecolor\": \"#2a3f5f\"}, \"type\": \"carpet\"}], \"choropleth\": [{\"colorbar\": {\"outlinewidth\": 0, \"ticks\": \"\"}, \"type\": \"choropleth\"}], \"contour\": [{\"colorbar\": {\"outlinewidth\": 0, \"ticks\": \"\"}, \"colorscale\": [[0.0, \"#0d0887\"], [0.1111111111111111, \"#46039f\"], [0.2222222222222222, \"#7201a8\"], [0.3333333333333333, \"#9c179e\"], [0.4444444444444444, \"#bd3786\"], [0.5555555555555556, \"#d8576b\"], [0.6666666666666666, \"#ed7953\"], [0.7777777777777778, \"#fb9f3a\"], [0.8888888888888888, \"#fdca26\"], [1.0, \"#f0f921\"]], \"type\": \"contour\"}], \"contourcarpet\": [{\"colorbar\": {\"outlinewidth\": 0, \"ticks\": \"\"}, \"type\": \"contourcarpet\"}], \"heatmap\": [{\"colorbar\": {\"outlinewidth\": 0, \"ticks\": \"\"}, \"colorscale\": [[0.0, \"#0d0887\"], [0.1111111111111111, \"#46039f\"], [0.2222222222222222, \"#7201a8\"], [0.3333333333333333, \"#9c179e\"], [0.4444444444444444, \"#bd3786\"], [0.5555555555555556, \"#d8576b\"], [0.6666666666666666, \"#ed7953\"], [0.7777777777777778, \"#fb9f3a\"], [0.8888888888888888, \"#fdca26\"], [1.0, \"#f0f921\"]], \"type\": \"heatmap\"}], \"heatmapgl\": [{\"colorbar\": {\"outlinewidth\": 0, \"ticks\": \"\"}, \"colorscale\": [[0.0, \"#0d0887\"], [0.1111111111111111, \"#46039f\"], [0.2222222222222222, \"#7201a8\"], [0.3333333333333333, \"#9c179e\"], [0.4444444444444444, \"#bd3786\"], [0.5555555555555556, \"#d8576b\"], [0.6666666666666666, \"#ed7953\"], [0.7777777777777778, \"#fb9f3a\"], [0.8888888888888888, \"#fdca26\"], [1.0, \"#f0f921\"]], \"type\": \"heatmapgl\"}], \"histogram\": [{\"marker\": {\"colorbar\": {\"outlinewidth\": 0, \"ticks\": \"\"}}, \"type\": \"histogram\"}], \"histogram2d\": [{\"colorbar\": {\"outlinewidth\": 0, \"ticks\": \"\"}, \"colorscale\": [[0.0, \"#0d0887\"], [0.1111111111111111, \"#46039f\"], [0.2222222222222222, \"#7201a8\"], [0.3333333333333333, \"#9c179e\"], [0.4444444444444444, \"#bd3786\"], [0.5555555555555556, \"#d8576b\"], [0.6666666666666666, \"#ed7953\"], [0.7777777777777778, \"#fb9f3a\"], [0.8888888888888888, \"#fdca26\"], [1.0, \"#f0f921\"]], \"type\": \"histogram2d\"}], \"histogram2dcontour\": [{\"colorbar\": {\"outlinewidth\": 0, \"ticks\": \"\"}, \"colorscale\": [[0.0, \"#0d0887\"], [0.1111111111111111, \"#46039f\"], [0.2222222222222222, \"#7201a8\"], [0.3333333333333333, \"#9c179e\"], [0.4444444444444444, \"#bd3786\"], [0.5555555555555556, \"#d8576b\"], [0.6666666666666666, \"#ed7953\"], [0.7777777777777778, \"#fb9f3a\"], [0.8888888888888888, \"#fdca26\"], [1.0, \"#f0f921\"]], \"type\": \"histogram2dcontour\"}], \"mesh3d\": [{\"colorbar\": {\"outlinewidth\": 0, \"ticks\": \"\"}, \"type\": \"mesh3d\"}], \"parcoords\": [{\"line\": {\"colorbar\": {\"outlinewidth\": 0, \"ticks\": \"\"}}, \"type\": \"parcoords\"}], \"pie\": [{\"automargin\": true, \"type\": \"pie\"}], \"scatter\": [{\"marker\": {\"colorbar\": {\"outlinewidth\": 0, \"ticks\": \"\"}}, \"type\": \"scatter\"}], \"scatter3d\": [{\"line\": {\"colorbar\": {\"outlinewidth\": 0, \"ticks\": \"\"}}, \"marker\": {\"colorbar\": {\"outlinewidth\": 0, \"ticks\": \"\"}}, \"type\": \"scatter3d\"}], \"scattercarpet\": [{\"marker\": {\"colorbar\": {\"outlinewidth\": 0, \"ticks\": \"\"}}, \"type\": \"scattercarpet\"}], \"scattergeo\": [{\"marker\": {\"colorbar\": {\"outlinewidth\": 0, \"ticks\": \"\"}}, \"type\": \"scattergeo\"}], \"scattergl\": [{\"marker\": {\"colorbar\": {\"outlinewidth\": 0, \"ticks\": \"\"}}, \"type\": \"scattergl\"}], \"scattermapbox\": [{\"marker\": {\"colorbar\": {\"outlinewidth\": 0, \"ticks\": \"\"}}, \"type\": \"scattermapbox\"}], \"scatterpolar\": [{\"marker\": {\"colorbar\": {\"outlinewidth\": 0, \"ticks\": \"\"}}, \"type\": \"scatterpolar\"}], \"scatterpolargl\": [{\"marker\": {\"colorbar\": {\"outlinewidth\": 0, \"ticks\": \"\"}}, \"type\": \"scatterpolargl\"}], \"scatterternary\": [{\"marker\": {\"colorbar\": {\"outlinewidth\": 0, \"ticks\": \"\"}}, \"type\": \"scatterternary\"}], \"surface\": [{\"colorbar\": {\"outlinewidth\": 0, \"ticks\": \"\"}, \"colorscale\": [[0.0, \"#0d0887\"], [0.1111111111111111, \"#46039f\"], [0.2222222222222222, \"#7201a8\"], [0.3333333333333333, \"#9c179e\"], [0.4444444444444444, \"#bd3786\"], [0.5555555555555556, \"#d8576b\"], [0.6666666666666666, \"#ed7953\"], [0.7777777777777778, \"#fb9f3a\"], [0.8888888888888888, \"#fdca26\"], [1.0, \"#f0f921\"]], \"type\": \"surface\"}], \"table\": [{\"cells\": {\"fill\": {\"color\": \"#EBF0F8\"}, \"line\": {\"color\": \"white\"}}, \"header\": {\"fill\": {\"color\": \"#C8D4E3\"}, \"line\": {\"color\": \"white\"}}, \"type\": \"table\"}]}, \"layout\": {\"annotationdefaults\": {\"arrowcolor\": \"#2a3f5f\", \"arrowhead\": 0, \"arrowwidth\": 1}, \"coloraxis\": {\"colorbar\": {\"outlinewidth\": 0, \"ticks\": \"\"}}, \"colorscale\": {\"diverging\": [[0, \"#8e0152\"], [0.1, \"#c51b7d\"], [0.2, \"#de77ae\"], [0.3, \"#f1b6da\"], [0.4, \"#fde0ef\"], [0.5, \"#f7f7f7\"], [0.6, \"#e6f5d0\"], [0.7, \"#b8e186\"], [0.8, \"#7fbc41\"], [0.9, \"#4d9221\"], [1, \"#276419\"]], \"sequential\": [[0.0, \"#0d0887\"], [0.1111111111111111, \"#46039f\"], [0.2222222222222222, \"#7201a8\"], [0.3333333333333333, \"#9c179e\"], [0.4444444444444444, \"#bd3786\"], [0.5555555555555556, \"#d8576b\"], [0.6666666666666666, \"#ed7953\"], [0.7777777777777778, \"#fb9f3a\"], [0.8888888888888888, \"#fdca26\"], [1.0, \"#f0f921\"]], \"sequentialminus\": [[0.0, \"#0d0887\"], [0.1111111111111111, \"#46039f\"], [0.2222222222222222, \"#7201a8\"], [0.3333333333333333, \"#9c179e\"], [0.4444444444444444, \"#bd3786\"], [0.5555555555555556, \"#d8576b\"], [0.6666666666666666, \"#ed7953\"], [0.7777777777777778, \"#fb9f3a\"], [0.8888888888888888, \"#fdca26\"], [1.0, \"#f0f921\"]]}, \"colorway\": [\"#636efa\", \"#EF553B\", \"#00cc96\", \"#ab63fa\", \"#FFA15A\", \"#19d3f3\", \"#FF6692\", \"#B6E880\", \"#FF97FF\", \"#FECB52\"], \"font\": {\"color\": \"#2a3f5f\"}, \"geo\": {\"bgcolor\": \"white\", \"lakecolor\": \"white\", \"landcolor\": \"#E5ECF6\", \"showlakes\": true, \"showland\": true, \"subunitcolor\": \"white\"}, \"hoverlabel\": {\"align\": \"left\"}, \"hovermode\": \"closest\", \"mapbox\": {\"style\": \"light\"}, \"paper_bgcolor\": \"white\", \"plot_bgcolor\": \"#E5ECF6\", \"polar\": {\"angularaxis\": {\"gridcolor\": \"white\", \"linecolor\": \"white\", \"ticks\": \"\"}, \"bgcolor\": \"#E5ECF6\", \"radialaxis\": {\"gridcolor\": \"white\", \"linecolor\": \"white\", \"ticks\": \"\"}}, \"scene\": {\"xaxis\": {\"backgroundcolor\": \"#E5ECF6\", \"gridcolor\": \"white\", \"gridwidth\": 2, \"linecolor\": \"white\", \"showbackground\": true, \"ticks\": \"\", \"zerolinecolor\": \"white\"}, \"yaxis\": {\"backgroundcolor\": \"#E5ECF6\", \"gridcolor\": \"white\", \"gridwidth\": 2, \"linecolor\": \"white\", \"showbackground\": true, \"ticks\": \"\", \"zerolinecolor\": \"white\"}, \"zaxis\": {\"backgroundcolor\": \"#E5ECF6\", \"gridcolor\": \"white\", \"gridwidth\": 2, \"linecolor\": \"white\", \"showbackground\": true, \"ticks\": \"\", \"zerolinecolor\": \"white\"}}, \"shapedefaults\": {\"line\": {\"color\": \"#2a3f5f\"}}, \"ternary\": {\"aaxis\": {\"gridcolor\": \"white\", \"linecolor\": \"white\", \"ticks\": \"\"}, \"baxis\": {\"gridcolor\": \"white\", \"linecolor\": \"white\", \"ticks\": \"\"}, \"bgcolor\": \"#E5ECF6\", \"caxis\": {\"gridcolor\": \"white\", \"linecolor\": \"white\", \"ticks\": \"\"}}, \"title\": {\"x\": 0.05}, \"xaxis\": {\"automargin\": true, \"gridcolor\": \"white\", \"linecolor\": \"white\", \"ticks\": \"\", \"title\": {\"standoff\": 15}, \"zerolinecolor\": \"white\", \"zerolinewidth\": 2}, \"yaxis\": {\"automargin\": true, \"gridcolor\": \"white\", \"linecolor\": \"white\", \"ticks\": \"\", \"title\": {\"standoff\": 15}, \"zerolinecolor\": \"white\", \"zerolinewidth\": 2}}}, \"title\": {\"font\": {\"color\": \"#4D5663\"}, \"text\": \"State wise Covid-19 Cases\"}, \"xaxis\": {\"gridcolor\": \"#E1E5ED\", \"showgrid\": true, \"tickfont\": {\"color\": \"#4D5663\"}, \"title\": {\"font\": {\"color\": \"#4D5663\"}, \"text\": \"State\"}, \"zerolinecolor\": \"#E1E5ED\"}, \"yaxis\": {\"gridcolor\": \"#E1E5ED\", \"showgrid\": true, \"tickfont\": {\"color\": \"#4D5663\"}, \"title\": {\"font\": {\"color\": \"#4D5663\"}, \"text\": \"Total Cases\"}, \"zerolinecolor\": \"#E1E5ED\"}},\n",
       "                        {\"showLink\": true, \"linkText\": \"Export to plot.ly\", \"plotlyServerURL\": \"https://plot.ly\", \"responsive\": true}\n",
       "                    ).then(function(){\n",
       "                            \n",
       "var gd = document.getElementById('ad987f96-ff97-4e33-83e5-3896e970a25c');\n",
       "var x = new MutationObserver(function (mutations, observer) {{\n",
       "        var display = window.getComputedStyle(gd).display;\n",
       "        if (!display || display === 'none') {{\n",
       "            console.log([gd, 'removed!']);\n",
       "            Plotly.purge(gd);\n",
       "            observer.disconnect();\n",
       "        }}\n",
       "}});\n",
       "\n",
       "// Listen for the removal of the full notebook cells\n",
       "var notebookContainer = gd.closest('#notebook-container');\n",
       "if (notebookContainer) {{\n",
       "    x.observe(notebookContainer, {childList: true});\n",
       "}}\n",
       "\n",
       "// Listen for the clearing of the current output cell\n",
       "var outputEl = gd.closest('.output');\n",
       "if (outputEl) {{\n",
       "    x.observe(outputEl, {childList: true});\n",
       "}}\n",
       "\n",
       "                        })\n",
       "                };\n",
       "                });\n",
       "            </script>\n",
       "        </div>"
      ]
     },
     "metadata": {},
     "output_type": "display_data"
    }
   ],
   "source": [
    "covid_india.iplot(kind='bar',x='STATE NAME',y='TOTAL CONFIRMED',\n",
    "                  title='State wise Covid-19 Cases',xTitle='State',yTitle='Total Cases')"
   ]
  },
  {
   "cell_type": "code",
   "execution_count": 15,
   "metadata": {},
   "outputs": [
    {
     "data": {
      "application/vnd.plotly.v1+json": {
       "config": {
        "plotlyServerURL": "https://plot.ly"
       },
       "data": [
        {
         "alignmentgroup": "True",
         "hovertemplate": "STATE NAME=%{x}<br>TOTAL CONFIRMED=%{marker.color}<extra></extra>",
         "legendgroup": "",
         "marker": {
          "color": [
           226,
           10,
           32,
           18,
           10,
           576,
           7,
           165,
           90,
           13,
           116,
           175,
           327,
           14,
           229,
           868,
           2,
           1,
           42,
           5,
           91,
           228,
           621,
           364,
           31,
           305,
           91,
           26,
           4,
           1,
           1
          ],
          "coloraxis": "coloraxis"
         },
         "name": "",
         "offsetgroup": "",
         "orientation": "v",
         "showlegend": false,
         "textposition": "auto",
         "type": "bar",
         "x": [
          "AndhraPradesh",
          "AndamanNicobar",
          "Bihar",
          "Chandigarh",
          "Chhattisgarh",
          "Delhi",
          "Goa",
          "Gujarat",
          "Haryana",
          "HimachalPradesh",
          "J & K",
          "Karnataka",
          "Kerala",
          "Ladakh",
          "MP",
          "Maharashtra",
          "Manipur",
          "Mizoram",
          "Odisha",
          "Puducherry",
          "Punjab",
          "Rajasthan",
          "TamilNadu",
          "Telengana",
          "Uttarakhand",
          "UttarPradesh",
          "West Bengal",
          "Assam",
          "Jharkhand",
          "Arunachal Pradesh",
          "Tripura"
         ],
         "xaxis": "x",
         "y": [
          226,
          10,
          32,
          18,
          10,
          576,
          7,
          165,
          90,
          13,
          116,
          175,
          327,
          14,
          229,
          868,
          2,
          1,
          42,
          5,
          91,
          228,
          621,
          364,
          31,
          305,
          91,
          26,
          4,
          1,
          1
         ],
         "yaxis": "y"
        }
       ],
       "layout": {
        "barmode": "relative",
        "coloraxis": {
         "colorbar": {
          "title": {
           "text": "TOTAL CONFIRMED"
          }
         },
         "colorscale": [
          [
           0,
           "#0d0887"
          ],
          [
           0.1111111111111111,
           "#46039f"
          ],
          [
           0.2222222222222222,
           "#7201a8"
          ],
          [
           0.3333333333333333,
           "#9c179e"
          ],
          [
           0.4444444444444444,
           "#bd3786"
          ],
          [
           0.5555555555555556,
           "#d8576b"
          ],
          [
           0.6666666666666666,
           "#ed7953"
          ],
          [
           0.7777777777777778,
           "#fb9f3a"
          ],
          [
           0.8888888888888888,
           "#fdca26"
          ],
          [
           1,
           "#f0f921"
          ]
         ]
        },
        "legend": {
         "tracegroupgap": 0
        },
        "template": {
         "data": {
          "bar": [
           {
            "error_x": {
             "color": "#2a3f5f"
            },
            "error_y": {
             "color": "#2a3f5f"
            },
            "marker": {
             "line": {
              "color": "#E5ECF6",
              "width": 0.5
             }
            },
            "type": "bar"
           }
          ],
          "barpolar": [
           {
            "marker": {
             "line": {
              "color": "#E5ECF6",
              "width": 0.5
             }
            },
            "type": "barpolar"
           }
          ],
          "carpet": [
           {
            "aaxis": {
             "endlinecolor": "#2a3f5f",
             "gridcolor": "white",
             "linecolor": "white",
             "minorgridcolor": "white",
             "startlinecolor": "#2a3f5f"
            },
            "baxis": {
             "endlinecolor": "#2a3f5f",
             "gridcolor": "white",
             "linecolor": "white",
             "minorgridcolor": "white",
             "startlinecolor": "#2a3f5f"
            },
            "type": "carpet"
           }
          ],
          "choropleth": [
           {
            "colorbar": {
             "outlinewidth": 0,
             "ticks": ""
            },
            "type": "choropleth"
           }
          ],
          "contour": [
           {
            "colorbar": {
             "outlinewidth": 0,
             "ticks": ""
            },
            "colorscale": [
             [
              0,
              "#0d0887"
             ],
             [
              0.1111111111111111,
              "#46039f"
             ],
             [
              0.2222222222222222,
              "#7201a8"
             ],
             [
              0.3333333333333333,
              "#9c179e"
             ],
             [
              0.4444444444444444,
              "#bd3786"
             ],
             [
              0.5555555555555556,
              "#d8576b"
             ],
             [
              0.6666666666666666,
              "#ed7953"
             ],
             [
              0.7777777777777778,
              "#fb9f3a"
             ],
             [
              0.8888888888888888,
              "#fdca26"
             ],
             [
              1,
              "#f0f921"
             ]
            ],
            "type": "contour"
           }
          ],
          "contourcarpet": [
           {
            "colorbar": {
             "outlinewidth": 0,
             "ticks": ""
            },
            "type": "contourcarpet"
           }
          ],
          "heatmap": [
           {
            "colorbar": {
             "outlinewidth": 0,
             "ticks": ""
            },
            "colorscale": [
             [
              0,
              "#0d0887"
             ],
             [
              0.1111111111111111,
              "#46039f"
             ],
             [
              0.2222222222222222,
              "#7201a8"
             ],
             [
              0.3333333333333333,
              "#9c179e"
             ],
             [
              0.4444444444444444,
              "#bd3786"
             ],
             [
              0.5555555555555556,
              "#d8576b"
             ],
             [
              0.6666666666666666,
              "#ed7953"
             ],
             [
              0.7777777777777778,
              "#fb9f3a"
             ],
             [
              0.8888888888888888,
              "#fdca26"
             ],
             [
              1,
              "#f0f921"
             ]
            ],
            "type": "heatmap"
           }
          ],
          "heatmapgl": [
           {
            "colorbar": {
             "outlinewidth": 0,
             "ticks": ""
            },
            "colorscale": [
             [
              0,
              "#0d0887"
             ],
             [
              0.1111111111111111,
              "#46039f"
             ],
             [
              0.2222222222222222,
              "#7201a8"
             ],
             [
              0.3333333333333333,
              "#9c179e"
             ],
             [
              0.4444444444444444,
              "#bd3786"
             ],
             [
              0.5555555555555556,
              "#d8576b"
             ],
             [
              0.6666666666666666,
              "#ed7953"
             ],
             [
              0.7777777777777778,
              "#fb9f3a"
             ],
             [
              0.8888888888888888,
              "#fdca26"
             ],
             [
              1,
              "#f0f921"
             ]
            ],
            "type": "heatmapgl"
           }
          ],
          "histogram": [
           {
            "marker": {
             "colorbar": {
              "outlinewidth": 0,
              "ticks": ""
             }
            },
            "type": "histogram"
           }
          ],
          "histogram2d": [
           {
            "colorbar": {
             "outlinewidth": 0,
             "ticks": ""
            },
            "colorscale": [
             [
              0,
              "#0d0887"
             ],
             [
              0.1111111111111111,
              "#46039f"
             ],
             [
              0.2222222222222222,
              "#7201a8"
             ],
             [
              0.3333333333333333,
              "#9c179e"
             ],
             [
              0.4444444444444444,
              "#bd3786"
             ],
             [
              0.5555555555555556,
              "#d8576b"
             ],
             [
              0.6666666666666666,
              "#ed7953"
             ],
             [
              0.7777777777777778,
              "#fb9f3a"
             ],
             [
              0.8888888888888888,
              "#fdca26"
             ],
             [
              1,
              "#f0f921"
             ]
            ],
            "type": "histogram2d"
           }
          ],
          "histogram2dcontour": [
           {
            "colorbar": {
             "outlinewidth": 0,
             "ticks": ""
            },
            "colorscale": [
             [
              0,
              "#0d0887"
             ],
             [
              0.1111111111111111,
              "#46039f"
             ],
             [
              0.2222222222222222,
              "#7201a8"
             ],
             [
              0.3333333333333333,
              "#9c179e"
             ],
             [
              0.4444444444444444,
              "#bd3786"
             ],
             [
              0.5555555555555556,
              "#d8576b"
             ],
             [
              0.6666666666666666,
              "#ed7953"
             ],
             [
              0.7777777777777778,
              "#fb9f3a"
             ],
             [
              0.8888888888888888,
              "#fdca26"
             ],
             [
              1,
              "#f0f921"
             ]
            ],
            "type": "histogram2dcontour"
           }
          ],
          "mesh3d": [
           {
            "colorbar": {
             "outlinewidth": 0,
             "ticks": ""
            },
            "type": "mesh3d"
           }
          ],
          "parcoords": [
           {
            "line": {
             "colorbar": {
              "outlinewidth": 0,
              "ticks": ""
             }
            },
            "type": "parcoords"
           }
          ],
          "pie": [
           {
            "automargin": true,
            "type": "pie"
           }
          ],
          "scatter": [
           {
            "marker": {
             "colorbar": {
              "outlinewidth": 0,
              "ticks": ""
             }
            },
            "type": "scatter"
           }
          ],
          "scatter3d": [
           {
            "line": {
             "colorbar": {
              "outlinewidth": 0,
              "ticks": ""
             }
            },
            "marker": {
             "colorbar": {
              "outlinewidth": 0,
              "ticks": ""
             }
            },
            "type": "scatter3d"
           }
          ],
          "scattercarpet": [
           {
            "marker": {
             "colorbar": {
              "outlinewidth": 0,
              "ticks": ""
             }
            },
            "type": "scattercarpet"
           }
          ],
          "scattergeo": [
           {
            "marker": {
             "colorbar": {
              "outlinewidth": 0,
              "ticks": ""
             }
            },
            "type": "scattergeo"
           }
          ],
          "scattergl": [
           {
            "marker": {
             "colorbar": {
              "outlinewidth": 0,
              "ticks": ""
             }
            },
            "type": "scattergl"
           }
          ],
          "scattermapbox": [
           {
            "marker": {
             "colorbar": {
              "outlinewidth": 0,
              "ticks": ""
             }
            },
            "type": "scattermapbox"
           }
          ],
          "scatterpolar": [
           {
            "marker": {
             "colorbar": {
              "outlinewidth": 0,
              "ticks": ""
             }
            },
            "type": "scatterpolar"
           }
          ],
          "scatterpolargl": [
           {
            "marker": {
             "colorbar": {
              "outlinewidth": 0,
              "ticks": ""
             }
            },
            "type": "scatterpolargl"
           }
          ],
          "scatterternary": [
           {
            "marker": {
             "colorbar": {
              "outlinewidth": 0,
              "ticks": ""
             }
            },
            "type": "scatterternary"
           }
          ],
          "surface": [
           {
            "colorbar": {
             "outlinewidth": 0,
             "ticks": ""
            },
            "colorscale": [
             [
              0,
              "#0d0887"
             ],
             [
              0.1111111111111111,
              "#46039f"
             ],
             [
              0.2222222222222222,
              "#7201a8"
             ],
             [
              0.3333333333333333,
              "#9c179e"
             ],
             [
              0.4444444444444444,
              "#bd3786"
             ],
             [
              0.5555555555555556,
              "#d8576b"
             ],
             [
              0.6666666666666666,
              "#ed7953"
             ],
             [
              0.7777777777777778,
              "#fb9f3a"
             ],
             [
              0.8888888888888888,
              "#fdca26"
             ],
             [
              1,
              "#f0f921"
             ]
            ],
            "type": "surface"
           }
          ],
          "table": [
           {
            "cells": {
             "fill": {
              "color": "#EBF0F8"
             },
             "line": {
              "color": "white"
             }
            },
            "header": {
             "fill": {
              "color": "#C8D4E3"
             },
             "line": {
              "color": "white"
             }
            },
            "type": "table"
           }
          ]
         },
         "layout": {
          "annotationdefaults": {
           "arrowcolor": "#2a3f5f",
           "arrowhead": 0,
           "arrowwidth": 1
          },
          "coloraxis": {
           "colorbar": {
            "outlinewidth": 0,
            "ticks": ""
           }
          },
          "colorscale": {
           "diverging": [
            [
             0,
             "#8e0152"
            ],
            [
             0.1,
             "#c51b7d"
            ],
            [
             0.2,
             "#de77ae"
            ],
            [
             0.3,
             "#f1b6da"
            ],
            [
             0.4,
             "#fde0ef"
            ],
            [
             0.5,
             "#f7f7f7"
            ],
            [
             0.6,
             "#e6f5d0"
            ],
            [
             0.7,
             "#b8e186"
            ],
            [
             0.8,
             "#7fbc41"
            ],
            [
             0.9,
             "#4d9221"
            ],
            [
             1,
             "#276419"
            ]
           ],
           "sequential": [
            [
             0,
             "#0d0887"
            ],
            [
             0.1111111111111111,
             "#46039f"
            ],
            [
             0.2222222222222222,
             "#7201a8"
            ],
            [
             0.3333333333333333,
             "#9c179e"
            ],
            [
             0.4444444444444444,
             "#bd3786"
            ],
            [
             0.5555555555555556,
             "#d8576b"
            ],
            [
             0.6666666666666666,
             "#ed7953"
            ],
            [
             0.7777777777777778,
             "#fb9f3a"
            ],
            [
             0.8888888888888888,
             "#fdca26"
            ],
            [
             1,
             "#f0f921"
            ]
           ],
           "sequentialminus": [
            [
             0,
             "#0d0887"
            ],
            [
             0.1111111111111111,
             "#46039f"
            ],
            [
             0.2222222222222222,
             "#7201a8"
            ],
            [
             0.3333333333333333,
             "#9c179e"
            ],
            [
             0.4444444444444444,
             "#bd3786"
            ],
            [
             0.5555555555555556,
             "#d8576b"
            ],
            [
             0.6666666666666666,
             "#ed7953"
            ],
            [
             0.7777777777777778,
             "#fb9f3a"
            ],
            [
             0.8888888888888888,
             "#fdca26"
            ],
            [
             1,
             "#f0f921"
            ]
           ]
          },
          "colorway": [
           "#636efa",
           "#EF553B",
           "#00cc96",
           "#ab63fa",
           "#FFA15A",
           "#19d3f3",
           "#FF6692",
           "#B6E880",
           "#FF97FF",
           "#FECB52"
          ],
          "font": {
           "color": "#2a3f5f"
          },
          "geo": {
           "bgcolor": "white",
           "lakecolor": "white",
           "landcolor": "#E5ECF6",
           "showlakes": true,
           "showland": true,
           "subunitcolor": "white"
          },
          "hoverlabel": {
           "align": "left"
          },
          "hovermode": "closest",
          "mapbox": {
           "style": "light"
          },
          "paper_bgcolor": "white",
          "plot_bgcolor": "#E5ECF6",
          "polar": {
           "angularaxis": {
            "gridcolor": "white",
            "linecolor": "white",
            "ticks": ""
           },
           "bgcolor": "#E5ECF6",
           "radialaxis": {
            "gridcolor": "white",
            "linecolor": "white",
            "ticks": ""
           }
          },
          "scene": {
           "xaxis": {
            "backgroundcolor": "#E5ECF6",
            "gridcolor": "white",
            "gridwidth": 2,
            "linecolor": "white",
            "showbackground": true,
            "ticks": "",
            "zerolinecolor": "white"
           },
           "yaxis": {
            "backgroundcolor": "#E5ECF6",
            "gridcolor": "white",
            "gridwidth": 2,
            "linecolor": "white",
            "showbackground": true,
            "ticks": "",
            "zerolinecolor": "white"
           },
           "zaxis": {
            "backgroundcolor": "#E5ECF6",
            "gridcolor": "white",
            "gridwidth": 2,
            "linecolor": "white",
            "showbackground": true,
            "ticks": "",
            "zerolinecolor": "white"
           }
          },
          "shapedefaults": {
           "line": {
            "color": "#2a3f5f"
           }
          },
          "ternary": {
           "aaxis": {
            "gridcolor": "white",
            "linecolor": "white",
            "ticks": ""
           },
           "baxis": {
            "gridcolor": "white",
            "linecolor": "white",
            "ticks": ""
           },
           "bgcolor": "#E5ECF6",
           "caxis": {
            "gridcolor": "white",
            "linecolor": "white",
            "ticks": ""
           }
          },
          "title": {
           "x": 0.05
          },
          "xaxis": {
           "automargin": true,
           "gridcolor": "white",
           "linecolor": "white",
           "ticks": "",
           "title": {
            "standoff": 15
           },
           "zerolinecolor": "white",
           "zerolinewidth": 2
          },
          "yaxis": {
           "automargin": true,
           "gridcolor": "white",
           "linecolor": "white",
           "ticks": "",
           "title": {
            "standoff": 15
           },
           "zerolinecolor": "white",
           "zerolinewidth": 2
          }
         }
        },
        "title": {
         "text": "Total cases in India"
        },
        "xaxis": {
         "anchor": "y",
         "domain": [
          0,
          1
         ],
         "title": {
          "text": "STATE NAME"
         }
        },
        "yaxis": {
         "anchor": "x",
         "domain": [
          0,
          1
         ],
         "title": {
          "text": "TOTAL CONFIRMED"
         }
        }
       }
      },
      "text/html": [
       "<div>\n",
       "        \n",
       "        \n",
       "            <div id=\"59ab7c6b-df28-40b9-ac12-f0752a8370a9\" class=\"plotly-graph-div\" style=\"height:525px; width:100%;\"></div>\n",
       "            <script type=\"text/javascript\">\n",
       "                require([\"plotly\"], function(Plotly) {\n",
       "                    window.PLOTLYENV=window.PLOTLYENV || {};\n",
       "                    \n",
       "                if (document.getElementById(\"59ab7c6b-df28-40b9-ac12-f0752a8370a9\")) {\n",
       "                    Plotly.newPlot(\n",
       "                        '59ab7c6b-df28-40b9-ac12-f0752a8370a9',\n",
       "                        [{\"alignmentgroup\": \"True\", \"hovertemplate\": \"STATE NAME=%{x}<br>TOTAL CONFIRMED=%{marker.color}<extra></extra>\", \"legendgroup\": \"\", \"marker\": {\"color\": [226, 10, 32, 18, 10, 576, 7, 165, 90, 13, 116, 175, 327, 14, 229, 868, 2, 1, 42, 5, 91, 228, 621, 364, 31, 305, 91, 26, 4, 1, 1], \"coloraxis\": \"coloraxis\"}, \"name\": \"\", \"offsetgroup\": \"\", \"orientation\": \"v\", \"showlegend\": false, \"textposition\": \"auto\", \"type\": \"bar\", \"x\": [\"AndhraPradesh\", \"AndamanNicobar\", \"Bihar\", \"Chandigarh\", \"Chhattisgarh\", \"Delhi\", \"Goa\", \"Gujarat\", \"Haryana\", \"HimachalPradesh\", \"J & K\", \"Karnataka\", \"Kerala\", \"Ladakh\", \"MP\", \"Maharashtra\", \"Manipur\", \"Mizoram\", \"Odisha\", \"Puducherry\", \"Punjab\", \"Rajasthan\", \"TamilNadu\", \"Telengana\", \"Uttarakhand\", \"UttarPradesh\", \"West Bengal\", \"Assam\", \"Jharkhand\", \"Arunachal Pradesh\", \"Tripura\"], \"xaxis\": \"x\", \"y\": [226, 10, 32, 18, 10, 576, 7, 165, 90, 13, 116, 175, 327, 14, 229, 868, 2, 1, 42, 5, 91, 228, 621, 364, 31, 305, 91, 26, 4, 1, 1], \"yaxis\": \"y\"}],\n",
       "                        {\"barmode\": \"relative\", \"coloraxis\": {\"colorbar\": {\"title\": {\"text\": \"TOTAL CONFIRMED\"}}, \"colorscale\": [[0.0, \"#0d0887\"], [0.1111111111111111, \"#46039f\"], [0.2222222222222222, \"#7201a8\"], [0.3333333333333333, \"#9c179e\"], [0.4444444444444444, \"#bd3786\"], [0.5555555555555556, \"#d8576b\"], [0.6666666666666666, \"#ed7953\"], [0.7777777777777778, \"#fb9f3a\"], [0.8888888888888888, \"#fdca26\"], [1.0, \"#f0f921\"]]}, \"legend\": {\"tracegroupgap\": 0}, \"template\": {\"data\": {\"bar\": [{\"error_x\": {\"color\": \"#2a3f5f\"}, \"error_y\": {\"color\": \"#2a3f5f\"}, \"marker\": {\"line\": {\"color\": \"#E5ECF6\", \"width\": 0.5}}, \"type\": \"bar\"}], \"barpolar\": [{\"marker\": {\"line\": {\"color\": \"#E5ECF6\", \"width\": 0.5}}, \"type\": \"barpolar\"}], \"carpet\": [{\"aaxis\": {\"endlinecolor\": \"#2a3f5f\", \"gridcolor\": \"white\", \"linecolor\": \"white\", \"minorgridcolor\": \"white\", \"startlinecolor\": \"#2a3f5f\"}, \"baxis\": {\"endlinecolor\": \"#2a3f5f\", \"gridcolor\": \"white\", \"linecolor\": \"white\", \"minorgridcolor\": \"white\", \"startlinecolor\": \"#2a3f5f\"}, \"type\": \"carpet\"}], \"choropleth\": [{\"colorbar\": {\"outlinewidth\": 0, \"ticks\": \"\"}, \"type\": \"choropleth\"}], \"contour\": [{\"colorbar\": {\"outlinewidth\": 0, \"ticks\": \"\"}, \"colorscale\": [[0.0, \"#0d0887\"], [0.1111111111111111, \"#46039f\"], [0.2222222222222222, \"#7201a8\"], [0.3333333333333333, \"#9c179e\"], [0.4444444444444444, \"#bd3786\"], [0.5555555555555556, \"#d8576b\"], [0.6666666666666666, \"#ed7953\"], [0.7777777777777778, \"#fb9f3a\"], [0.8888888888888888, \"#fdca26\"], [1.0, \"#f0f921\"]], \"type\": \"contour\"}], \"contourcarpet\": [{\"colorbar\": {\"outlinewidth\": 0, \"ticks\": \"\"}, \"type\": \"contourcarpet\"}], \"heatmap\": [{\"colorbar\": {\"outlinewidth\": 0, \"ticks\": \"\"}, \"colorscale\": [[0.0, \"#0d0887\"], [0.1111111111111111, \"#46039f\"], [0.2222222222222222, \"#7201a8\"], [0.3333333333333333, \"#9c179e\"], [0.4444444444444444, \"#bd3786\"], [0.5555555555555556, \"#d8576b\"], [0.6666666666666666, \"#ed7953\"], [0.7777777777777778, \"#fb9f3a\"], [0.8888888888888888, \"#fdca26\"], [1.0, \"#f0f921\"]], \"type\": \"heatmap\"}], \"heatmapgl\": [{\"colorbar\": {\"outlinewidth\": 0, \"ticks\": \"\"}, \"colorscale\": [[0.0, \"#0d0887\"], [0.1111111111111111, \"#46039f\"], [0.2222222222222222, \"#7201a8\"], [0.3333333333333333, \"#9c179e\"], [0.4444444444444444, \"#bd3786\"], [0.5555555555555556, \"#d8576b\"], [0.6666666666666666, \"#ed7953\"], [0.7777777777777778, \"#fb9f3a\"], [0.8888888888888888, \"#fdca26\"], [1.0, \"#f0f921\"]], \"type\": \"heatmapgl\"}], \"histogram\": [{\"marker\": {\"colorbar\": {\"outlinewidth\": 0, \"ticks\": \"\"}}, \"type\": \"histogram\"}], \"histogram2d\": [{\"colorbar\": {\"outlinewidth\": 0, \"ticks\": \"\"}, \"colorscale\": [[0.0, \"#0d0887\"], [0.1111111111111111, \"#46039f\"], [0.2222222222222222, \"#7201a8\"], [0.3333333333333333, \"#9c179e\"], [0.4444444444444444, \"#bd3786\"], [0.5555555555555556, \"#d8576b\"], [0.6666666666666666, \"#ed7953\"], [0.7777777777777778, \"#fb9f3a\"], [0.8888888888888888, \"#fdca26\"], [1.0, \"#f0f921\"]], \"type\": \"histogram2d\"}], \"histogram2dcontour\": [{\"colorbar\": {\"outlinewidth\": 0, \"ticks\": \"\"}, \"colorscale\": [[0.0, \"#0d0887\"], [0.1111111111111111, \"#46039f\"], [0.2222222222222222, \"#7201a8\"], [0.3333333333333333, \"#9c179e\"], [0.4444444444444444, \"#bd3786\"], [0.5555555555555556, \"#d8576b\"], [0.6666666666666666, \"#ed7953\"], [0.7777777777777778, \"#fb9f3a\"], [0.8888888888888888, \"#fdca26\"], [1.0, \"#f0f921\"]], \"type\": \"histogram2dcontour\"}], \"mesh3d\": [{\"colorbar\": {\"outlinewidth\": 0, \"ticks\": \"\"}, \"type\": \"mesh3d\"}], \"parcoords\": [{\"line\": {\"colorbar\": {\"outlinewidth\": 0, \"ticks\": \"\"}}, \"type\": \"parcoords\"}], \"pie\": [{\"automargin\": true, \"type\": \"pie\"}], \"scatter\": [{\"marker\": {\"colorbar\": {\"outlinewidth\": 0, \"ticks\": \"\"}}, \"type\": \"scatter\"}], \"scatter3d\": [{\"line\": {\"colorbar\": {\"outlinewidth\": 0, \"ticks\": \"\"}}, \"marker\": {\"colorbar\": {\"outlinewidth\": 0, \"ticks\": \"\"}}, \"type\": \"scatter3d\"}], \"scattercarpet\": [{\"marker\": {\"colorbar\": {\"outlinewidth\": 0, \"ticks\": \"\"}}, \"type\": \"scattercarpet\"}], \"scattergeo\": [{\"marker\": {\"colorbar\": {\"outlinewidth\": 0, \"ticks\": \"\"}}, \"type\": \"scattergeo\"}], \"scattergl\": [{\"marker\": {\"colorbar\": {\"outlinewidth\": 0, \"ticks\": \"\"}}, \"type\": \"scattergl\"}], \"scattermapbox\": [{\"marker\": {\"colorbar\": {\"outlinewidth\": 0, \"ticks\": \"\"}}, \"type\": \"scattermapbox\"}], \"scatterpolar\": [{\"marker\": {\"colorbar\": {\"outlinewidth\": 0, \"ticks\": \"\"}}, \"type\": \"scatterpolar\"}], \"scatterpolargl\": [{\"marker\": {\"colorbar\": {\"outlinewidth\": 0, \"ticks\": \"\"}}, \"type\": \"scatterpolargl\"}], \"scatterternary\": [{\"marker\": {\"colorbar\": {\"outlinewidth\": 0, \"ticks\": \"\"}}, \"type\": \"scatterternary\"}], \"surface\": [{\"colorbar\": {\"outlinewidth\": 0, \"ticks\": \"\"}, \"colorscale\": [[0.0, \"#0d0887\"], [0.1111111111111111, \"#46039f\"], [0.2222222222222222, \"#7201a8\"], [0.3333333333333333, \"#9c179e\"], [0.4444444444444444, \"#bd3786\"], [0.5555555555555556, \"#d8576b\"], [0.6666666666666666, \"#ed7953\"], [0.7777777777777778, \"#fb9f3a\"], [0.8888888888888888, \"#fdca26\"], [1.0, \"#f0f921\"]], \"type\": \"surface\"}], \"table\": [{\"cells\": {\"fill\": {\"color\": \"#EBF0F8\"}, \"line\": {\"color\": \"white\"}}, \"header\": {\"fill\": {\"color\": \"#C8D4E3\"}, \"line\": {\"color\": \"white\"}}, \"type\": \"table\"}]}, \"layout\": {\"annotationdefaults\": {\"arrowcolor\": \"#2a3f5f\", \"arrowhead\": 0, \"arrowwidth\": 1}, \"coloraxis\": {\"colorbar\": {\"outlinewidth\": 0, \"ticks\": \"\"}}, \"colorscale\": {\"diverging\": [[0, \"#8e0152\"], [0.1, \"#c51b7d\"], [0.2, \"#de77ae\"], [0.3, \"#f1b6da\"], [0.4, \"#fde0ef\"], [0.5, \"#f7f7f7\"], [0.6, \"#e6f5d0\"], [0.7, \"#b8e186\"], [0.8, \"#7fbc41\"], [0.9, \"#4d9221\"], [1, \"#276419\"]], \"sequential\": [[0.0, \"#0d0887\"], [0.1111111111111111, \"#46039f\"], [0.2222222222222222, \"#7201a8\"], [0.3333333333333333, \"#9c179e\"], [0.4444444444444444, \"#bd3786\"], [0.5555555555555556, \"#d8576b\"], [0.6666666666666666, \"#ed7953\"], [0.7777777777777778, \"#fb9f3a\"], [0.8888888888888888, \"#fdca26\"], [1.0, \"#f0f921\"]], \"sequentialminus\": [[0.0, \"#0d0887\"], [0.1111111111111111, \"#46039f\"], [0.2222222222222222, \"#7201a8\"], [0.3333333333333333, \"#9c179e\"], [0.4444444444444444, \"#bd3786\"], [0.5555555555555556, \"#d8576b\"], [0.6666666666666666, \"#ed7953\"], [0.7777777777777778, \"#fb9f3a\"], [0.8888888888888888, \"#fdca26\"], [1.0, \"#f0f921\"]]}, \"colorway\": [\"#636efa\", \"#EF553B\", \"#00cc96\", \"#ab63fa\", \"#FFA15A\", \"#19d3f3\", \"#FF6692\", \"#B6E880\", \"#FF97FF\", \"#FECB52\"], \"font\": {\"color\": \"#2a3f5f\"}, \"geo\": {\"bgcolor\": \"white\", \"lakecolor\": \"white\", \"landcolor\": \"#E5ECF6\", \"showlakes\": true, \"showland\": true, \"subunitcolor\": \"white\"}, \"hoverlabel\": {\"align\": \"left\"}, \"hovermode\": \"closest\", \"mapbox\": {\"style\": \"light\"}, \"paper_bgcolor\": \"white\", \"plot_bgcolor\": \"#E5ECF6\", \"polar\": {\"angularaxis\": {\"gridcolor\": \"white\", \"linecolor\": \"white\", \"ticks\": \"\"}, \"bgcolor\": \"#E5ECF6\", \"radialaxis\": {\"gridcolor\": \"white\", \"linecolor\": \"white\", \"ticks\": \"\"}}, \"scene\": {\"xaxis\": {\"backgroundcolor\": \"#E5ECF6\", \"gridcolor\": \"white\", \"gridwidth\": 2, \"linecolor\": \"white\", \"showbackground\": true, \"ticks\": \"\", \"zerolinecolor\": \"white\"}, \"yaxis\": {\"backgroundcolor\": \"#E5ECF6\", \"gridcolor\": \"white\", \"gridwidth\": 2, \"linecolor\": \"white\", \"showbackground\": true, \"ticks\": \"\", \"zerolinecolor\": \"white\"}, \"zaxis\": {\"backgroundcolor\": \"#E5ECF6\", \"gridcolor\": \"white\", \"gridwidth\": 2, \"linecolor\": \"white\", \"showbackground\": true, \"ticks\": \"\", \"zerolinecolor\": \"white\"}}, \"shapedefaults\": {\"line\": {\"color\": \"#2a3f5f\"}}, \"ternary\": {\"aaxis\": {\"gridcolor\": \"white\", \"linecolor\": \"white\", \"ticks\": \"\"}, \"baxis\": {\"gridcolor\": \"white\", \"linecolor\": \"white\", \"ticks\": \"\"}, \"bgcolor\": \"#E5ECF6\", \"caxis\": {\"gridcolor\": \"white\", \"linecolor\": \"white\", \"ticks\": \"\"}}, \"title\": {\"x\": 0.05}, \"xaxis\": {\"automargin\": true, \"gridcolor\": \"white\", \"linecolor\": \"white\", \"ticks\": \"\", \"title\": {\"standoff\": 15}, \"zerolinecolor\": \"white\", \"zerolinewidth\": 2}, \"yaxis\": {\"automargin\": true, \"gridcolor\": \"white\", \"linecolor\": \"white\", \"ticks\": \"\", \"title\": {\"standoff\": 15}, \"zerolinecolor\": \"white\", \"zerolinewidth\": 2}}}, \"title\": {\"text\": \"Total cases in India\"}, \"xaxis\": {\"anchor\": \"y\", \"domain\": [0.0, 1.0], \"title\": {\"text\": \"STATE NAME\"}}, \"yaxis\": {\"anchor\": \"x\", \"domain\": [0.0, 1.0], \"title\": {\"text\": \"TOTAL CONFIRMED\"}}},\n",
       "                        {\"responsive\": true}\n",
       "                    ).then(function(){\n",
       "                            \n",
       "var gd = document.getElementById('59ab7c6b-df28-40b9-ac12-f0752a8370a9');\n",
       "var x = new MutationObserver(function (mutations, observer) {{\n",
       "        var display = window.getComputedStyle(gd).display;\n",
       "        if (!display || display === 'none') {{\n",
       "            console.log([gd, 'removed!']);\n",
       "            Plotly.purge(gd);\n",
       "            observer.disconnect();\n",
       "        }}\n",
       "}});\n",
       "\n",
       "// Listen for the removal of the full notebook cells\n",
       "var notebookContainer = gd.closest('#notebook-container');\n",
       "if (notebookContainer) {{\n",
       "    x.observe(notebookContainer, {childList: true});\n",
       "}}\n",
       "\n",
       "// Listen for the clearing of the current output cell\n",
       "var outputEl = gd.closest('.output');\n",
       "if (outputEl) {{\n",
       "    x.observe(outputEl, {childList: true});\n",
       "}}\n",
       "\n",
       "                        })\n",
       "                };\n",
       "                });\n",
       "            </script>\n",
       "        </div>"
      ]
     },
     "metadata": {},
     "output_type": "display_data"
    }
   ],
   "source": [
    "fig=px.bar(covid_india,x=\"STATE NAME\",y=\"TOTAL CONFIRMED\",color='TOTAL CONFIRMED',title='Total cases in India')\n",
    "fig.show()"
   ]
  },
  {
   "cell_type": "code",
   "execution_count": 16,
   "metadata": {},
   "outputs": [
    {
     "data": {
      "application/vnd.plotly.v1+json": {
       "config": {
        "plotlyServerURL": "https://plot.ly"
       },
       "data": [
        {
         "alignmentgroup": "True",
         "hovertemplate": "STATE NAME=%{x}<br>DEATH=%{marker.color}<extra></extra>",
         "legendgroup": "",
         "marker": {
          "color": [
           3,
           0,
           1,
           0,
           0,
           7,
           0,
           13,
           1,
           1,
           2,
           4,
           2,
           0,
           13,
           48,
           0,
           0,
           1,
           0,
           7,
           3,
           5,
           7,
           0,
           3,
           3,
           0,
           0,
           0,
           0
          ],
          "coloraxis": "coloraxis"
         },
         "name": "",
         "offsetgroup": "",
         "orientation": "v",
         "showlegend": false,
         "textposition": "auto",
         "type": "bar",
         "x": [
          "AndhraPradesh",
          "AndamanNicobar",
          "Bihar",
          "Chandigarh",
          "Chhattisgarh",
          "Delhi",
          "Goa",
          "Gujarat",
          "Haryana",
          "HimachalPradesh",
          "J & K",
          "Karnataka",
          "Kerala",
          "Ladakh",
          "MP",
          "Maharashtra",
          "Manipur",
          "Mizoram",
          "Odisha",
          "Puducherry",
          "Punjab",
          "Rajasthan",
          "TamilNadu",
          "Telengana",
          "Uttarakhand",
          "UttarPradesh",
          "West Bengal",
          "Assam",
          "Jharkhand",
          "Arunachal Pradesh",
          "Tripura"
         ],
         "xaxis": "x",
         "y": [
          3,
          0,
          1,
          0,
          0,
          7,
          0,
          13,
          1,
          1,
          2,
          4,
          2,
          0,
          13,
          48,
          0,
          0,
          1,
          0,
          7,
          3,
          5,
          7,
          0,
          3,
          3,
          0,
          0,
          0,
          0
         ],
         "yaxis": "y"
        }
       ],
       "layout": {
        "barmode": "relative",
        "coloraxis": {
         "colorbar": {
          "title": {
           "text": "DEATH"
          }
         },
         "colorscale": [
          [
           0,
           "#0d0887"
          ],
          [
           0.1111111111111111,
           "#46039f"
          ],
          [
           0.2222222222222222,
           "#7201a8"
          ],
          [
           0.3333333333333333,
           "#9c179e"
          ],
          [
           0.4444444444444444,
           "#bd3786"
          ],
          [
           0.5555555555555556,
           "#d8576b"
          ],
          [
           0.6666666666666666,
           "#ed7953"
          ],
          [
           0.7777777777777778,
           "#fb9f3a"
          ],
          [
           0.8888888888888888,
           "#fdca26"
          ],
          [
           1,
           "#f0f921"
          ]
         ]
        },
        "legend": {
         "tracegroupgap": 0
        },
        "template": {
         "data": {
          "bar": [
           {
            "error_x": {
             "color": "#2a3f5f"
            },
            "error_y": {
             "color": "#2a3f5f"
            },
            "marker": {
             "line": {
              "color": "#E5ECF6",
              "width": 0.5
             }
            },
            "type": "bar"
           }
          ],
          "barpolar": [
           {
            "marker": {
             "line": {
              "color": "#E5ECF6",
              "width": 0.5
             }
            },
            "type": "barpolar"
           }
          ],
          "carpet": [
           {
            "aaxis": {
             "endlinecolor": "#2a3f5f",
             "gridcolor": "white",
             "linecolor": "white",
             "minorgridcolor": "white",
             "startlinecolor": "#2a3f5f"
            },
            "baxis": {
             "endlinecolor": "#2a3f5f",
             "gridcolor": "white",
             "linecolor": "white",
             "minorgridcolor": "white",
             "startlinecolor": "#2a3f5f"
            },
            "type": "carpet"
           }
          ],
          "choropleth": [
           {
            "colorbar": {
             "outlinewidth": 0,
             "ticks": ""
            },
            "type": "choropleth"
           }
          ],
          "contour": [
           {
            "colorbar": {
             "outlinewidth": 0,
             "ticks": ""
            },
            "colorscale": [
             [
              0,
              "#0d0887"
             ],
             [
              0.1111111111111111,
              "#46039f"
             ],
             [
              0.2222222222222222,
              "#7201a8"
             ],
             [
              0.3333333333333333,
              "#9c179e"
             ],
             [
              0.4444444444444444,
              "#bd3786"
             ],
             [
              0.5555555555555556,
              "#d8576b"
             ],
             [
              0.6666666666666666,
              "#ed7953"
             ],
             [
              0.7777777777777778,
              "#fb9f3a"
             ],
             [
              0.8888888888888888,
              "#fdca26"
             ],
             [
              1,
              "#f0f921"
             ]
            ],
            "type": "contour"
           }
          ],
          "contourcarpet": [
           {
            "colorbar": {
             "outlinewidth": 0,
             "ticks": ""
            },
            "type": "contourcarpet"
           }
          ],
          "heatmap": [
           {
            "colorbar": {
             "outlinewidth": 0,
             "ticks": ""
            },
            "colorscale": [
             [
              0,
              "#0d0887"
             ],
             [
              0.1111111111111111,
              "#46039f"
             ],
             [
              0.2222222222222222,
              "#7201a8"
             ],
             [
              0.3333333333333333,
              "#9c179e"
             ],
             [
              0.4444444444444444,
              "#bd3786"
             ],
             [
              0.5555555555555556,
              "#d8576b"
             ],
             [
              0.6666666666666666,
              "#ed7953"
             ],
             [
              0.7777777777777778,
              "#fb9f3a"
             ],
             [
              0.8888888888888888,
              "#fdca26"
             ],
             [
              1,
              "#f0f921"
             ]
            ],
            "type": "heatmap"
           }
          ],
          "heatmapgl": [
           {
            "colorbar": {
             "outlinewidth": 0,
             "ticks": ""
            },
            "colorscale": [
             [
              0,
              "#0d0887"
             ],
             [
              0.1111111111111111,
              "#46039f"
             ],
             [
              0.2222222222222222,
              "#7201a8"
             ],
             [
              0.3333333333333333,
              "#9c179e"
             ],
             [
              0.4444444444444444,
              "#bd3786"
             ],
             [
              0.5555555555555556,
              "#d8576b"
             ],
             [
              0.6666666666666666,
              "#ed7953"
             ],
             [
              0.7777777777777778,
              "#fb9f3a"
             ],
             [
              0.8888888888888888,
              "#fdca26"
             ],
             [
              1,
              "#f0f921"
             ]
            ],
            "type": "heatmapgl"
           }
          ],
          "histogram": [
           {
            "marker": {
             "colorbar": {
              "outlinewidth": 0,
              "ticks": ""
             }
            },
            "type": "histogram"
           }
          ],
          "histogram2d": [
           {
            "colorbar": {
             "outlinewidth": 0,
             "ticks": ""
            },
            "colorscale": [
             [
              0,
              "#0d0887"
             ],
             [
              0.1111111111111111,
              "#46039f"
             ],
             [
              0.2222222222222222,
              "#7201a8"
             ],
             [
              0.3333333333333333,
              "#9c179e"
             ],
             [
              0.4444444444444444,
              "#bd3786"
             ],
             [
              0.5555555555555556,
              "#d8576b"
             ],
             [
              0.6666666666666666,
              "#ed7953"
             ],
             [
              0.7777777777777778,
              "#fb9f3a"
             ],
             [
              0.8888888888888888,
              "#fdca26"
             ],
             [
              1,
              "#f0f921"
             ]
            ],
            "type": "histogram2d"
           }
          ],
          "histogram2dcontour": [
           {
            "colorbar": {
             "outlinewidth": 0,
             "ticks": ""
            },
            "colorscale": [
             [
              0,
              "#0d0887"
             ],
             [
              0.1111111111111111,
              "#46039f"
             ],
             [
              0.2222222222222222,
              "#7201a8"
             ],
             [
              0.3333333333333333,
              "#9c179e"
             ],
             [
              0.4444444444444444,
              "#bd3786"
             ],
             [
              0.5555555555555556,
              "#d8576b"
             ],
             [
              0.6666666666666666,
              "#ed7953"
             ],
             [
              0.7777777777777778,
              "#fb9f3a"
             ],
             [
              0.8888888888888888,
              "#fdca26"
             ],
             [
              1,
              "#f0f921"
             ]
            ],
            "type": "histogram2dcontour"
           }
          ],
          "mesh3d": [
           {
            "colorbar": {
             "outlinewidth": 0,
             "ticks": ""
            },
            "type": "mesh3d"
           }
          ],
          "parcoords": [
           {
            "line": {
             "colorbar": {
              "outlinewidth": 0,
              "ticks": ""
             }
            },
            "type": "parcoords"
           }
          ],
          "pie": [
           {
            "automargin": true,
            "type": "pie"
           }
          ],
          "scatter": [
           {
            "marker": {
             "colorbar": {
              "outlinewidth": 0,
              "ticks": ""
             }
            },
            "type": "scatter"
           }
          ],
          "scatter3d": [
           {
            "line": {
             "colorbar": {
              "outlinewidth": 0,
              "ticks": ""
             }
            },
            "marker": {
             "colorbar": {
              "outlinewidth": 0,
              "ticks": ""
             }
            },
            "type": "scatter3d"
           }
          ],
          "scattercarpet": [
           {
            "marker": {
             "colorbar": {
              "outlinewidth": 0,
              "ticks": ""
             }
            },
            "type": "scattercarpet"
           }
          ],
          "scattergeo": [
           {
            "marker": {
             "colorbar": {
              "outlinewidth": 0,
              "ticks": ""
             }
            },
            "type": "scattergeo"
           }
          ],
          "scattergl": [
           {
            "marker": {
             "colorbar": {
              "outlinewidth": 0,
              "ticks": ""
             }
            },
            "type": "scattergl"
           }
          ],
          "scattermapbox": [
           {
            "marker": {
             "colorbar": {
              "outlinewidth": 0,
              "ticks": ""
             }
            },
            "type": "scattermapbox"
           }
          ],
          "scatterpolar": [
           {
            "marker": {
             "colorbar": {
              "outlinewidth": 0,
              "ticks": ""
             }
            },
            "type": "scatterpolar"
           }
          ],
          "scatterpolargl": [
           {
            "marker": {
             "colorbar": {
              "outlinewidth": 0,
              "ticks": ""
             }
            },
            "type": "scatterpolargl"
           }
          ],
          "scatterternary": [
           {
            "marker": {
             "colorbar": {
              "outlinewidth": 0,
              "ticks": ""
             }
            },
            "type": "scatterternary"
           }
          ],
          "surface": [
           {
            "colorbar": {
             "outlinewidth": 0,
             "ticks": ""
            },
            "colorscale": [
             [
              0,
              "#0d0887"
             ],
             [
              0.1111111111111111,
              "#46039f"
             ],
             [
              0.2222222222222222,
              "#7201a8"
             ],
             [
              0.3333333333333333,
              "#9c179e"
             ],
             [
              0.4444444444444444,
              "#bd3786"
             ],
             [
              0.5555555555555556,
              "#d8576b"
             ],
             [
              0.6666666666666666,
              "#ed7953"
             ],
             [
              0.7777777777777778,
              "#fb9f3a"
             ],
             [
              0.8888888888888888,
              "#fdca26"
             ],
             [
              1,
              "#f0f921"
             ]
            ],
            "type": "surface"
           }
          ],
          "table": [
           {
            "cells": {
             "fill": {
              "color": "#EBF0F8"
             },
             "line": {
              "color": "white"
             }
            },
            "header": {
             "fill": {
              "color": "#C8D4E3"
             },
             "line": {
              "color": "white"
             }
            },
            "type": "table"
           }
          ]
         },
         "layout": {
          "annotationdefaults": {
           "arrowcolor": "#2a3f5f",
           "arrowhead": 0,
           "arrowwidth": 1
          },
          "coloraxis": {
           "colorbar": {
            "outlinewidth": 0,
            "ticks": ""
           }
          },
          "colorscale": {
           "diverging": [
            [
             0,
             "#8e0152"
            ],
            [
             0.1,
             "#c51b7d"
            ],
            [
             0.2,
             "#de77ae"
            ],
            [
             0.3,
             "#f1b6da"
            ],
            [
             0.4,
             "#fde0ef"
            ],
            [
             0.5,
             "#f7f7f7"
            ],
            [
             0.6,
             "#e6f5d0"
            ],
            [
             0.7,
             "#b8e186"
            ],
            [
             0.8,
             "#7fbc41"
            ],
            [
             0.9,
             "#4d9221"
            ],
            [
             1,
             "#276419"
            ]
           ],
           "sequential": [
            [
             0,
             "#0d0887"
            ],
            [
             0.1111111111111111,
             "#46039f"
            ],
            [
             0.2222222222222222,
             "#7201a8"
            ],
            [
             0.3333333333333333,
             "#9c179e"
            ],
            [
             0.4444444444444444,
             "#bd3786"
            ],
            [
             0.5555555555555556,
             "#d8576b"
            ],
            [
             0.6666666666666666,
             "#ed7953"
            ],
            [
             0.7777777777777778,
             "#fb9f3a"
            ],
            [
             0.8888888888888888,
             "#fdca26"
            ],
            [
             1,
             "#f0f921"
            ]
           ],
           "sequentialminus": [
            [
             0,
             "#0d0887"
            ],
            [
             0.1111111111111111,
             "#46039f"
            ],
            [
             0.2222222222222222,
             "#7201a8"
            ],
            [
             0.3333333333333333,
             "#9c179e"
            ],
            [
             0.4444444444444444,
             "#bd3786"
            ],
            [
             0.5555555555555556,
             "#d8576b"
            ],
            [
             0.6666666666666666,
             "#ed7953"
            ],
            [
             0.7777777777777778,
             "#fb9f3a"
            ],
            [
             0.8888888888888888,
             "#fdca26"
            ],
            [
             1,
             "#f0f921"
            ]
           ]
          },
          "colorway": [
           "#636efa",
           "#EF553B",
           "#00cc96",
           "#ab63fa",
           "#FFA15A",
           "#19d3f3",
           "#FF6692",
           "#B6E880",
           "#FF97FF",
           "#FECB52"
          ],
          "font": {
           "color": "#2a3f5f"
          },
          "geo": {
           "bgcolor": "white",
           "lakecolor": "white",
           "landcolor": "#E5ECF6",
           "showlakes": true,
           "showland": true,
           "subunitcolor": "white"
          },
          "hoverlabel": {
           "align": "left"
          },
          "hovermode": "closest",
          "mapbox": {
           "style": "light"
          },
          "paper_bgcolor": "white",
          "plot_bgcolor": "#E5ECF6",
          "polar": {
           "angularaxis": {
            "gridcolor": "white",
            "linecolor": "white",
            "ticks": ""
           },
           "bgcolor": "#E5ECF6",
           "radialaxis": {
            "gridcolor": "white",
            "linecolor": "white",
            "ticks": ""
           }
          },
          "scene": {
           "xaxis": {
            "backgroundcolor": "#E5ECF6",
            "gridcolor": "white",
            "gridwidth": 2,
            "linecolor": "white",
            "showbackground": true,
            "ticks": "",
            "zerolinecolor": "white"
           },
           "yaxis": {
            "backgroundcolor": "#E5ECF6",
            "gridcolor": "white",
            "gridwidth": 2,
            "linecolor": "white",
            "showbackground": true,
            "ticks": "",
            "zerolinecolor": "white"
           },
           "zaxis": {
            "backgroundcolor": "#E5ECF6",
            "gridcolor": "white",
            "gridwidth": 2,
            "linecolor": "white",
            "showbackground": true,
            "ticks": "",
            "zerolinecolor": "white"
           }
          },
          "shapedefaults": {
           "line": {
            "color": "#2a3f5f"
           }
          },
          "ternary": {
           "aaxis": {
            "gridcolor": "white",
            "linecolor": "white",
            "ticks": ""
           },
           "baxis": {
            "gridcolor": "white",
            "linecolor": "white",
            "ticks": ""
           },
           "bgcolor": "#E5ECF6",
           "caxis": {
            "gridcolor": "white",
            "linecolor": "white",
            "ticks": ""
           }
          },
          "title": {
           "x": 0.05
          },
          "xaxis": {
           "automargin": true,
           "gridcolor": "white",
           "linecolor": "white",
           "ticks": "",
           "title": {
            "standoff": 15
           },
           "zerolinecolor": "white",
           "zerolinewidth": 2
          },
          "yaxis": {
           "automargin": true,
           "gridcolor": "white",
           "linecolor": "white",
           "ticks": "",
           "title": {
            "standoff": 15
           },
           "zerolinecolor": "white",
           "zerolinewidth": 2
          }
         }
        },
        "title": {
         "text": "Total Death in India"
        },
        "xaxis": {
         "anchor": "y",
         "domain": [
          0,
          1
         ],
         "title": {
          "text": "STATE NAME"
         }
        },
        "yaxis": {
         "anchor": "x",
         "domain": [
          0,
          1
         ],
         "title": {
          "text": "DEATH"
         }
        }
       }
      },
      "text/html": [
       "<div>\n",
       "        \n",
       "        \n",
       "            <div id=\"4c26a8c1-d21c-477b-98c4-158a18855ee2\" class=\"plotly-graph-div\" style=\"height:525px; width:100%;\"></div>\n",
       "            <script type=\"text/javascript\">\n",
       "                require([\"plotly\"], function(Plotly) {\n",
       "                    window.PLOTLYENV=window.PLOTLYENV || {};\n",
       "                    \n",
       "                if (document.getElementById(\"4c26a8c1-d21c-477b-98c4-158a18855ee2\")) {\n",
       "                    Plotly.newPlot(\n",
       "                        '4c26a8c1-d21c-477b-98c4-158a18855ee2',\n",
       "                        [{\"alignmentgroup\": \"True\", \"hovertemplate\": \"STATE NAME=%{x}<br>DEATH=%{marker.color}<extra></extra>\", \"legendgroup\": \"\", \"marker\": {\"color\": [3, 0, 1, 0, 0, 7, 0, 13, 1, 1, 2, 4, 2, 0, 13, 48, 0, 0, 1, 0, 7, 3, 5, 7, 0, 3, 3, 0, 0, 0, 0], \"coloraxis\": \"coloraxis\"}, \"name\": \"\", \"offsetgroup\": \"\", \"orientation\": \"v\", \"showlegend\": false, \"textposition\": \"auto\", \"type\": \"bar\", \"x\": [\"AndhraPradesh\", \"AndamanNicobar\", \"Bihar\", \"Chandigarh\", \"Chhattisgarh\", \"Delhi\", \"Goa\", \"Gujarat\", \"Haryana\", \"HimachalPradesh\", \"J & K\", \"Karnataka\", \"Kerala\", \"Ladakh\", \"MP\", \"Maharashtra\", \"Manipur\", \"Mizoram\", \"Odisha\", \"Puducherry\", \"Punjab\", \"Rajasthan\", \"TamilNadu\", \"Telengana\", \"Uttarakhand\", \"UttarPradesh\", \"West Bengal\", \"Assam\", \"Jharkhand\", \"Arunachal Pradesh\", \"Tripura\"], \"xaxis\": \"x\", \"y\": [3, 0, 1, 0, 0, 7, 0, 13, 1, 1, 2, 4, 2, 0, 13, 48, 0, 0, 1, 0, 7, 3, 5, 7, 0, 3, 3, 0, 0, 0, 0], \"yaxis\": \"y\"}],\n",
       "                        {\"barmode\": \"relative\", \"coloraxis\": {\"colorbar\": {\"title\": {\"text\": \"DEATH\"}}, \"colorscale\": [[0.0, \"#0d0887\"], [0.1111111111111111, \"#46039f\"], [0.2222222222222222, \"#7201a8\"], [0.3333333333333333, \"#9c179e\"], [0.4444444444444444, \"#bd3786\"], [0.5555555555555556, \"#d8576b\"], [0.6666666666666666, \"#ed7953\"], [0.7777777777777778, \"#fb9f3a\"], [0.8888888888888888, \"#fdca26\"], [1.0, \"#f0f921\"]]}, \"legend\": {\"tracegroupgap\": 0}, \"template\": {\"data\": {\"bar\": [{\"error_x\": {\"color\": \"#2a3f5f\"}, \"error_y\": {\"color\": \"#2a3f5f\"}, \"marker\": {\"line\": {\"color\": \"#E5ECF6\", \"width\": 0.5}}, \"type\": \"bar\"}], \"barpolar\": [{\"marker\": {\"line\": {\"color\": \"#E5ECF6\", \"width\": 0.5}}, \"type\": \"barpolar\"}], \"carpet\": [{\"aaxis\": {\"endlinecolor\": \"#2a3f5f\", \"gridcolor\": \"white\", \"linecolor\": \"white\", \"minorgridcolor\": \"white\", \"startlinecolor\": \"#2a3f5f\"}, \"baxis\": {\"endlinecolor\": \"#2a3f5f\", \"gridcolor\": \"white\", \"linecolor\": \"white\", \"minorgridcolor\": \"white\", \"startlinecolor\": \"#2a3f5f\"}, \"type\": \"carpet\"}], \"choropleth\": [{\"colorbar\": {\"outlinewidth\": 0, \"ticks\": \"\"}, \"type\": \"choropleth\"}], \"contour\": [{\"colorbar\": {\"outlinewidth\": 0, \"ticks\": \"\"}, \"colorscale\": [[0.0, \"#0d0887\"], [0.1111111111111111, \"#46039f\"], [0.2222222222222222, \"#7201a8\"], [0.3333333333333333, \"#9c179e\"], [0.4444444444444444, \"#bd3786\"], [0.5555555555555556, \"#d8576b\"], [0.6666666666666666, \"#ed7953\"], [0.7777777777777778, \"#fb9f3a\"], [0.8888888888888888, \"#fdca26\"], [1.0, \"#f0f921\"]], \"type\": \"contour\"}], \"contourcarpet\": [{\"colorbar\": {\"outlinewidth\": 0, \"ticks\": \"\"}, \"type\": \"contourcarpet\"}], \"heatmap\": [{\"colorbar\": {\"outlinewidth\": 0, \"ticks\": \"\"}, \"colorscale\": [[0.0, \"#0d0887\"], [0.1111111111111111, \"#46039f\"], [0.2222222222222222, \"#7201a8\"], [0.3333333333333333, \"#9c179e\"], [0.4444444444444444, \"#bd3786\"], [0.5555555555555556, \"#d8576b\"], [0.6666666666666666, \"#ed7953\"], [0.7777777777777778, \"#fb9f3a\"], [0.8888888888888888, \"#fdca26\"], [1.0, \"#f0f921\"]], \"type\": \"heatmap\"}], \"heatmapgl\": [{\"colorbar\": {\"outlinewidth\": 0, \"ticks\": \"\"}, \"colorscale\": [[0.0, \"#0d0887\"], [0.1111111111111111, \"#46039f\"], [0.2222222222222222, \"#7201a8\"], [0.3333333333333333, \"#9c179e\"], [0.4444444444444444, \"#bd3786\"], [0.5555555555555556, \"#d8576b\"], [0.6666666666666666, \"#ed7953\"], [0.7777777777777778, \"#fb9f3a\"], [0.8888888888888888, \"#fdca26\"], [1.0, \"#f0f921\"]], \"type\": \"heatmapgl\"}], \"histogram\": [{\"marker\": {\"colorbar\": {\"outlinewidth\": 0, \"ticks\": \"\"}}, \"type\": \"histogram\"}], \"histogram2d\": [{\"colorbar\": {\"outlinewidth\": 0, \"ticks\": \"\"}, \"colorscale\": [[0.0, \"#0d0887\"], [0.1111111111111111, \"#46039f\"], [0.2222222222222222, \"#7201a8\"], [0.3333333333333333, \"#9c179e\"], [0.4444444444444444, \"#bd3786\"], [0.5555555555555556, \"#d8576b\"], [0.6666666666666666, \"#ed7953\"], [0.7777777777777778, \"#fb9f3a\"], [0.8888888888888888, \"#fdca26\"], [1.0, \"#f0f921\"]], \"type\": \"histogram2d\"}], \"histogram2dcontour\": [{\"colorbar\": {\"outlinewidth\": 0, \"ticks\": \"\"}, \"colorscale\": [[0.0, \"#0d0887\"], [0.1111111111111111, \"#46039f\"], [0.2222222222222222, \"#7201a8\"], [0.3333333333333333, \"#9c179e\"], [0.4444444444444444, \"#bd3786\"], [0.5555555555555556, \"#d8576b\"], [0.6666666666666666, \"#ed7953\"], [0.7777777777777778, \"#fb9f3a\"], [0.8888888888888888, \"#fdca26\"], [1.0, \"#f0f921\"]], \"type\": \"histogram2dcontour\"}], \"mesh3d\": [{\"colorbar\": {\"outlinewidth\": 0, \"ticks\": \"\"}, \"type\": \"mesh3d\"}], \"parcoords\": [{\"line\": {\"colorbar\": {\"outlinewidth\": 0, \"ticks\": \"\"}}, \"type\": \"parcoords\"}], \"pie\": [{\"automargin\": true, \"type\": \"pie\"}], \"scatter\": [{\"marker\": {\"colorbar\": {\"outlinewidth\": 0, \"ticks\": \"\"}}, \"type\": \"scatter\"}], \"scatter3d\": [{\"line\": {\"colorbar\": {\"outlinewidth\": 0, \"ticks\": \"\"}}, \"marker\": {\"colorbar\": {\"outlinewidth\": 0, \"ticks\": \"\"}}, \"type\": \"scatter3d\"}], \"scattercarpet\": [{\"marker\": {\"colorbar\": {\"outlinewidth\": 0, \"ticks\": \"\"}}, \"type\": \"scattercarpet\"}], \"scattergeo\": [{\"marker\": {\"colorbar\": {\"outlinewidth\": 0, \"ticks\": \"\"}}, \"type\": \"scattergeo\"}], \"scattergl\": [{\"marker\": {\"colorbar\": {\"outlinewidth\": 0, \"ticks\": \"\"}}, \"type\": \"scattergl\"}], \"scattermapbox\": [{\"marker\": {\"colorbar\": {\"outlinewidth\": 0, \"ticks\": \"\"}}, \"type\": \"scattermapbox\"}], \"scatterpolar\": [{\"marker\": {\"colorbar\": {\"outlinewidth\": 0, \"ticks\": \"\"}}, \"type\": \"scatterpolar\"}], \"scatterpolargl\": [{\"marker\": {\"colorbar\": {\"outlinewidth\": 0, \"ticks\": \"\"}}, \"type\": \"scatterpolargl\"}], \"scatterternary\": [{\"marker\": {\"colorbar\": {\"outlinewidth\": 0, \"ticks\": \"\"}}, \"type\": \"scatterternary\"}], \"surface\": [{\"colorbar\": {\"outlinewidth\": 0, \"ticks\": \"\"}, \"colorscale\": [[0.0, \"#0d0887\"], [0.1111111111111111, \"#46039f\"], [0.2222222222222222, \"#7201a8\"], [0.3333333333333333, \"#9c179e\"], [0.4444444444444444, \"#bd3786\"], [0.5555555555555556, \"#d8576b\"], [0.6666666666666666, \"#ed7953\"], [0.7777777777777778, \"#fb9f3a\"], [0.8888888888888888, \"#fdca26\"], [1.0, \"#f0f921\"]], \"type\": \"surface\"}], \"table\": [{\"cells\": {\"fill\": {\"color\": \"#EBF0F8\"}, \"line\": {\"color\": \"white\"}}, \"header\": {\"fill\": {\"color\": \"#C8D4E3\"}, \"line\": {\"color\": \"white\"}}, \"type\": \"table\"}]}, \"layout\": {\"annotationdefaults\": {\"arrowcolor\": \"#2a3f5f\", \"arrowhead\": 0, \"arrowwidth\": 1}, \"coloraxis\": {\"colorbar\": {\"outlinewidth\": 0, \"ticks\": \"\"}}, \"colorscale\": {\"diverging\": [[0, \"#8e0152\"], [0.1, \"#c51b7d\"], [0.2, \"#de77ae\"], [0.3, \"#f1b6da\"], [0.4, \"#fde0ef\"], [0.5, \"#f7f7f7\"], [0.6, \"#e6f5d0\"], [0.7, \"#b8e186\"], [0.8, \"#7fbc41\"], [0.9, \"#4d9221\"], [1, \"#276419\"]], \"sequential\": [[0.0, \"#0d0887\"], [0.1111111111111111, \"#46039f\"], [0.2222222222222222, \"#7201a8\"], [0.3333333333333333, \"#9c179e\"], [0.4444444444444444, \"#bd3786\"], [0.5555555555555556, \"#d8576b\"], [0.6666666666666666, \"#ed7953\"], [0.7777777777777778, \"#fb9f3a\"], [0.8888888888888888, \"#fdca26\"], [1.0, \"#f0f921\"]], \"sequentialminus\": [[0.0, \"#0d0887\"], [0.1111111111111111, \"#46039f\"], [0.2222222222222222, \"#7201a8\"], [0.3333333333333333, \"#9c179e\"], [0.4444444444444444, \"#bd3786\"], [0.5555555555555556, \"#d8576b\"], [0.6666666666666666, \"#ed7953\"], [0.7777777777777778, \"#fb9f3a\"], [0.8888888888888888, \"#fdca26\"], [1.0, \"#f0f921\"]]}, \"colorway\": [\"#636efa\", \"#EF553B\", \"#00cc96\", \"#ab63fa\", \"#FFA15A\", \"#19d3f3\", \"#FF6692\", \"#B6E880\", \"#FF97FF\", \"#FECB52\"], \"font\": {\"color\": \"#2a3f5f\"}, \"geo\": {\"bgcolor\": \"white\", \"lakecolor\": \"white\", \"landcolor\": \"#E5ECF6\", \"showlakes\": true, \"showland\": true, \"subunitcolor\": \"white\"}, \"hoverlabel\": {\"align\": \"left\"}, \"hovermode\": \"closest\", \"mapbox\": {\"style\": \"light\"}, \"paper_bgcolor\": \"white\", \"plot_bgcolor\": \"#E5ECF6\", \"polar\": {\"angularaxis\": {\"gridcolor\": \"white\", \"linecolor\": \"white\", \"ticks\": \"\"}, \"bgcolor\": \"#E5ECF6\", \"radialaxis\": {\"gridcolor\": \"white\", \"linecolor\": \"white\", \"ticks\": \"\"}}, \"scene\": {\"xaxis\": {\"backgroundcolor\": \"#E5ECF6\", \"gridcolor\": \"white\", \"gridwidth\": 2, \"linecolor\": \"white\", \"showbackground\": true, \"ticks\": \"\", \"zerolinecolor\": \"white\"}, \"yaxis\": {\"backgroundcolor\": \"#E5ECF6\", \"gridcolor\": \"white\", \"gridwidth\": 2, \"linecolor\": \"white\", \"showbackground\": true, \"ticks\": \"\", \"zerolinecolor\": \"white\"}, \"zaxis\": {\"backgroundcolor\": \"#E5ECF6\", \"gridcolor\": \"white\", \"gridwidth\": 2, \"linecolor\": \"white\", \"showbackground\": true, \"ticks\": \"\", \"zerolinecolor\": \"white\"}}, \"shapedefaults\": {\"line\": {\"color\": \"#2a3f5f\"}}, \"ternary\": {\"aaxis\": {\"gridcolor\": \"white\", \"linecolor\": \"white\", \"ticks\": \"\"}, \"baxis\": {\"gridcolor\": \"white\", \"linecolor\": \"white\", \"ticks\": \"\"}, \"bgcolor\": \"#E5ECF6\", \"caxis\": {\"gridcolor\": \"white\", \"linecolor\": \"white\", \"ticks\": \"\"}}, \"title\": {\"x\": 0.05}, \"xaxis\": {\"automargin\": true, \"gridcolor\": \"white\", \"linecolor\": \"white\", \"ticks\": \"\", \"title\": {\"standoff\": 15}, \"zerolinecolor\": \"white\", \"zerolinewidth\": 2}, \"yaxis\": {\"automargin\": true, \"gridcolor\": \"white\", \"linecolor\": \"white\", \"ticks\": \"\", \"title\": {\"standoff\": 15}, \"zerolinecolor\": \"white\", \"zerolinewidth\": 2}}}, \"title\": {\"text\": \"Total Death in India\"}, \"xaxis\": {\"anchor\": \"y\", \"domain\": [0.0, 1.0], \"title\": {\"text\": \"STATE NAME\"}}, \"yaxis\": {\"anchor\": \"x\", \"domain\": [0.0, 1.0], \"title\": {\"text\": \"DEATH\"}}},\n",
       "                        {\"responsive\": true}\n",
       "                    ).then(function(){\n",
       "                            \n",
       "var gd = document.getElementById('4c26a8c1-d21c-477b-98c4-158a18855ee2');\n",
       "var x = new MutationObserver(function (mutations, observer) {{\n",
       "        var display = window.getComputedStyle(gd).display;\n",
       "        if (!display || display === 'none') {{\n",
       "            console.log([gd, 'removed!']);\n",
       "            Plotly.purge(gd);\n",
       "            observer.disconnect();\n",
       "        }}\n",
       "}});\n",
       "\n",
       "// Listen for the removal of the full notebook cells\n",
       "var notebookContainer = gd.closest('#notebook-container');\n",
       "if (notebookContainer) {{\n",
       "    x.observe(notebookContainer, {childList: true});\n",
       "}}\n",
       "\n",
       "// Listen for the clearing of the current output cell\n",
       "var outputEl = gd.closest('.output');\n",
       "if (outputEl) {{\n",
       "    x.observe(outputEl, {childList: true});\n",
       "}}\n",
       "\n",
       "                        })\n",
       "                };\n",
       "                });\n",
       "            </script>\n",
       "        </div>"
      ]
     },
     "metadata": {},
     "output_type": "display_data"
    }
   ],
   "source": [
    "fig=px.bar(covid_india,x=\"STATE NAME\",y=\"DEATH\",color='DEATH',title='Total Death in India')\n",
    "fig.show()"
   ]
  },
  {
   "cell_type": "code",
   "execution_count": 17,
   "metadata": {},
   "outputs": [
    {
     "data": {
      "application/vnd.plotly.v1+json": {
       "config": {
        "plotlyServerURL": "https://plot.ly"
       },
       "data": [
        {
         "alignmentgroup": "True",
         "hovertemplate": "STATE NAME=%{x}<br>CURED/DISCHARGED/MIGRATED=%{marker.color}<extra></extra>",
         "legendgroup": "",
         "marker": {
          "color": [
           1,
           0,
           0,
           7,
           9,
           21,
           0,
           25,
           25,
           2,
           4,
           25,
           58,
           10,
           0,
           56,
           0,
           0,
           2,
           1,
           4,
           21,
           8,
           35,
           5,
           21,
           13,
           0,
           0,
           0,
           0
          ],
          "coloraxis": "coloraxis"
         },
         "name": "",
         "offsetgroup": "",
         "orientation": "v",
         "showlegend": false,
         "textposition": "auto",
         "type": "bar",
         "x": [
          "AndhraPradesh",
          "AndamanNicobar",
          "Bihar",
          "Chandigarh",
          "Chhattisgarh",
          "Delhi",
          "Goa",
          "Gujarat",
          "Haryana",
          "HimachalPradesh",
          "J & K",
          "Karnataka",
          "Kerala",
          "Ladakh",
          "MP",
          "Maharashtra",
          "Manipur",
          "Mizoram",
          "Odisha",
          "Puducherry",
          "Punjab",
          "Rajasthan",
          "TamilNadu",
          "Telengana",
          "Uttarakhand",
          "UttarPradesh",
          "West Bengal",
          "Assam",
          "Jharkhand",
          "Arunachal Pradesh",
          "Tripura"
         ],
         "xaxis": "x",
         "y": [
          1,
          0,
          0,
          7,
          9,
          21,
          0,
          25,
          25,
          2,
          4,
          25,
          58,
          10,
          0,
          56,
          0,
          0,
          2,
          1,
          4,
          21,
          8,
          35,
          5,
          21,
          13,
          0,
          0,
          0,
          0
         ],
         "yaxis": "y"
        }
       ],
       "layout": {
        "barmode": "relative",
        "coloraxis": {
         "colorbar": {
          "title": {
           "text": "CURED/DISCHARGED/MIGRATED"
          }
         },
         "colorscale": [
          [
           0,
           "#0d0887"
          ],
          [
           0.1111111111111111,
           "#46039f"
          ],
          [
           0.2222222222222222,
           "#7201a8"
          ],
          [
           0.3333333333333333,
           "#9c179e"
          ],
          [
           0.4444444444444444,
           "#bd3786"
          ],
          [
           0.5555555555555556,
           "#d8576b"
          ],
          [
           0.6666666666666666,
           "#ed7953"
          ],
          [
           0.7777777777777778,
           "#fb9f3a"
          ],
          [
           0.8888888888888888,
           "#fdca26"
          ],
          [
           1,
           "#f0f921"
          ]
         ]
        },
        "legend": {
         "tracegroupgap": 0
        },
        "template": {
         "data": {
          "bar": [
           {
            "error_x": {
             "color": "#2a3f5f"
            },
            "error_y": {
             "color": "#2a3f5f"
            },
            "marker": {
             "line": {
              "color": "#E5ECF6",
              "width": 0.5
             }
            },
            "type": "bar"
           }
          ],
          "barpolar": [
           {
            "marker": {
             "line": {
              "color": "#E5ECF6",
              "width": 0.5
             }
            },
            "type": "barpolar"
           }
          ],
          "carpet": [
           {
            "aaxis": {
             "endlinecolor": "#2a3f5f",
             "gridcolor": "white",
             "linecolor": "white",
             "minorgridcolor": "white",
             "startlinecolor": "#2a3f5f"
            },
            "baxis": {
             "endlinecolor": "#2a3f5f",
             "gridcolor": "white",
             "linecolor": "white",
             "minorgridcolor": "white",
             "startlinecolor": "#2a3f5f"
            },
            "type": "carpet"
           }
          ],
          "choropleth": [
           {
            "colorbar": {
             "outlinewidth": 0,
             "ticks": ""
            },
            "type": "choropleth"
           }
          ],
          "contour": [
           {
            "colorbar": {
             "outlinewidth": 0,
             "ticks": ""
            },
            "colorscale": [
             [
              0,
              "#0d0887"
             ],
             [
              0.1111111111111111,
              "#46039f"
             ],
             [
              0.2222222222222222,
              "#7201a8"
             ],
             [
              0.3333333333333333,
              "#9c179e"
             ],
             [
              0.4444444444444444,
              "#bd3786"
             ],
             [
              0.5555555555555556,
              "#d8576b"
             ],
             [
              0.6666666666666666,
              "#ed7953"
             ],
             [
              0.7777777777777778,
              "#fb9f3a"
             ],
             [
              0.8888888888888888,
              "#fdca26"
             ],
             [
              1,
              "#f0f921"
             ]
            ],
            "type": "contour"
           }
          ],
          "contourcarpet": [
           {
            "colorbar": {
             "outlinewidth": 0,
             "ticks": ""
            },
            "type": "contourcarpet"
           }
          ],
          "heatmap": [
           {
            "colorbar": {
             "outlinewidth": 0,
             "ticks": ""
            },
            "colorscale": [
             [
              0,
              "#0d0887"
             ],
             [
              0.1111111111111111,
              "#46039f"
             ],
             [
              0.2222222222222222,
              "#7201a8"
             ],
             [
              0.3333333333333333,
              "#9c179e"
             ],
             [
              0.4444444444444444,
              "#bd3786"
             ],
             [
              0.5555555555555556,
              "#d8576b"
             ],
             [
              0.6666666666666666,
              "#ed7953"
             ],
             [
              0.7777777777777778,
              "#fb9f3a"
             ],
             [
              0.8888888888888888,
              "#fdca26"
             ],
             [
              1,
              "#f0f921"
             ]
            ],
            "type": "heatmap"
           }
          ],
          "heatmapgl": [
           {
            "colorbar": {
             "outlinewidth": 0,
             "ticks": ""
            },
            "colorscale": [
             [
              0,
              "#0d0887"
             ],
             [
              0.1111111111111111,
              "#46039f"
             ],
             [
              0.2222222222222222,
              "#7201a8"
             ],
             [
              0.3333333333333333,
              "#9c179e"
             ],
             [
              0.4444444444444444,
              "#bd3786"
             ],
             [
              0.5555555555555556,
              "#d8576b"
             ],
             [
              0.6666666666666666,
              "#ed7953"
             ],
             [
              0.7777777777777778,
              "#fb9f3a"
             ],
             [
              0.8888888888888888,
              "#fdca26"
             ],
             [
              1,
              "#f0f921"
             ]
            ],
            "type": "heatmapgl"
           }
          ],
          "histogram": [
           {
            "marker": {
             "colorbar": {
              "outlinewidth": 0,
              "ticks": ""
             }
            },
            "type": "histogram"
           }
          ],
          "histogram2d": [
           {
            "colorbar": {
             "outlinewidth": 0,
             "ticks": ""
            },
            "colorscale": [
             [
              0,
              "#0d0887"
             ],
             [
              0.1111111111111111,
              "#46039f"
             ],
             [
              0.2222222222222222,
              "#7201a8"
             ],
             [
              0.3333333333333333,
              "#9c179e"
             ],
             [
              0.4444444444444444,
              "#bd3786"
             ],
             [
              0.5555555555555556,
              "#d8576b"
             ],
             [
              0.6666666666666666,
              "#ed7953"
             ],
             [
              0.7777777777777778,
              "#fb9f3a"
             ],
             [
              0.8888888888888888,
              "#fdca26"
             ],
             [
              1,
              "#f0f921"
             ]
            ],
            "type": "histogram2d"
           }
          ],
          "histogram2dcontour": [
           {
            "colorbar": {
             "outlinewidth": 0,
             "ticks": ""
            },
            "colorscale": [
             [
              0,
              "#0d0887"
             ],
             [
              0.1111111111111111,
              "#46039f"
             ],
             [
              0.2222222222222222,
              "#7201a8"
             ],
             [
              0.3333333333333333,
              "#9c179e"
             ],
             [
              0.4444444444444444,
              "#bd3786"
             ],
             [
              0.5555555555555556,
              "#d8576b"
             ],
             [
              0.6666666666666666,
              "#ed7953"
             ],
             [
              0.7777777777777778,
              "#fb9f3a"
             ],
             [
              0.8888888888888888,
              "#fdca26"
             ],
             [
              1,
              "#f0f921"
             ]
            ],
            "type": "histogram2dcontour"
           }
          ],
          "mesh3d": [
           {
            "colorbar": {
             "outlinewidth": 0,
             "ticks": ""
            },
            "type": "mesh3d"
           }
          ],
          "parcoords": [
           {
            "line": {
             "colorbar": {
              "outlinewidth": 0,
              "ticks": ""
             }
            },
            "type": "parcoords"
           }
          ],
          "pie": [
           {
            "automargin": true,
            "type": "pie"
           }
          ],
          "scatter": [
           {
            "marker": {
             "colorbar": {
              "outlinewidth": 0,
              "ticks": ""
             }
            },
            "type": "scatter"
           }
          ],
          "scatter3d": [
           {
            "line": {
             "colorbar": {
              "outlinewidth": 0,
              "ticks": ""
             }
            },
            "marker": {
             "colorbar": {
              "outlinewidth": 0,
              "ticks": ""
             }
            },
            "type": "scatter3d"
           }
          ],
          "scattercarpet": [
           {
            "marker": {
             "colorbar": {
              "outlinewidth": 0,
              "ticks": ""
             }
            },
            "type": "scattercarpet"
           }
          ],
          "scattergeo": [
           {
            "marker": {
             "colorbar": {
              "outlinewidth": 0,
              "ticks": ""
             }
            },
            "type": "scattergeo"
           }
          ],
          "scattergl": [
           {
            "marker": {
             "colorbar": {
              "outlinewidth": 0,
              "ticks": ""
             }
            },
            "type": "scattergl"
           }
          ],
          "scattermapbox": [
           {
            "marker": {
             "colorbar": {
              "outlinewidth": 0,
              "ticks": ""
             }
            },
            "type": "scattermapbox"
           }
          ],
          "scatterpolar": [
           {
            "marker": {
             "colorbar": {
              "outlinewidth": 0,
              "ticks": ""
             }
            },
            "type": "scatterpolar"
           }
          ],
          "scatterpolargl": [
           {
            "marker": {
             "colorbar": {
              "outlinewidth": 0,
              "ticks": ""
             }
            },
            "type": "scatterpolargl"
           }
          ],
          "scatterternary": [
           {
            "marker": {
             "colorbar": {
              "outlinewidth": 0,
              "ticks": ""
             }
            },
            "type": "scatterternary"
           }
          ],
          "surface": [
           {
            "colorbar": {
             "outlinewidth": 0,
             "ticks": ""
            },
            "colorscale": [
             [
              0,
              "#0d0887"
             ],
             [
              0.1111111111111111,
              "#46039f"
             ],
             [
              0.2222222222222222,
              "#7201a8"
             ],
             [
              0.3333333333333333,
              "#9c179e"
             ],
             [
              0.4444444444444444,
              "#bd3786"
             ],
             [
              0.5555555555555556,
              "#d8576b"
             ],
             [
              0.6666666666666666,
              "#ed7953"
             ],
             [
              0.7777777777777778,
              "#fb9f3a"
             ],
             [
              0.8888888888888888,
              "#fdca26"
             ],
             [
              1,
              "#f0f921"
             ]
            ],
            "type": "surface"
           }
          ],
          "table": [
           {
            "cells": {
             "fill": {
              "color": "#EBF0F8"
             },
             "line": {
              "color": "white"
             }
            },
            "header": {
             "fill": {
              "color": "#C8D4E3"
             },
             "line": {
              "color": "white"
             }
            },
            "type": "table"
           }
          ]
         },
         "layout": {
          "annotationdefaults": {
           "arrowcolor": "#2a3f5f",
           "arrowhead": 0,
           "arrowwidth": 1
          },
          "coloraxis": {
           "colorbar": {
            "outlinewidth": 0,
            "ticks": ""
           }
          },
          "colorscale": {
           "diverging": [
            [
             0,
             "#8e0152"
            ],
            [
             0.1,
             "#c51b7d"
            ],
            [
             0.2,
             "#de77ae"
            ],
            [
             0.3,
             "#f1b6da"
            ],
            [
             0.4,
             "#fde0ef"
            ],
            [
             0.5,
             "#f7f7f7"
            ],
            [
             0.6,
             "#e6f5d0"
            ],
            [
             0.7,
             "#b8e186"
            ],
            [
             0.8,
             "#7fbc41"
            ],
            [
             0.9,
             "#4d9221"
            ],
            [
             1,
             "#276419"
            ]
           ],
           "sequential": [
            [
             0,
             "#0d0887"
            ],
            [
             0.1111111111111111,
             "#46039f"
            ],
            [
             0.2222222222222222,
             "#7201a8"
            ],
            [
             0.3333333333333333,
             "#9c179e"
            ],
            [
             0.4444444444444444,
             "#bd3786"
            ],
            [
             0.5555555555555556,
             "#d8576b"
            ],
            [
             0.6666666666666666,
             "#ed7953"
            ],
            [
             0.7777777777777778,
             "#fb9f3a"
            ],
            [
             0.8888888888888888,
             "#fdca26"
            ],
            [
             1,
             "#f0f921"
            ]
           ],
           "sequentialminus": [
            [
             0,
             "#0d0887"
            ],
            [
             0.1111111111111111,
             "#46039f"
            ],
            [
             0.2222222222222222,
             "#7201a8"
            ],
            [
             0.3333333333333333,
             "#9c179e"
            ],
            [
             0.4444444444444444,
             "#bd3786"
            ],
            [
             0.5555555555555556,
             "#d8576b"
            ],
            [
             0.6666666666666666,
             "#ed7953"
            ],
            [
             0.7777777777777778,
             "#fb9f3a"
            ],
            [
             0.8888888888888888,
             "#fdca26"
            ],
            [
             1,
             "#f0f921"
            ]
           ]
          },
          "colorway": [
           "#636efa",
           "#EF553B",
           "#00cc96",
           "#ab63fa",
           "#FFA15A",
           "#19d3f3",
           "#FF6692",
           "#B6E880",
           "#FF97FF",
           "#FECB52"
          ],
          "font": {
           "color": "#2a3f5f"
          },
          "geo": {
           "bgcolor": "white",
           "lakecolor": "white",
           "landcolor": "#E5ECF6",
           "showlakes": true,
           "showland": true,
           "subunitcolor": "white"
          },
          "hoverlabel": {
           "align": "left"
          },
          "hovermode": "closest",
          "mapbox": {
           "style": "light"
          },
          "paper_bgcolor": "white",
          "plot_bgcolor": "#E5ECF6",
          "polar": {
           "angularaxis": {
            "gridcolor": "white",
            "linecolor": "white",
            "ticks": ""
           },
           "bgcolor": "#E5ECF6",
           "radialaxis": {
            "gridcolor": "white",
            "linecolor": "white",
            "ticks": ""
           }
          },
          "scene": {
           "xaxis": {
            "backgroundcolor": "#E5ECF6",
            "gridcolor": "white",
            "gridwidth": 2,
            "linecolor": "white",
            "showbackground": true,
            "ticks": "",
            "zerolinecolor": "white"
           },
           "yaxis": {
            "backgroundcolor": "#E5ECF6",
            "gridcolor": "white",
            "gridwidth": 2,
            "linecolor": "white",
            "showbackground": true,
            "ticks": "",
            "zerolinecolor": "white"
           },
           "zaxis": {
            "backgroundcolor": "#E5ECF6",
            "gridcolor": "white",
            "gridwidth": 2,
            "linecolor": "white",
            "showbackground": true,
            "ticks": "",
            "zerolinecolor": "white"
           }
          },
          "shapedefaults": {
           "line": {
            "color": "#2a3f5f"
           }
          },
          "ternary": {
           "aaxis": {
            "gridcolor": "white",
            "linecolor": "white",
            "ticks": ""
           },
           "baxis": {
            "gridcolor": "white",
            "linecolor": "white",
            "ticks": ""
           },
           "bgcolor": "#E5ECF6",
           "caxis": {
            "gridcolor": "white",
            "linecolor": "white",
            "ticks": ""
           }
          },
          "title": {
           "x": 0.05
          },
          "xaxis": {
           "automargin": true,
           "gridcolor": "white",
           "linecolor": "white",
           "ticks": "",
           "title": {
            "standoff": 15
           },
           "zerolinecolor": "white",
           "zerolinewidth": 2
          },
          "yaxis": {
           "automargin": true,
           "gridcolor": "white",
           "linecolor": "white",
           "ticks": "",
           "title": {
            "standoff": 15
           },
           "zerolinecolor": "white",
           "zerolinewidth": 2
          }
         }
        },
        "title": {
         "text": "Total Cases Close in India"
        },
        "xaxis": {
         "anchor": "y",
         "domain": [
          0,
          1
         ],
         "title": {
          "text": "STATE NAME"
         }
        },
        "yaxis": {
         "anchor": "x",
         "domain": [
          0,
          1
         ],
         "title": {
          "text": "CURED/DISCHARGED/MIGRATED"
         }
        }
       }
      },
      "text/html": [
       "<div>\n",
       "        \n",
       "        \n",
       "            <div id=\"1ab0a9d3-e7e4-451f-9256-cfcab442b7da\" class=\"plotly-graph-div\" style=\"height:525px; width:100%;\"></div>\n",
       "            <script type=\"text/javascript\">\n",
       "                require([\"plotly\"], function(Plotly) {\n",
       "                    window.PLOTLYENV=window.PLOTLYENV || {};\n",
       "                    \n",
       "                if (document.getElementById(\"1ab0a9d3-e7e4-451f-9256-cfcab442b7da\")) {\n",
       "                    Plotly.newPlot(\n",
       "                        '1ab0a9d3-e7e4-451f-9256-cfcab442b7da',\n",
       "                        [{\"alignmentgroup\": \"True\", \"hovertemplate\": \"STATE NAME=%{x}<br>CURED/DISCHARGED/MIGRATED=%{marker.color}<extra></extra>\", \"legendgroup\": \"\", \"marker\": {\"color\": [1, 0, 0, 7, 9, 21, 0, 25, 25, 2, 4, 25, 58, 10, 0, 56, 0, 0, 2, 1, 4, 21, 8, 35, 5, 21, 13, 0, 0, 0, 0], \"coloraxis\": \"coloraxis\"}, \"name\": \"\", \"offsetgroup\": \"\", \"orientation\": \"v\", \"showlegend\": false, \"textposition\": \"auto\", \"type\": \"bar\", \"x\": [\"AndhraPradesh\", \"AndamanNicobar\", \"Bihar\", \"Chandigarh\", \"Chhattisgarh\", \"Delhi\", \"Goa\", \"Gujarat\", \"Haryana\", \"HimachalPradesh\", \"J & K\", \"Karnataka\", \"Kerala\", \"Ladakh\", \"MP\", \"Maharashtra\", \"Manipur\", \"Mizoram\", \"Odisha\", \"Puducherry\", \"Punjab\", \"Rajasthan\", \"TamilNadu\", \"Telengana\", \"Uttarakhand\", \"UttarPradesh\", \"West Bengal\", \"Assam\", \"Jharkhand\", \"Arunachal Pradesh\", \"Tripura\"], \"xaxis\": \"x\", \"y\": [1, 0, 0, 7, 9, 21, 0, 25, 25, 2, 4, 25, 58, 10, 0, 56, 0, 0, 2, 1, 4, 21, 8, 35, 5, 21, 13, 0, 0, 0, 0], \"yaxis\": \"y\"}],\n",
       "                        {\"barmode\": \"relative\", \"coloraxis\": {\"colorbar\": {\"title\": {\"text\": \"CURED/DISCHARGED/MIGRATED\"}}, \"colorscale\": [[0.0, \"#0d0887\"], [0.1111111111111111, \"#46039f\"], [0.2222222222222222, \"#7201a8\"], [0.3333333333333333, \"#9c179e\"], [0.4444444444444444, \"#bd3786\"], [0.5555555555555556, \"#d8576b\"], [0.6666666666666666, \"#ed7953\"], [0.7777777777777778, \"#fb9f3a\"], [0.8888888888888888, \"#fdca26\"], [1.0, \"#f0f921\"]]}, \"legend\": {\"tracegroupgap\": 0}, \"template\": {\"data\": {\"bar\": [{\"error_x\": {\"color\": \"#2a3f5f\"}, \"error_y\": {\"color\": \"#2a3f5f\"}, \"marker\": {\"line\": {\"color\": \"#E5ECF6\", \"width\": 0.5}}, \"type\": \"bar\"}], \"barpolar\": [{\"marker\": {\"line\": {\"color\": \"#E5ECF6\", \"width\": 0.5}}, \"type\": \"barpolar\"}], \"carpet\": [{\"aaxis\": {\"endlinecolor\": \"#2a3f5f\", \"gridcolor\": \"white\", \"linecolor\": \"white\", \"minorgridcolor\": \"white\", \"startlinecolor\": \"#2a3f5f\"}, \"baxis\": {\"endlinecolor\": \"#2a3f5f\", \"gridcolor\": \"white\", \"linecolor\": \"white\", \"minorgridcolor\": \"white\", \"startlinecolor\": \"#2a3f5f\"}, \"type\": \"carpet\"}], \"choropleth\": [{\"colorbar\": {\"outlinewidth\": 0, \"ticks\": \"\"}, \"type\": \"choropleth\"}], \"contour\": [{\"colorbar\": {\"outlinewidth\": 0, \"ticks\": \"\"}, \"colorscale\": [[0.0, \"#0d0887\"], [0.1111111111111111, \"#46039f\"], [0.2222222222222222, \"#7201a8\"], [0.3333333333333333, \"#9c179e\"], [0.4444444444444444, \"#bd3786\"], [0.5555555555555556, \"#d8576b\"], [0.6666666666666666, \"#ed7953\"], [0.7777777777777778, \"#fb9f3a\"], [0.8888888888888888, \"#fdca26\"], [1.0, \"#f0f921\"]], \"type\": \"contour\"}], \"contourcarpet\": [{\"colorbar\": {\"outlinewidth\": 0, \"ticks\": \"\"}, \"type\": \"contourcarpet\"}], \"heatmap\": [{\"colorbar\": {\"outlinewidth\": 0, \"ticks\": \"\"}, \"colorscale\": [[0.0, \"#0d0887\"], [0.1111111111111111, \"#46039f\"], [0.2222222222222222, \"#7201a8\"], [0.3333333333333333, \"#9c179e\"], [0.4444444444444444, \"#bd3786\"], [0.5555555555555556, \"#d8576b\"], [0.6666666666666666, \"#ed7953\"], [0.7777777777777778, \"#fb9f3a\"], [0.8888888888888888, \"#fdca26\"], [1.0, \"#f0f921\"]], \"type\": \"heatmap\"}], \"heatmapgl\": [{\"colorbar\": {\"outlinewidth\": 0, \"ticks\": \"\"}, \"colorscale\": [[0.0, \"#0d0887\"], [0.1111111111111111, \"#46039f\"], [0.2222222222222222, \"#7201a8\"], [0.3333333333333333, \"#9c179e\"], [0.4444444444444444, \"#bd3786\"], [0.5555555555555556, \"#d8576b\"], [0.6666666666666666, \"#ed7953\"], [0.7777777777777778, \"#fb9f3a\"], [0.8888888888888888, \"#fdca26\"], [1.0, \"#f0f921\"]], \"type\": \"heatmapgl\"}], \"histogram\": [{\"marker\": {\"colorbar\": {\"outlinewidth\": 0, \"ticks\": \"\"}}, \"type\": \"histogram\"}], \"histogram2d\": [{\"colorbar\": {\"outlinewidth\": 0, \"ticks\": \"\"}, \"colorscale\": [[0.0, \"#0d0887\"], [0.1111111111111111, \"#46039f\"], [0.2222222222222222, \"#7201a8\"], [0.3333333333333333, \"#9c179e\"], [0.4444444444444444, \"#bd3786\"], [0.5555555555555556, \"#d8576b\"], [0.6666666666666666, \"#ed7953\"], [0.7777777777777778, \"#fb9f3a\"], [0.8888888888888888, \"#fdca26\"], [1.0, \"#f0f921\"]], \"type\": \"histogram2d\"}], \"histogram2dcontour\": [{\"colorbar\": {\"outlinewidth\": 0, \"ticks\": \"\"}, \"colorscale\": [[0.0, \"#0d0887\"], [0.1111111111111111, \"#46039f\"], [0.2222222222222222, \"#7201a8\"], [0.3333333333333333, \"#9c179e\"], [0.4444444444444444, \"#bd3786\"], [0.5555555555555556, \"#d8576b\"], [0.6666666666666666, \"#ed7953\"], [0.7777777777777778, \"#fb9f3a\"], [0.8888888888888888, \"#fdca26\"], [1.0, \"#f0f921\"]], \"type\": \"histogram2dcontour\"}], \"mesh3d\": [{\"colorbar\": {\"outlinewidth\": 0, \"ticks\": \"\"}, \"type\": \"mesh3d\"}], \"parcoords\": [{\"line\": {\"colorbar\": {\"outlinewidth\": 0, \"ticks\": \"\"}}, \"type\": \"parcoords\"}], \"pie\": [{\"automargin\": true, \"type\": \"pie\"}], \"scatter\": [{\"marker\": {\"colorbar\": {\"outlinewidth\": 0, \"ticks\": \"\"}}, \"type\": \"scatter\"}], \"scatter3d\": [{\"line\": {\"colorbar\": {\"outlinewidth\": 0, \"ticks\": \"\"}}, \"marker\": {\"colorbar\": {\"outlinewidth\": 0, \"ticks\": \"\"}}, \"type\": \"scatter3d\"}], \"scattercarpet\": [{\"marker\": {\"colorbar\": {\"outlinewidth\": 0, \"ticks\": \"\"}}, \"type\": \"scattercarpet\"}], \"scattergeo\": [{\"marker\": {\"colorbar\": {\"outlinewidth\": 0, \"ticks\": \"\"}}, \"type\": \"scattergeo\"}], \"scattergl\": [{\"marker\": {\"colorbar\": {\"outlinewidth\": 0, \"ticks\": \"\"}}, \"type\": \"scattergl\"}], \"scattermapbox\": [{\"marker\": {\"colorbar\": {\"outlinewidth\": 0, \"ticks\": \"\"}}, \"type\": \"scattermapbox\"}], \"scatterpolar\": [{\"marker\": {\"colorbar\": {\"outlinewidth\": 0, \"ticks\": \"\"}}, \"type\": \"scatterpolar\"}], \"scatterpolargl\": [{\"marker\": {\"colorbar\": {\"outlinewidth\": 0, \"ticks\": \"\"}}, \"type\": \"scatterpolargl\"}], \"scatterternary\": [{\"marker\": {\"colorbar\": {\"outlinewidth\": 0, \"ticks\": \"\"}}, \"type\": \"scatterternary\"}], \"surface\": [{\"colorbar\": {\"outlinewidth\": 0, \"ticks\": \"\"}, \"colorscale\": [[0.0, \"#0d0887\"], [0.1111111111111111, \"#46039f\"], [0.2222222222222222, \"#7201a8\"], [0.3333333333333333, \"#9c179e\"], [0.4444444444444444, \"#bd3786\"], [0.5555555555555556, \"#d8576b\"], [0.6666666666666666, \"#ed7953\"], [0.7777777777777778, \"#fb9f3a\"], [0.8888888888888888, \"#fdca26\"], [1.0, \"#f0f921\"]], \"type\": \"surface\"}], \"table\": [{\"cells\": {\"fill\": {\"color\": \"#EBF0F8\"}, \"line\": {\"color\": \"white\"}}, \"header\": {\"fill\": {\"color\": \"#C8D4E3\"}, \"line\": {\"color\": \"white\"}}, \"type\": \"table\"}]}, \"layout\": {\"annotationdefaults\": {\"arrowcolor\": \"#2a3f5f\", \"arrowhead\": 0, \"arrowwidth\": 1}, \"coloraxis\": {\"colorbar\": {\"outlinewidth\": 0, \"ticks\": \"\"}}, \"colorscale\": {\"diverging\": [[0, \"#8e0152\"], [0.1, \"#c51b7d\"], [0.2, \"#de77ae\"], [0.3, \"#f1b6da\"], [0.4, \"#fde0ef\"], [0.5, \"#f7f7f7\"], [0.6, \"#e6f5d0\"], [0.7, \"#b8e186\"], [0.8, \"#7fbc41\"], [0.9, \"#4d9221\"], [1, \"#276419\"]], \"sequential\": [[0.0, \"#0d0887\"], [0.1111111111111111, \"#46039f\"], [0.2222222222222222, \"#7201a8\"], [0.3333333333333333, \"#9c179e\"], [0.4444444444444444, \"#bd3786\"], [0.5555555555555556, \"#d8576b\"], [0.6666666666666666, \"#ed7953\"], [0.7777777777777778, \"#fb9f3a\"], [0.8888888888888888, \"#fdca26\"], [1.0, \"#f0f921\"]], \"sequentialminus\": [[0.0, \"#0d0887\"], [0.1111111111111111, \"#46039f\"], [0.2222222222222222, \"#7201a8\"], [0.3333333333333333, \"#9c179e\"], [0.4444444444444444, \"#bd3786\"], [0.5555555555555556, \"#d8576b\"], [0.6666666666666666, \"#ed7953\"], [0.7777777777777778, \"#fb9f3a\"], [0.8888888888888888, \"#fdca26\"], [1.0, \"#f0f921\"]]}, \"colorway\": [\"#636efa\", \"#EF553B\", \"#00cc96\", \"#ab63fa\", \"#FFA15A\", \"#19d3f3\", \"#FF6692\", \"#B6E880\", \"#FF97FF\", \"#FECB52\"], \"font\": {\"color\": \"#2a3f5f\"}, \"geo\": {\"bgcolor\": \"white\", \"lakecolor\": \"white\", \"landcolor\": \"#E5ECF6\", \"showlakes\": true, \"showland\": true, \"subunitcolor\": \"white\"}, \"hoverlabel\": {\"align\": \"left\"}, \"hovermode\": \"closest\", \"mapbox\": {\"style\": \"light\"}, \"paper_bgcolor\": \"white\", \"plot_bgcolor\": \"#E5ECF6\", \"polar\": {\"angularaxis\": {\"gridcolor\": \"white\", \"linecolor\": \"white\", \"ticks\": \"\"}, \"bgcolor\": \"#E5ECF6\", \"radialaxis\": {\"gridcolor\": \"white\", \"linecolor\": \"white\", \"ticks\": \"\"}}, \"scene\": {\"xaxis\": {\"backgroundcolor\": \"#E5ECF6\", \"gridcolor\": \"white\", \"gridwidth\": 2, \"linecolor\": \"white\", \"showbackground\": true, \"ticks\": \"\", \"zerolinecolor\": \"white\"}, \"yaxis\": {\"backgroundcolor\": \"#E5ECF6\", \"gridcolor\": \"white\", \"gridwidth\": 2, \"linecolor\": \"white\", \"showbackground\": true, \"ticks\": \"\", \"zerolinecolor\": \"white\"}, \"zaxis\": {\"backgroundcolor\": \"#E5ECF6\", \"gridcolor\": \"white\", \"gridwidth\": 2, \"linecolor\": \"white\", \"showbackground\": true, \"ticks\": \"\", \"zerolinecolor\": \"white\"}}, \"shapedefaults\": {\"line\": {\"color\": \"#2a3f5f\"}}, \"ternary\": {\"aaxis\": {\"gridcolor\": \"white\", \"linecolor\": \"white\", \"ticks\": \"\"}, \"baxis\": {\"gridcolor\": \"white\", \"linecolor\": \"white\", \"ticks\": \"\"}, \"bgcolor\": \"#E5ECF6\", \"caxis\": {\"gridcolor\": \"white\", \"linecolor\": \"white\", \"ticks\": \"\"}}, \"title\": {\"x\": 0.05}, \"xaxis\": {\"automargin\": true, \"gridcolor\": \"white\", \"linecolor\": \"white\", \"ticks\": \"\", \"title\": {\"standoff\": 15}, \"zerolinecolor\": \"white\", \"zerolinewidth\": 2}, \"yaxis\": {\"automargin\": true, \"gridcolor\": \"white\", \"linecolor\": \"white\", \"ticks\": \"\", \"title\": {\"standoff\": 15}, \"zerolinecolor\": \"white\", \"zerolinewidth\": 2}}}, \"title\": {\"text\": \"Total Cases Close in India\"}, \"xaxis\": {\"anchor\": \"y\", \"domain\": [0.0, 1.0], \"title\": {\"text\": \"STATE NAME\"}}, \"yaxis\": {\"anchor\": \"x\", \"domain\": [0.0, 1.0], \"title\": {\"text\": \"CURED/DISCHARGED/MIGRATED\"}}},\n",
       "                        {\"responsive\": true}\n",
       "                    ).then(function(){\n",
       "                            \n",
       "var gd = document.getElementById('1ab0a9d3-e7e4-451f-9256-cfcab442b7da');\n",
       "var x = new MutationObserver(function (mutations, observer) {{\n",
       "        var display = window.getComputedStyle(gd).display;\n",
       "        if (!display || display === 'none') {{\n",
       "            console.log([gd, 'removed!']);\n",
       "            Plotly.purge(gd);\n",
       "            observer.disconnect();\n",
       "        }}\n",
       "}});\n",
       "\n",
       "// Listen for the removal of the full notebook cells\n",
       "var notebookContainer = gd.closest('#notebook-container');\n",
       "if (notebookContainer) {{\n",
       "    x.observe(notebookContainer, {childList: true});\n",
       "}}\n",
       "\n",
       "// Listen for the clearing of the current output cell\n",
       "var outputEl = gd.closest('.output');\n",
       "if (outputEl) {{\n",
       "    x.observe(outputEl, {childList: true});\n",
       "}}\n",
       "\n",
       "                        })\n",
       "                };\n",
       "                });\n",
       "            </script>\n",
       "        </div>"
      ]
     },
     "metadata": {},
     "output_type": "display_data"
    }
   ],
   "source": [
    "fig=px.bar(covid_india,x=\"STATE NAME\",y=\"CURED/DISCHARGED/MIGRATED\",color='CURED/DISCHARGED/MIGRATED',\n",
    "           title='Total Cases Close in India')\n",
    "fig.show()"
   ]
  },
  {
   "cell_type": "code",
   "execution_count": 18,
   "metadata": {},
   "outputs": [
    {
     "data": {
      "text/html": [
       "<div>\n",
       "<style scoped>\n",
       "    .dataframe tbody tr th:only-of-type {\n",
       "        vertical-align: middle;\n",
       "    }\n",
       "\n",
       "    .dataframe tbody tr th {\n",
       "        vertical-align: top;\n",
       "    }\n",
       "\n",
       "    .dataframe thead th {\n",
       "        text-align: right;\n",
       "    }\n",
       "</style>\n",
       "<table border=\"1\" class=\"dataframe\">\n",
       "  <thead>\n",
       "    <tr style=\"text-align: right;\">\n",
       "      <th></th>\n",
       "      <th>STATE NAME</th>\n",
       "      <th>TOTAL CONFIRMED</th>\n",
       "      <th>CURED/DISCHARGED/MIGRATED</th>\n",
       "      <th>DEATH</th>\n",
       "      <th>ACTIVE CASES</th>\n",
       "    </tr>\n",
       "  </thead>\n",
       "  <tbody>\n",
       "    <tr>\n",
       "      <th>0</th>\n",
       "      <td>AndhraPradesh</td>\n",
       "      <td>226</td>\n",
       "      <td>1</td>\n",
       "      <td>3</td>\n",
       "      <td>222</td>\n",
       "    </tr>\n",
       "    <tr>\n",
       "      <th>1</th>\n",
       "      <td>AndamanNicobar</td>\n",
       "      <td>10</td>\n",
       "      <td>0</td>\n",
       "      <td>0</td>\n",
       "      <td>10</td>\n",
       "    </tr>\n",
       "    <tr>\n",
       "      <th>2</th>\n",
       "      <td>Bihar</td>\n",
       "      <td>32</td>\n",
       "      <td>0</td>\n",
       "      <td>1</td>\n",
       "      <td>31</td>\n",
       "    </tr>\n",
       "    <tr>\n",
       "      <th>3</th>\n",
       "      <td>Chandigarh</td>\n",
       "      <td>18</td>\n",
       "      <td>7</td>\n",
       "      <td>0</td>\n",
       "      <td>11</td>\n",
       "    </tr>\n",
       "    <tr>\n",
       "      <th>4</th>\n",
       "      <td>Chhattisgarh</td>\n",
       "      <td>10</td>\n",
       "      <td>9</td>\n",
       "      <td>0</td>\n",
       "      <td>1</td>\n",
       "    </tr>\n",
       "  </tbody>\n",
       "</table>\n",
       "</div>"
      ],
      "text/plain": [
       "       STATE NAME  TOTAL CONFIRMED  CURED/DISCHARGED/MIGRATED  DEATH  \\\n",
       "0   AndhraPradesh              226                          1      3   \n",
       "1  AndamanNicobar               10                          0      0   \n",
       "2           Bihar               32                          0      1   \n",
       "3      Chandigarh               18                          7      0   \n",
       "4    Chhattisgarh               10                          9      0   \n",
       "\n",
       "   ACTIVE CASES  \n",
       "0           222  \n",
       "1            10  \n",
       "2            31  \n",
       "3            11  \n",
       "4             1  "
      ]
     },
     "execution_count": 18,
     "metadata": {},
     "output_type": "execute_result"
    }
   ],
   "source": [
    "covid_india.head()"
   ]
  },
  {
   "cell_type": "code",
   "execution_count": 19,
   "metadata": {},
   "outputs": [
    {
     "data": {
      "image/png": "[encoded data removed]",
      "text/plain": [
       "<Figure size 2000x1000 with 1 Axes>"
      ]
     },
     "metadata": {},
     "output_type": "display_data"
    }
   ],
   "source": [
    "plt.figure(figsize=(10,5),dpi=200)\n",
    "\n",
    "#plt.plot(covid_india['STATE NAME'], covid_india['TOTAL CONFIRMED'], label='Math marks', color='r')\n",
    "plt.plot(covid_india['STATE NAME'], covid_india['CURED/DISCHARGED/MIGRATED'], label='CURED/DISCHARGED',marker='*', color='m')\n",
    "plt.plot(covid_india['STATE NAME'], covid_india['DEATH'],marker='*', label='DEATH', color='r')\n",
    "plt.plot(covid_india['STATE NAME'], covid_india['ACTIVE CASES'],marker='*', label='ACTIVE CASES', color='g')\n",
    "\n",
    "plt.xticks(covid_india['STATE NAME'], rotation=90)\n",
    "plt.xlabel('States')\n",
    "plt.ylabel('No of Cases')\n",
    "plt.title('State wise Cases')\n",
    "\n",
    "plt.legend()\n",
    "plt.show()\n",
    "\n"
   ]
  },
  {
   "cell_type": "code",
   "execution_count": null,
   "metadata": {},
   "outputs": [],
   "source": []
  },
  {
   "cell_type": "code",
   "execution_count": null,
   "metadata": {},
   "outputs": [],
   "source": []
  }
 ],
 "metadata": {
  "kernelspec": {
   "display_name": "Python 3",
   "language": "python",
   "name": "python3"
  },
  "language_info": {
   "codemirror_mode": {
    "name": "ipython",
    "version": 3
   },
   "file_extension": ".py",
   "mimetype": "text/x-python",
   "name": "python",
   "nbconvert_exporter": "python",
   "pygments_lexer": "ipython3",
   "version": "3.7.3rc1"
  }
 },
 "nbformat": 4,
 "nbformat_minor": 2
}
